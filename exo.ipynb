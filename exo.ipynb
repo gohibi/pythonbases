{
  "nbformat": 4,
  "nbformat_minor": 0,
  "metadata": {
    "colab": {
      "name": "exo.ipynb",
      "provenance": [],
      "collapsed_sections": [],
      "authorship_tag": "ABX9TyM092uEbqJPEaWM9rizHJ+Z",
      "include_colab_link": true
    },
    "kernelspec": {
      "name": "python3",
      "display_name": "Python 3"
    },
    "language_info": {
      "name": "python"
    }
  },
  "cells": [
    {
      "cell_type": "markdown",
      "metadata": {
        "id": "view-in-github",
        "colab_type": "text"
      },
      "source": [
        "<a href=\"https://colab.research.google.com/github/gohibi/pythonbases/blob/main/exo.ipynb\" target=\"_parent\"><img src=\"https://colab.research.google.com/assets/colab-badge.svg\" alt=\"Open In Colab\"/></a>"
      ]
    },
    {
      "cell_type": "code",
      "metadata": {
        "id": "SUrirJIpi1Ua"
      },
      "source": [
        "notes=[18,25,14,2,3]"
      ],
      "execution_count": null,
      "outputs": []
    },
    {
      "cell_type": "code",
      "metadata": {
        "colab": {
          "base_uri": "https://localhost:8080/"
        },
        "id": "yLNppM8Unc5K",
        "outputId": "7b207674-5dc5-4597-d86f-c5888911d76b"
      },
      "source": [
        "notes.remove(5)"
      ],
      "execution_count": null,
      "outputs": [
        {
          "output_type": "stream",
          "name": "stdout",
          "text": [
            "[18, 25, 14, 2, 3, 5]\n"
          ]
        }
      ]
    },
    {
      "cell_type": "code",
      "metadata": {
        "colab": {
          "base_uri": "https://localhost:8080/"
        },
        "id": "hzcXvfkpnuRW",
        "outputId": "697feadb-e842-4a48-f882-4992698856b7"
      },
      "source": [
        "notes"
      ],
      "execution_count": null,
      "outputs": [
        {
          "output_type": "execute_result",
          "data": {
            "text/plain": [
              "[18, 25, 14, 2, 3, 5]"
            ]
          },
          "metadata": {},
          "execution_count": 10
        }
      ]
    },
    {
      "cell_type": "code",
      "metadata": {
        "colab": {
          "base_uri": "https://localhost:8080/"
        },
        "id": "DoF0aPm9oPJN",
        "outputId": "8d87417b-8e7c-4885-d29b-66d37510e2be"
      },
      "source": [
        "notes.pop(1)"
      ],
      "execution_count": null,
      "outputs": [
        {
          "output_type": "execute_result",
          "data": {
            "text/plain": [
              "25"
            ]
          },
          "metadata": {},
          "execution_count": 11
        }
      ]
    },
    {
      "cell_type": "code",
      "metadata": {
        "colab": {
          "base_uri": "https://localhost:8080/"
        },
        "id": "tXBO3vrJoTP7",
        "outputId": "12caa61d-4148-4cc5-a1b7-e8d859f56a8e"
      },
      "source": [
        "notes"
      ],
      "execution_count": null,
      "outputs": [
        {
          "output_type": "execute_result",
          "data": {
            "text/plain": [
              "[18, 14, 2, 3, 5]"
            ]
          },
          "metadata": {},
          "execution_count": 12
        }
      ]
    },
    {
      "cell_type": "markdown",
      "metadata": {
        "id": "KvuIqVodzPls"
      },
      "source": [
        ""
      ]
    },
    {
      "cell_type": "code",
      "metadata": {
        "id": "UHiLf8O5pPlh"
      },
      "source": [
        "tuples=(4,5,4)"
      ],
      "execution_count": null,
      "outputs": []
    },
    {
      "cell_type": "code",
      "metadata": {
        "colab": {
          "base_uri": "https://localhost:8080/"
        },
        "id": "9aZuyFQvqbuE",
        "outputId": "192a2cd1-24ee-4956-9745-cd4ab23c9a2e"
      },
      "source": [
        "type(tuples)"
      ],
      "execution_count": null,
      "outputs": [
        {
          "output_type": "execute_result",
          "data": {
            "text/plain": [
              "tuple"
            ]
          },
          "metadata": {},
          "execution_count": 23
        }
      ]
    },
    {
      "cell_type": "code",
      "metadata": {
        "id": "yquMR7Ousby7"
      },
      "source": [
        "myapp=[{'py':'python','css':'cascade sheet style','js':'javascript','sci':'scilab'},\n",
        "       {'E':68,'F':69,'H':70,'I':71,'J':72},{'a':97,'b':98,'c':99,'d':100}]"
      ],
      "execution_count": null,
      "outputs": []
    },
    {
      "cell_type": "code",
      "metadata": {
        "colab": {
          "base_uri": "https://localhost:8080/"
        },
        "id": "iLRkFX8tttNm",
        "outputId": "d45cf82c-6884-44b5-de75-d01763c7fd79"
      },
      "source": [
        "myapp"
      ],
      "execution_count": null,
      "outputs": [
        {
          "output_type": "execute_result",
          "data": {
            "text/plain": [
              "[{'css': 'cascade sheet style',\n",
              "  'js': 'javascript',\n",
              "  'py': 'python',\n",
              "  'sci': 'scilab'},\n",
              " {'E': 68, 'F': 69, 'H': 70, 'I': 71, 'J': 72},\n",
              " {'a': 97, 'b': 98, 'c': 99, 'd': 100}]"
            ]
          },
          "metadata": {},
          "execution_count": 25
        }
      ]
    },
    {
      "cell_type": "code",
      "metadata": {
        "colab": {
          "base_uri": "https://localhost:8080/"
        },
        "id": "yyK6g6EPt36e",
        "outputId": "24ab1ad3-a7b1-465f-bfa5-f7e2739a5404"
      },
      "source": [
        "\n",
        "type(myapp[0])"
      ],
      "execution_count": null,
      "outputs": [
        {
          "output_type": "execute_result",
          "data": {
            "text/plain": [
              "dict"
            ]
          },
          "metadata": {},
          "execution_count": 28
        }
      ]
    },
    {
      "cell_type": "code",
      "metadata": {
        "colab": {
          "base_uri": "https://localhost:8080/"
        },
        "id": "o0b39j8WuELr",
        "outputId": "c07245fb-65de-4e83-bae0-3975dd8b9d9c"
      },
      "source": [
        "type(myapp)"
      ],
      "execution_count": null,
      "outputs": [
        {
          "output_type": "execute_result",
          "data": {
            "text/plain": [
              "list"
            ]
          },
          "metadata": {},
          "execution_count": 29
        }
      ]
    },
    {
      "cell_type": "code",
      "metadata": {
        "id": "wHLUHdb8uEbe"
      },
      "source": [
        "ds={'abj':'Abidjan','ymk':'Yamoussokro','bke':'Bouake','dl':'Daloa','bfl':'Bouafle'}"
      ],
      "execution_count": null,
      "outputs": []
    },
    {
      "cell_type": "code",
      "metadata": {
        "id": "gQl4nVvuupqe"
      },
      "source": [
        "myapp.insert(2,ds)"
      ],
      "execution_count": null,
      "outputs": []
    },
    {
      "cell_type": "code",
      "metadata": {
        "colab": {
          "base_uri": "https://localhost:8080/"
        },
        "id": "UUVO7X27u7Qx",
        "outputId": "670b7b44-cabd-4a79-936e-6ae0ce2004e1"
      },
      "source": [
        "myapp"
      ],
      "execution_count": null,
      "outputs": [
        {
          "output_type": "execute_result",
          "data": {
            "text/plain": [
              "[{'css': 'cascade sheet style',\n",
              "  'js': 'javascript',\n",
              "  'py': 'python',\n",
              "  'sci': 'scilab'},\n",
              " {'E': 68, 'F': 69, 'H': 70, 'I': 71, 'J': 72},\n",
              " {'abj': 'Abidjan',\n",
              "  'bfl': 'Bouafle',\n",
              "  'bke': 'Bouake',\n",
              "  'dl': 'Daloa',\n",
              "  'ymk': 'Yamoussokro'},\n",
              " {'a': 97, 'b': 98, 'c': 99, 'd': 100}]"
            ]
          },
          "metadata": {},
          "execution_count": 32
        }
      ]
    },
    {
      "cell_type": "code",
      "metadata": {
        "id": "OqpxcHtIwKL_"
      },
      "source": [
        ""
      ],
      "execution_count": null,
      "outputs": []
    },
    {
      "cell_type": "code",
      "metadata": {
        "id": "QnZbzhArvdGp"
      },
      "source": [
        "ch={2.5:'deux',\n",
        "    3.6:'trois',\n",
        "    5:'cinq'}"
      ],
      "execution_count": null,
      "outputs": []
    },
    {
      "cell_type": "code",
      "metadata": {
        "colab": {
          "base_uri": "https://localhost:8080/"
        },
        "id": "8dzEw_L7vnh-",
        "outputId": "edf77cdf-b63f-41dc-fd2e-542f7d39e6aa"
      },
      "source": [
        "ch"
      ],
      "execution_count": null,
      "outputs": [
        {
          "output_type": "execute_result",
          "data": {
            "text/plain": [
              "{2.5: 'deux', 3.6: 'trois', 5: 'cinq'}"
            ]
          },
          "metadata": {},
          "execution_count": 36
        }
      ]
    },
    {
      "cell_type": "code",
      "metadata": {
        "colab": {
          "base_uri": "https://localhost:8080/"
        },
        "id": "SYrHc4d8wS0l",
        "outputId": "a38deafb-c3ff-47c4-a76c-f91b3b4db92f"
      },
      "source": [
        "ch.items()"
      ],
      "execution_count": null,
      "outputs": [
        {
          "output_type": "execute_result",
          "data": {
            "text/plain": [
              "dict_items([(2.5, 'deux'), (3.6, 'trois'), (5, 'cinq')])"
            ]
          },
          "metadata": {},
          "execution_count": 38
        }
      ]
    },
    {
      "cell_type": "code",
      "metadata": {
        "colab": {
          "base_uri": "https://localhost:8080/"
        },
        "id": "7sgdRFEawWw_",
        "outputId": "546c79eb-4f73-45b0-a903-9d4736716275"
      },
      "source": [
        "ch.keys()"
      ],
      "execution_count": null,
      "outputs": [
        {
          "output_type": "execute_result",
          "data": {
            "text/plain": [
              "dict_keys([2.5, 3.6, 5])"
            ]
          },
          "metadata": {},
          "execution_count": 39
        }
      ]
    },
    {
      "cell_type": "code",
      "metadata": {
        "colab": {
          "base_uri": "https://localhost:8080/"
        },
        "id": "sDiDJk3AwbYS",
        "outputId": "4b1c8c3d-8e9c-4f43-f2ca-7d8e3788faae"
      },
      "source": [
        "ch.values()"
      ],
      "execution_count": null,
      "outputs": [
        {
          "output_type": "execute_result",
          "data": {
            "text/plain": [
              "dict_values(['deux', 'trois', 'cinq'])"
            ]
          },
          "metadata": {},
          "execution_count": 40
        }
      ]
    },
    {
      "cell_type": "code",
      "metadata": {
        "colab": {
          "base_uri": "https://localhost:8080/"
        },
        "id": "KBeEw9kj00fQ",
        "outputId": "5cf78297-cf02-402c-de42-f7121a300f17"
      },
      "source": [
        "[1,2,1]+[5,7,7]"
      ],
      "execution_count": null,
      "outputs": [
        {
          "output_type": "execute_result",
          "data": {
            "text/plain": [
              "[1, 2, 1, 5, 7, 7]"
            ]
          },
          "metadata": {},
          "execution_count": 44
        }
      ]
    },
    {
      "cell_type": "code",
      "metadata": {
        "colab": {
          "base_uri": "https://localhost:8080/"
        },
        "id": "H09AjN2k6ZzM",
        "outputId": "f102ee55-e80d-48ed-91ef-0ea8fe38f54d"
      },
      "source": [
        "note = int(input(\"enter note :\"))\n"
      ],
      "execution_count": null,
      "outputs": [
        {
          "name": "stdout",
          "output_type": "stream",
          "text": [
            "enter note :14\n"
          ]
        }
      ]
    },
    {
      "cell_type": "code",
      "metadata": {
        "colab": {
          "base_uri": "https://localhost:8080/"
        },
        "id": "na6fv2l86n2Y",
        "outputId": "cafd5256-a7c9-45e1-a8c0-858c347fbea4"
      },
      "source": [
        "note"
      ],
      "execution_count": null,
      "outputs": [
        {
          "output_type": "execute_result",
          "data": {
            "text/plain": [
              "6"
            ]
          },
          "metadata": {},
          "execution_count": 57
        }
      ]
    },
    {
      "cell_type": "code",
      "metadata": {
        "colab": {
          "base_uri": "https://localhost:8080/"
        },
        "id": "iz7oxH7y6vtF",
        "outputId": "53b31d51-d180-4e8c-d6f1-4891fb2c4bca"
      },
      "source": [
        "if 0<note<10:\n",
        "  print('insuffisante')\n",
        "elif 10<note<12:\n",
        "  print('passable')\n",
        "elif 12<note<15:\n",
        "  print('assez bien')\n",
        "elif 15<note<18:\n",
        "  print('bien')\n",
        "else:\n",
        "  print('excellent')"
      ],
      "execution_count": null,
      "outputs": [
        {
          "output_type": "stream",
          "name": "stdout",
          "text": [
            "assez bien\n"
          ]
        }
      ]
    }
  ]
}