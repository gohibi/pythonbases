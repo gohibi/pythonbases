{
  "nbformat": 4,
  "nbformat_minor": 0,
  "metadata": {
    "colab": {
      "name": "random.ipynb",
      "provenance": [],
      "collapsed_sections": [],
      "authorship_tag": "ABX9TyOTNrnZxyLLthfmwJyzopAl",
      "include_colab_link": true
    },
    "kernelspec": {
      "name": "python3",
      "display_name": "Python 3"
    },
    "language_info": {
      "name": "python"
    }
  },
  "cells": [
    {
      "cell_type": "markdown",
      "metadata": {
        "id": "view-in-github",
        "colab_type": "text"
      },
      "source": [
        "<a href=\"https://colab.research.google.com/github/gohibi/pythonbases/blob/main/random.ipynb\" target=\"_parent\"><img src=\"https://colab.research.google.com/assets/colab-badge.svg\" alt=\"Open In Colab\"/></a>"
      ]
    },
    {
      "cell_type": "markdown",
      "metadata": {
        "id": "s65-xNKexXUw"
      },
      "source": [
        "\n",
        "Ecris une fonction nommée devinette qui ne prend aucun argument. Quand on l'exécute, elle choisit un nombre aléatoire en 0 et 100 (inclus)et demande à l'utilisateur de deviner ce nombre.A chaque fois que l'utilisateur entre un nombre, le programme affiche l'une de ces phrases :\n",
        "1.   Trop grand\n",
        "2.   Trop petit\n",
        "3.   Exact\n",
        "\n",
        "Si l'utilisateur a choisit correctement, le programme s'arrete. Sinon, le programme demande encore à l'utilisateur de rentrer un nouveau nombre jusqu'à ce qu'il trouve la bonne solution et s'arrête"
      ]
    },
    {
      "cell_type": "code",
      "metadata": {
        "id": "I1misEqYxFW5"
      },
      "source": [
        "import random\n",
        "def devinette():\n",
        "  rand = random.randint(0,100)\n",
        "  appreciation= \"?\"\n",
        "  while True :\n",
        "    var=int(input('entrer le nombre devine :'))\n",
        "    if var  > rand :\n",
        "      appreciation='trop grand'\n",
        "      print(f'{var} est {appreciation}')\n",
        "    elif var < rand:\n",
        "      appreciation = 'trop petit'\n",
        "      print(f'{var} est {appreciation}')\n",
        "    else:\n",
        "      appreciation = 'exactement'\n",
        "      print(f'{var} est {appreciation} le nombre devine')\n",
        "      break"
      ],
      "execution_count": 26,
      "outputs": []
    },
    {
      "cell_type": "code",
      "metadata": {
        "colab": {
          "base_uri": "https://localhost:8080/"
        },
        "id": "z-24wQOUHtrG",
        "outputId": "5c1ea4b5-b29c-4a61-a1a9-7d8f4c1b483b"
      },
      "source": [
        "devinette()"
      ],
      "execution_count": 27,
      "outputs": [
        {
          "output_type": "stream",
          "name": "stdout",
          "text": [
            "entrer le nombre devine :12\n",
            "12 est trop petit\n",
            "entrer le nombre devine :02\n",
            "2 est trop petit\n",
            "entrer le nombre devine :20\n",
            "20 est trop petit\n",
            "entrer le nombre devine :30\n",
            "30 est trop petit\n",
            "entrer le nombre devine :40\n",
            "40 est trop petit\n",
            "entrer le nombre devine :50\n",
            "50 est trop petit\n",
            "entrer le nombre devine :60\n",
            "60 est trop petit\n",
            "entrer le nombre devine :70\n",
            "70 est trop petit\n",
            "entrer le nombre devine :80\n",
            "80 est trop petit\n",
            "entrer le nombre devine :90\n",
            "90 est trop grand\n",
            "entrer le nombre devine :82\n",
            "82 est trop petit\n",
            "entrer le nombre devine :85\n",
            "85 est exactement le nombre devine\n"
          ]
        }
      ]
    },
    {
      "cell_type": "markdown",
      "metadata": {
        "id": "bdey7wEF9tL8"
      },
      "source": [
        "\n",
        "Reprend ton code pour le programme précédent. Modifie le pour donner seulement 3 chances à l'utilisateur pour deviner le nombre aléatoire choisit. Après 3 tentatives echouées, le programme s'arrête et affiche à l'utilisateur qu'il a épuisé ses chances.\n"
      ]
    },
    {
      "cell_type": "code",
      "metadata": {
        "id": "TMMigOGnzGwW"
      },
      "source": [
        "def devinettenew():\n",
        "  appreciation=\"?\"\n",
        "  nbr_max_tentatives = 5\n",
        "  nbr_tentatives = 1\n",
        "  rand = random.randint(0,100)\n",
        "  var=0\n",
        "  while var != rand and nbr_tentatives <= nbr_max_tentatives:\n",
        "    print('No essais :',nbr_tentatives)\n",
        "    var = int(input('entrer le nombre a deviner :'))\n",
        "    if var < rand :\n",
        "      appreciation='trop petit'\n",
        "      print(f'{var} est {appreciation}')\n",
        "    elif var > rand :\n",
        "      appreciation = 'trop grand'\n",
        "      print(f'{var} est {appreciation}')\n",
        "    else:\n",
        "      appreciation='exactement'\n",
        "      print(f'bravo ! {var} est {appreciation} le nombre recherche')\n",
        "      break\n",
        "    nbr_tentatives += 1\n",
        "  if nbr_tentatives > nbr_max_tentatives and var != rand:\n",
        "    print(f'vous avez utilise vos {nbr_max_tentatives} essais en vain')\n"
      ],
      "execution_count": 30,
      "outputs": []
    },
    {
      "cell_type": "code",
      "metadata": {
        "colab": {
          "base_uri": "https://localhost:8080/"
        },
        "id": "s38aN2qh-6n4",
        "outputId": "27252ade-bb23-4493-d04e-c587d1ff5527"
      },
      "source": [
        "devinettenew()"
      ],
      "execution_count": 31,
      "outputs": [
        {
          "output_type": "stream",
          "name": "stdout",
          "text": [
            "No essais : 1\n",
            "entrer le nombre a deviner :5\n",
            "5 est trop petit\n",
            "No essais : 2\n",
            "entrer le nombre a deviner :4\n",
            "4 est trop petit\n",
            "No essais : 3\n",
            "entrer le nombre a deviner :30\n",
            "30 est trop grand\n",
            "No essais : 4\n",
            "entrer le nombre a deviner :24\n",
            "24 est trop grand\n",
            "No essais : 5\n",
            "entrer le nombre a deviner :16\n",
            "16 est trop petit\n",
            "vous avez utilise vos 5 essais en vain\n"
          ]
        }
      ]
    }
  ]
}