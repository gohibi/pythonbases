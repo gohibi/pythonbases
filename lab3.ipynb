{
  "nbformat": 4,
  "nbformat_minor": 0,
  "metadata": {
    "colab": {
      "name": "lab3",
      "provenance": [],
      "collapsed_sections": [],
      "authorship_tag": "ABX9TyODQ/TJ1vdkRQLluHXXxWGu",
      "include_colab_link": true
    },
    "kernelspec": {
      "display_name": "Python 3",
      "name": "python3"
    },
    "language_info": {
      "name": "python"
    }
  },
  "cells": [
    {
      "cell_type": "markdown",
      "metadata": {
        "id": "view-in-github",
        "colab_type": "text"
      },
      "source": [
        "<a href=\"https://colab.research.google.com/github/gohibi/pythonbases/blob/main/lab3.ipynb\" target=\"_parent\"><img src=\"https://colab.research.google.com/assets/colab-badge.svg\" alt=\"Open In Colab\"/></a>"
      ]
    },
    {
      "cell_type": "code",
      "metadata": {
        "id": "j7u1hlNKah9K"
      },
      "source": [
        "import pandas as pd\n",
        "import numpy as np\n",
        "from matplotlib import pyplot as plt\n",
        "import seaborn as sns\n",
        "from scipy import stats\n",
        "from scipy.stats import norm\n",
        "import math\n",
        "\n"
      ],
      "execution_count": 4,
      "outputs": []
    },
    {
      "cell_type": "code",
      "metadata": {
        "colab": {
          "base_uri": "https://localhost:8080/",
          "height": 363
        },
        "id": "G2qwoToxPJLX",
        "outputId": "d5367bf9-3a9e-4768-f05d-9915f270f874"
      },
      "source": [
        "data={'X':[39,42,53,70,75,90,110,115,150,170],\n",
        "      'Y':[1.3,1.3,0.9,2.2,2.2,2.2,2.8,2.4,2.5,2.6]}\n",
        "data=pd.DataFrame(data)\n",
        "display(data)"
      ],
      "execution_count": 5,
      "outputs": [
        {
          "output_type": "display_data",
          "data": {
            "text/html": [
              "<div>\n",
              "<style scoped>\n",
              "    .dataframe tbody tr th:only-of-type {\n",
              "        vertical-align: middle;\n",
              "    }\n",
              "\n",
              "    .dataframe tbody tr th {\n",
              "        vertical-align: top;\n",
              "    }\n",
              "\n",
              "    .dataframe thead th {\n",
              "        text-align: right;\n",
              "    }\n",
              "</style>\n",
              "<table border=\"1\" class=\"dataframe\">\n",
              "  <thead>\n",
              "    <tr style=\"text-align: right;\">\n",
              "      <th></th>\n",
              "      <th>X</th>\n",
              "      <th>Y</th>\n",
              "    </tr>\n",
              "  </thead>\n",
              "  <tbody>\n",
              "    <tr>\n",
              "      <th>0</th>\n",
              "      <td>39</td>\n",
              "      <td>1.3</td>\n",
              "    </tr>\n",
              "    <tr>\n",
              "      <th>1</th>\n",
              "      <td>42</td>\n",
              "      <td>1.3</td>\n",
              "    </tr>\n",
              "    <tr>\n",
              "      <th>2</th>\n",
              "      <td>53</td>\n",
              "      <td>0.9</td>\n",
              "    </tr>\n",
              "    <tr>\n",
              "      <th>3</th>\n",
              "      <td>70</td>\n",
              "      <td>2.2</td>\n",
              "    </tr>\n",
              "    <tr>\n",
              "      <th>4</th>\n",
              "      <td>75</td>\n",
              "      <td>2.2</td>\n",
              "    </tr>\n",
              "    <tr>\n",
              "      <th>5</th>\n",
              "      <td>90</td>\n",
              "      <td>2.2</td>\n",
              "    </tr>\n",
              "    <tr>\n",
              "      <th>6</th>\n",
              "      <td>110</td>\n",
              "      <td>2.8</td>\n",
              "    </tr>\n",
              "    <tr>\n",
              "      <th>7</th>\n",
              "      <td>115</td>\n",
              "      <td>2.4</td>\n",
              "    </tr>\n",
              "    <tr>\n",
              "      <th>8</th>\n",
              "      <td>150</td>\n",
              "      <td>2.5</td>\n",
              "    </tr>\n",
              "    <tr>\n",
              "      <th>9</th>\n",
              "      <td>170</td>\n",
              "      <td>2.6</td>\n",
              "    </tr>\n",
              "  </tbody>\n",
              "</table>\n",
              "</div>"
            ],
            "text/plain": [
              "     X    Y\n",
              "0   39  1.3\n",
              "1   42  1.3\n",
              "2   53  0.9\n",
              "3   70  2.2\n",
              "4   75  2.2\n",
              "5   90  2.2\n",
              "6  110  2.8\n",
              "7  115  2.4\n",
              "8  150  2.5\n",
              "9  170  2.6"
            ]
          },
          "metadata": {}
        }
      ]
    },
    {
      "cell_type": "markdown",
      "metadata": {
        "id": "t4I7IzE7PgyT"
      },
      "source": [
        "1.\tПостроить корреляционное поле. По характеру расположения точек в корреляционном поле выбрать вид регрессии."
      ]
    },
    {
      "cell_type": "code",
      "metadata": {
        "colab": {
          "base_uri": "https://localhost:8080/",
          "height": 279
        },
        "id": "_uYO9V0uPdnC",
        "outputId": "000a8703-cd63-43c5-c0ed-469868bf2198"
      },
      "source": [
        "ax=sns.scatterplot(x=data['X'],y=data['Y'],data=data)\n"
      ],
      "execution_count": 6,
      "outputs": [
        {
          "output_type": "display_data",
          "data": {
            "image/png": "[encoded data removed]",
            "text/plain": [
              "<Figure size 432x288 with 1 Axes>"
            ]
          },
          "metadata": {
            "needs_background": "light"
          }
        }
      ]
    },
    {
      "cell_type": "markdown",
      "metadata": {
        "id": "XSr_kFqpsIRL"
      },
      "source": [
        "1.\tВычислить числовые характеристики \n",
        "\n"
      ]
    },
    {
      "cell_type": "code",
      "metadata": {
        "colab": {
          "base_uri": "https://localhost:8080/"
        },
        "id": "Bd2Et8AdsEoz",
        "outputId": "25cb69ae-2cd1-4406-d85e-04acfee1a46f"
      },
      "source": [
        "n=len(data)\n",
        "print(n)"
      ],
      "execution_count": 8,
      "outputs": [
        {
          "output_type": "stream",
          "name": "stdout",
          "text": [
            "10\n"
          ]
        }
      ]
    },
    {
      "cell_type": "code",
      "metadata": {
        "colab": {
          "base_uri": "https://localhost:8080/"
        },
        "id": "dF_Y8U84Pp1v",
        "outputId": "cdca749f-eb4c-40b7-b9ac-558497a6eee8"
      },
      "source": [
        "Som_X=data['X'].sum()\n",
        "print('Som X =',Som_X)"
      ],
      "execution_count": 9,
      "outputs": [
        {
          "output_type": "stream",
          "name": "stdout",
          "text": [
            "Som X = 914\n"
          ]
        }
      ]
    },
    {
      "cell_type": "code",
      "metadata": {
        "colab": {
          "base_uri": "https://localhost:8080/"
        },
        "id": "CshrwLvgrpmG",
        "outputId": "cb3a6e47-7bf3-456b-81ef-be7e42ed5951"
      },
      "source": [
        "Som_Y=data['Y'].sum()\n",
        "print('Som Y =',Som_Y)"
      ],
      "execution_count": 10,
      "outputs": [
        {
          "output_type": "stream",
          "name": "stdout",
          "text": [
            "Som Y = 20.400000000000002\n"
          ]
        }
      ]
    },
    {
      "cell_type": "code",
      "metadata": {
        "colab": {
          "base_uri": "https://localhost:8080/"
        },
        "id": "6EoDczQcsRtk",
        "outputId": "d4f60d53-97e3-4321-a23a-a496922a36b7"
      },
      "source": [
        "X_mean=Som_X/n\n",
        "print(f'X_mean={X_mean}')"
      ],
      "execution_count": 11,
      "outputs": [
        {
          "output_type": "stream",
          "name": "stdout",
          "text": [
            "X_mean=91.4\n"
          ]
        }
      ]
    },
    {
      "cell_type": "code",
      "metadata": {
        "colab": {
          "base_uri": "https://localhost:8080/"
        },
        "id": "s1V1P-9kseMR",
        "outputId": "9285c3df-fadf-4d69-caca-091d9742d1f1"
      },
      "source": [
        "Y_mean=Som_Y/n\n",
        "print(f'Y_mean={Y_mean}')"
      ],
      "execution_count": 12,
      "outputs": [
        {
          "output_type": "stream",
          "name": "stdout",
          "text": [
            "Y_mean=2.04\n"
          ]
        }
      ]
    },
    {
      "cell_type": "code",
      "metadata": {
        "colab": {
          "base_uri": "https://localhost:8080/"
        },
        "id": "pNQW6ZfkteaS",
        "outputId": "ad9ef635-2ce1-437e-dace-1195928a95c8"
      },
      "source": [
        "sum_x=sum((data['X']-X_mean)**2)\n",
        "Sx=np.sqrt(sum_x/(n-1))\n",
        "print(f'Sx={Sx}')"
      ],
      "execution_count": 13,
      "outputs": [
        {
          "output_type": "stream",
          "name": "stdout",
          "text": [
            "Sx=44.60244138808747\n"
          ]
        }
      ]
    },
    {
      "cell_type": "code",
      "metadata": {
        "colab": {
          "base_uri": "https://localhost:8080/"
        },
        "id": "xch4vWP3tF9o",
        "outputId": "95450a82-6c87-450c-a4ed-6d6f54cbe5d7"
      },
      "source": [
        "sum_y=sum((data['Y']-Y_mean)**2)\n",
        "Sy=np.sqrt(sum_y/(n-1))\n",
        "print(f'Sy={Sy}')"
      ],
      "execution_count": 16,
      "outputs": [
        {
          "output_type": "stream",
          "name": "stdout",
          "text": [
            "Sy=0.6415259585983684\n"
          ]
        }
      ]
    },
    {
      "cell_type": "code",
      "metadata": {
        "colab": {
          "base_uri": "https://localhost:8080/"
        },
        "id": "pe6wOXOguD9G",
        "outputId": "fe80395b-65be-46bb-dd13-eed6dffdb40a"
      },
      "source": [
        "r=data['X'].corr(data['Y'])\n",
        "print('r =',r)"
      ],
      "execution_count": 17,
      "outputs": [
        {
          "output_type": "stream",
          "name": "stdout",
          "text": [
            "r = 0.8016383315855075\n"
          ]
        }
      ]
    },
    {
      "cell_type": "code",
      "metadata": {
        "colab": {
          "base_uri": "https://localhost:8080/"
        },
        "id": "f_2D-9wpr9a6",
        "outputId": "9ed7c46d-257f-4237-9183-e7c907c1b158"
      },
      "source": [
        "if r<0:\n",
        "  print('отрицательной корреляции.')\n",
        "else:\n",
        "  print('положительной корреляции величин X, Y')\n",
        "print()\n",
        "print( '0.75 <',r,'< 0.95','линейной связи сильная')\n"
      ],
      "execution_count": null,
      "outputs": [
        {
          "output_type": "stream",
          "name": "stdout",
          "text": [
            "положительной корреляции величин X, Y\n",
            "\n",
            "0.75 < 0.8016383315855075 < 0.95 линейной связи сильная\n"
          ]
        }
      ]
    },
    {
      "cell_type": "markdown",
      "metadata": {
        "id": "f1UtKLLRQ659"
      },
      "source": [
        "3. Определить значимость коэффициента корреляции rи найти для него доверительный интервал с надежностью γ=0,95"
      ]
    },
    {
      "cell_type": "code",
      "metadata": {
        "colab": {
          "base_uri": "https://localhost:8080/"
        },
        "id": "vsBemF8GQqsI",
        "outputId": "360310a9-8489-4f70-fef7-89f15cd08281"
      },
      "source": [
        "t=(abs(r)*np.sqrt(n-2))/(np.sqrt(1-r**2))\n",
        "alpha=0.05\n",
        "tkp=stats.t.ppf(1-alpha/2, n-2)\n",
        "if t<tkp :\n",
        "  print(f'гипотеза Н0 принимается :{t}<{tkp}')\n",
        "else:\n",
        "  print(f' гипотеза Н0 отклоняется :{t}>{tkp}')\n",
        "arctanh_r =np.arctanh(r)\n",
        "u=norm.cdf(1-0.05/2)\n",
        "left_ro=arctanh_r - (u/np.sqrt(n-3))\n",
        "right_ro=arctanh_r + (u/np.sqrt(n-3))\n",
        "print(np.tanh(left_ro),'< ro <', np.tanh(right_ro))"
      ],
      "execution_count": 18,
      "outputs": [
        {
          "output_type": "stream",
          "name": "stdout",
          "text": [
            " гипотеза Н0 отклоняется :3.7928073689828925>2.3060041350333704\n",
            "0.656988432539882 < ro < 0.8893615550845253\n"
          ]
        }
      ]
    },
    {
      "cell_type": "markdown",
      "metadata": {
        "id": "P_wB7xzuVpsm"
      },
      "source": [
        "4.Найти эмпирическое уравнение регрессий Y на Х и X на Y. Проверить гипотезы о значимости коэффициентов регрессии и построить доверительные интервалы для них"
      ]
    },
    {
      "cell_type": "code",
      "metadata": {
        "colab": {
          "base_uri": "https://localhost:8080/"
        },
        "id": "py4yxDUYQ25X",
        "outputId": "2fde311b-6fd5-4396-b00e-2c544fbcdcc0"
      },
      "source": [
        "print('уравнение регрессий Y на Х : y = a+bx')\n",
        "b= r*(Sy/Sx)\n",
        "a=Y_mean-(r*(Sy/Sx)*(X_mean))\n",
        "print('y ={}+{}x'.format(a.round(3),b.round(3)))"
      ],
      "execution_count": 19,
      "outputs": [
        {
          "output_type": "stream",
          "name": "stdout",
          "text": [
            "уравнение регрессий Y на Х : y = a+bx\n",
            "y =0.986+0.012x\n"
          ]
        }
      ]
    },
    {
      "cell_type": "code",
      "metadata": {
        "colab": {
          "base_uri": "https://localhost:8080/"
        },
        "id": "AjboBzocKNiC",
        "outputId": "57203f56-9bb6-4c7e-bbc0-dea3d8a7fc93"
      },
      "source": [
        "print('уравнение регрессий X на Y : x = a+by')\n",
        "bb=round((r*(Sx/Sy)),3)\n",
        "aa=round((X_mean - (r*(Sx/Sy)*Y_mean)),3)\n",
        "print(f'x={aa}+{bb}y')"
      ],
      "execution_count": 82,
      "outputs": [
        {
          "output_type": "stream",
          "name": "stdout",
          "text": [
            "уравнение регрессий X на Y : x = a+by\n",
            "x=-22.298+55.734y\n"
          ]
        }
      ]
    },
    {
      "cell_type": "code",
      "metadata": {
        "colab": {
          "base_uri": "https://localhost:8080/"
        },
        "id": "Gt8H7knvIpB8",
        "outputId": "ce838050-045f-4911-c597-003f9b7923ab"
      },
      "source": [
        "Tb=stats.t.ppf((1+alpha)/2, n-2)\n",
        "s=Sx\n",
        "sm=[round(np.power((data.loc[i,'Y']-a-(b*data.loc[i,'X'])),2),6) for i in range(len(data))]\n",
        "S_2=round(sum(sm)/(n-2),6)\n",
        "print(S_2)\n",
        "S=np.sqrt(S_2)\n",
        "Sbeta = S/(s**2*np.sqrt(n-1))\n",
        "print(f'{(b-(Tb*Sbeta)).round(6)}  < beta < {(b+(Tb*Sbeta)).round(6)}')"
      ],
      "execution_count": 126,
      "outputs": [
        {
          "output_type": "stream",
          "name": "stdout",
          "text": [
            "0.165465\n",
            "0.011526  < beta < 0.011535\n"
          ]
        }
      ]
    },
    {
      "cell_type": "code",
      "metadata": {
        "colab": {
          "base_uri": "https://localhost:8080/"
        },
        "id": "aZCLBw1b2hb8",
        "outputId": "48468059-a0ec-4b54-d688-e69ae934f9f0"
      },
      "source": [
        "Steta=S*np.sqrt((1/n)+(X_mean/((n-1)*s**2)))\n",
        "print(f'{(a-(Tb*Steta)).round(6)} < teta < {(a+(Tb*Steta)).round(6)}')"
      ],
      "execution_count": 127,
      "outputs": [
        {
          "output_type": "stream",
          "name": "stdout",
          "text": [
            "0.977614 < teta < 0.994679\n"
          ]
        }
      ]
    },
    {
      "cell_type": "markdown",
      "metadata": {
        "id": "o5PMhFX5c7oG"
      },
      "source": [
        "5. Вычислить коэффициент детерминации R2 и объяснить его смысловое значение."
      ]
    },
    {
      "cell_type": "code",
      "metadata": {
        "id": "BRQakUbNc7Im"
      },
      "source": [
        "#f=0.986+0.012x\n",
        "f=[0.986 + 0.012 * data.loc[i, 'X'] for i in range(len(data))]\n",
        "data['f']=f\n",
        "\n",
        "\n"
      ],
      "execution_count": 20,
      "outputs": []
    },
    {
      "cell_type": "code",
      "metadata": {
        "colab": {
          "base_uri": "https://localhost:8080/",
          "height": 363
        },
        "id": "sAy1fchDjaRT",
        "outputId": "e45c12bd-42b3-46f9-cb17-d8c389ba1a82"
      },
      "source": [
        "data"
      ],
      "execution_count": 21,
      "outputs": [
        {
          "output_type": "execute_result",
          "data": {
            "text/html": [
              "<div>\n",
              "<style scoped>\n",
              "    .dataframe tbody tr th:only-of-type {\n",
              "        vertical-align: middle;\n",
              "    }\n",
              "\n",
              "    .dataframe tbody tr th {\n",
              "        vertical-align: top;\n",
              "    }\n",
              "\n",
              "    .dataframe thead th {\n",
              "        text-align: right;\n",
              "    }\n",
              "</style>\n",
              "<table border=\"1\" class=\"dataframe\">\n",
              "  <thead>\n",
              "    <tr style=\"text-align: right;\">\n",
              "      <th></th>\n",
              "      <th>X</th>\n",
              "      <th>Y</th>\n",
              "      <th>f</th>\n",
              "    </tr>\n",
              "  </thead>\n",
              "  <tbody>\n",
              "    <tr>\n",
              "      <th>0</th>\n",
              "      <td>39</td>\n",
              "      <td>1.3</td>\n",
              "      <td>1.454</td>\n",
              "    </tr>\n",
              "    <tr>\n",
              "      <th>1</th>\n",
              "      <td>42</td>\n",
              "      <td>1.3</td>\n",
              "      <td>1.490</td>\n",
              "    </tr>\n",
              "    <tr>\n",
              "      <th>2</th>\n",
              "      <td>53</td>\n",
              "      <td>0.9</td>\n",
              "      <td>1.622</td>\n",
              "    </tr>\n",
              "    <tr>\n",
              "      <th>3</th>\n",
              "      <td>70</td>\n",
              "      <td>2.2</td>\n",
              "      <td>1.826</td>\n",
              "    </tr>\n",
              "    <tr>\n",
              "      <th>4</th>\n",
              "      <td>75</td>\n",
              "      <td>2.2</td>\n",
              "      <td>1.886</td>\n",
              "    </tr>\n",
              "    <tr>\n",
              "      <th>5</th>\n",
              "      <td>90</td>\n",
              "      <td>2.2</td>\n",
              "      <td>2.066</td>\n",
              "    </tr>\n",
              "    <tr>\n",
              "      <th>6</th>\n",
              "      <td>110</td>\n",
              "      <td>2.8</td>\n",
              "      <td>2.306</td>\n",
              "    </tr>\n",
              "    <tr>\n",
              "      <th>7</th>\n",
              "      <td>115</td>\n",
              "      <td>2.4</td>\n",
              "      <td>2.366</td>\n",
              "    </tr>\n",
              "    <tr>\n",
              "      <th>8</th>\n",
              "      <td>150</td>\n",
              "      <td>2.5</td>\n",
              "      <td>2.786</td>\n",
              "    </tr>\n",
              "    <tr>\n",
              "      <th>9</th>\n",
              "      <td>170</td>\n",
              "      <td>2.6</td>\n",
              "      <td>3.026</td>\n",
              "    </tr>\n",
              "  </tbody>\n",
              "</table>\n",
              "</div>"
            ],
            "text/plain": [
              "     X    Y      f\n",
              "0   39  1.3  1.454\n",
              "1   42  1.3  1.490\n",
              "2   53  0.9  1.622\n",
              "3   70  2.2  1.826\n",
              "4   75  2.2  1.886\n",
              "5   90  2.2  2.066\n",
              "6  110  2.8  2.306\n",
              "7  115  2.4  2.366\n",
              "8  150  2.5  2.786\n",
              "9  170  2.6  3.026"
            ]
          },
          "metadata": {},
          "execution_count": 21
        }
      ]
    },
    {
      "cell_type": "code",
      "metadata": {
        "id": "d_JA33CykPIs"
      },
      "source": [
        "#R² = 1 – (Sum of 1 to n de (y_i – f(x_i))**2)/(Sum of 1 to n de (y_i – y_bar)**2)\n",
        "\n",
        "SCR = sum((data['Y'].values-data['f'].values)**2)\n",
        "SCT = sum((data['Y'].values-Y_mean)**2)"
      ],
      "execution_count": 22,
      "outputs": []
    },
    {
      "cell_type": "code",
      "metadata": {
        "colab": {
          "base_uri": "https://localhost:8080/"
        },
        "id": "XeiJu3HwmrSS",
        "outputId": "e3e53a41-a0ed-40f4-df21-14d6c72fa44d"
      },
      "source": [
        "SCR"
      ],
      "execution_count": 23,
      "outputs": [
        {
          "output_type": "execute_result",
          "data": {
            "text/plain": [
              "1.3459919999999994"
            ]
          },
          "metadata": {},
          "execution_count": 23
        }
      ]
    },
    {
      "cell_type": "code",
      "metadata": {
        "colab": {
          "base_uri": "https://localhost:8080/"
        },
        "id": "AVkANIZLmvxh",
        "outputId": "6d5291e3-5f03-4b95-8986-1b66ed89188f"
      },
      "source": [
        "SCT"
      ],
      "execution_count": 24,
      "outputs": [
        {
          "output_type": "execute_result",
          "data": {
            "text/plain": [
              "3.703999999999999"
            ]
          },
          "metadata": {},
          "execution_count": 24
        }
      ]
    },
    {
      "cell_type": "code",
      "metadata": {
        "colab": {
          "base_uri": "https://localhost:8080/"
        },
        "id": "HwV3ooC2nDFr",
        "outputId": "6183f5c5-24f5-4749-8499-465d547b0a2d"
      },
      "source": [
        "R_2=round((1-(SCR/SCT)),6)\n",
        "print(f'коэффициент детерминации R2 = {R_2} \\n')\n",
        "print('Значение R2 должно находиться в диапазоне от нуля до единицы: 0 ≤ R2 ≤ 1 \\n')\n",
        "print('Модель считается более качественной, если значение коэффициента детерминации близко к 1 \\n')\n",
        "print('R² приближается к 1, облако точек сужается вокруг линии регрессии и зависимость сильная.')\n"
      ],
      "execution_count": 40,
      "outputs": [
        {
          "output_type": "stream",
          "name": "stdout",
          "text": [
            "коэффициент детерминации R2 = 0.636611 \n",
            "\n",
            "Значение R2 должно находиться в диапазоне от нуля до единицы: 0 ≤ R2 ≤ 1 \n",
            "\n",
            "Модель считается более качественной, если значение коэффициента детерминации близко к 1 \n",
            "\n",
            "R² приближается к 1, облако точек сужается вокруг линии регрессии и зависимость сильная.\n"
          ]
        }
      ]
    },
    {
      "cell_type": "markdown",
      "metadata": {
        "id": "rXJ2_Hg73YSj"
      },
      "source": [
        "6.\tПроверить адекватность уравнения регрессии Y на X.\n"
      ]
    },
    {
      "cell_type": "code",
      "metadata": {
        "id": "KlfaY-IQ2Mm7"
      },
      "source": [
        "import scipy.stats\n",
        "#y =0.986+0.012x\n",
        "Fвыб = (R_2*(n-2)/(1-R_2)).round(6)\n",
        "Fкр = scipy.stats.f.isf(0.05, 1, n-2).round(6)\n",
        "\n"
      ],
      "execution_count": 46,
      "outputs": []
    },
    {
      "cell_type": "code",
      "metadata": {
        "colab": {
          "base_uri": "https://localhost:8080/"
        },
        "id": "HwNgDo385rxd",
        "outputId": "0483c32e-4484-4423-8b94-f02d2572f767"
      },
      "source": [
        "Fвыб"
      ],
      "execution_count": 47,
      "outputs": [
        {
          "output_type": "execute_result",
          "data": {
            "text/plain": [
              "14.014976"
            ]
          },
          "metadata": {},
          "execution_count": 47
        }
      ]
    },
    {
      "cell_type": "code",
      "metadata": {
        "colab": {
          "base_uri": "https://localhost:8080/"
        },
        "id": "gBJMkGsy5vMz",
        "outputId": "89741cf4-b721-49a1-89cc-74e78e3080d7"
      },
      "source": [
        "Fкр\n"
      ],
      "execution_count": 48,
      "outputs": [
        {
          "output_type": "execute_result",
          "data": {
            "text/plain": [
              "5.317655"
            ]
          },
          "metadata": {},
          "execution_count": 48
        }
      ]
    },
    {
      "cell_type": "code",
      "metadata": {
        "colab": {
          "base_uri": "https://localhost:8080/"
        },
        "id": "uND5DtWi66rQ",
        "outputId": "01701a2f-6ffe-46a0-bf6b-f52411c09b49"
      },
      "source": [
        "print(f'{Fвыб} > {Fкр} ')\n",
        "print(f'делаем вывод о том, что полученное уравнение линейной регрессии y =0.986+0.012x статистически значимо описывает результаты эксперимента.')"
      ],
      "execution_count": 49,
      "outputs": [
        {
          "output_type": "stream",
          "name": "stdout",
          "text": [
            "14.014976 > 5.317655 \n",
            "делаем вывод о том, что полученное уравнение линейной регрессии y =0.986+0.012x статистически значимо описывает результаты эксперимента.\n"
          ]
        }
      ]
    }
  ]
}