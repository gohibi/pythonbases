{
  "nbformat": 4,
  "nbformat_minor": 0,
  "metadata": {
    "colab": {
      "name": "labo5.ipynb",
      "provenance": [],
      "collapsed_sections": [],
      "authorship_tag": "ABX9TyPB3Faim4yIlmBPal9mQGNf",
      "include_colab_link": true
    },
    "kernelspec": {
      "name": "python3",
      "display_name": "Python 3"
    },
    "language_info": {
      "name": "python"
    }
  },
  "cells": [
    {
      "cell_type": "markdown",
      "metadata": {
        "id": "view-in-github",
        "colab_type": "text"
      },
      "source": [
        "<a href=\"https://colab.research.google.com/github/gohibi/pythonbases/blob/main/labo5.ipynb\" target=\"_parent\"><img src=\"https://colab.research.google.com/assets/colab-badge.svg\" alt=\"Open In Colab\"/></a>"
      ]
    },
    {
      "cell_type": "code",
      "metadata": {
        "id": "RwB--zKljNZ_"
      },
      "source": [
        "import pandas as pd\n",
        "import numpy as np\n",
        "import matplotlib.pyplot as plt\n"
      ],
      "execution_count": 99,
      "outputs": []
    },
    {
      "cell_type": "code",
      "metadata": {
        "id": "bY-h2CEOi23j"
      },
      "source": [
        "data = {'X':[1 ,1.5 ,2.5 ,3.5 ,4.5 ,5.5 ,6.5 ],\n",
        "        'Y':[4, 6, 6.8, 7.9, 8.7, 9, 9.5]}\n",
        "meta=pd.DataFrame(data)"
      ],
      "execution_count": 100,
      "outputs": []
    },
    {
      "cell_type": "code",
      "metadata": {
        "colab": {
          "base_uri": "https://localhost:8080/",
          "height": 269
        },
        "id": "4ylDVJsElaZF",
        "outputId": "3b81a935-03d4-4341-83ff-09baef232345"
      },
      "source": [
        "meta"
      ],
      "execution_count": 101,
      "outputs": [
        {
          "output_type": "execute_result",
          "data": {
            "text/html": [
              "<div>\n",
              "<style scoped>\n",
              "    .dataframe tbody tr th:only-of-type {\n",
              "        vertical-align: middle;\n",
              "    }\n",
              "\n",
              "    .dataframe tbody tr th {\n",
              "        vertical-align: top;\n",
              "    }\n",
              "\n",
              "    .dataframe thead th {\n",
              "        text-align: right;\n",
              "    }\n",
              "</style>\n",
              "<table border=\"1\" class=\"dataframe\">\n",
              "  <thead>\n",
              "    <tr style=\"text-align: right;\">\n",
              "      <th></th>\n",
              "      <th>X</th>\n",
              "      <th>Y</th>\n",
              "    </tr>\n",
              "  </thead>\n",
              "  <tbody>\n",
              "    <tr>\n",
              "      <th>0</th>\n",
              "      <td>1.0</td>\n",
              "      <td>4.0</td>\n",
              "    </tr>\n",
              "    <tr>\n",
              "      <th>1</th>\n",
              "      <td>1.5</td>\n",
              "      <td>6.0</td>\n",
              "    </tr>\n",
              "    <tr>\n",
              "      <th>2</th>\n",
              "      <td>2.5</td>\n",
              "      <td>6.8</td>\n",
              "    </tr>\n",
              "    <tr>\n",
              "      <th>3</th>\n",
              "      <td>3.5</td>\n",
              "      <td>7.9</td>\n",
              "    </tr>\n",
              "    <tr>\n",
              "      <th>4</th>\n",
              "      <td>4.5</td>\n",
              "      <td>8.7</td>\n",
              "    </tr>\n",
              "    <tr>\n",
              "      <th>5</th>\n",
              "      <td>5.5</td>\n",
              "      <td>9.0</td>\n",
              "    </tr>\n",
              "    <tr>\n",
              "      <th>6</th>\n",
              "      <td>6.5</td>\n",
              "      <td>9.5</td>\n",
              "    </tr>\n",
              "  </tbody>\n",
              "</table>\n",
              "</div>"
            ],
            "text/plain": [
              "     X    Y\n",
              "0  1.0  4.0\n",
              "1  1.5  6.0\n",
              "2  2.5  6.8\n",
              "3  3.5  7.9\n",
              "4  4.5  8.7\n",
              "5  5.5  9.0\n",
              "6  6.5  9.5"
            ]
          },
          "metadata": {},
          "execution_count": 101
        }
      ]
    },
    {
      "cell_type": "markdown",
      "metadata": {
        "id": "xN9OIYbtmyBS"
      },
      "source": [
        "**Cредние точки:**"
      ]
    },
    {
      "cell_type": "code",
      "metadata": {
        "id": "ShPzbJaOmu8j"
      },
      "source": [
        "point={'y=a*x^b':[np.sqrt(data['X'][0]*data['X'][-1]) ,np.sqrt(data['Y'][0]*data['Y'][-1]) ],\n",
        "       'y=a*b^x':[(data['X'][0]+data['X'][-1])/2,np.sqrt(data['Y'][0]*data['Y'][-1])],\n",
        "       'y=1/(a+b*x)':[(data['X'][0]+data['X'][-1])/2,(2*data['Y'][0]*data['Y'][-1])/(data['Y'][0]+data['Y'][-1]) ],\n",
        "       'y=a+b*lg(x)':[np.sqrt(data['X'][0]*data['X'][-1]) , (data['Y'][0]+data['Y'][-1])/2],\n",
        "       'y=a+b/x':[(2*data['X'][0]*data['X'][-1])/(data['X'][0]+data['X'][-1]) ,(data['Y'][0]+data['Y'][-1])/2 ],\n",
        "       'y=ax/(b+x)':[(2*data['X'][0]*data['X'][-1])/(data['X'][0]+data['X'][-1]),(2*data['Y'][0]*data['Y'][-1])/(data['Y'][0]+data['Y'][-1])]}"
      ],
      "execution_count": 13,
      "outputs": []
    },
    {
      "cell_type": "code",
      "metadata": {
        "colab": {
          "base_uri": "https://localhost:8080/"
        },
        "id": "7_0Jvt90p5yh",
        "outputId": "94c963b7-80ce-46b9-9d09-b8e2c95db074"
      },
      "source": [
        "point\n"
      ],
      "execution_count": 23,
      "outputs": [
        {
          "output_type": "execute_result",
          "data": {
            "text/plain": [
              "{'y=1/(a+b*x)': [3.75, 5.62962962962963],\n",
              " 'y=a*b^x': [3.75, 6.164414002968976],\n",
              " 'y=a*x^b': [2.5495097567963922, 6.164414002968976],\n",
              " 'y=a+b*lg(x)': [2.5495097567963922, 6.75],\n",
              " 'y=a+b/x': [1.7333333333333334, 6.75],\n",
              " 'y=ax/(b+x)': [1.7333333333333334, 5.62962962962963]}"
            ]
          },
          "metadata": {},
          "execution_count": 23
        }
      ]
    },
    {
      "cell_type": "code",
      "metadata": {
        "id": "vbRtmBqWs1_g"
      },
      "source": [
        "d= {\"x\":[], \"y\":[], \"label\":[]}\n",
        "for label, coord in point.items():\n",
        "    d[\"x\"].append(coord[0])\n",
        "    d[\"y\"].append(coord[1])\n",
        "    d[\"label\"].append(label)"
      ],
      "execution_count": 26,
      "outputs": []
    },
    {
      "cell_type": "code",
      "metadata": {
        "colab": {
          "base_uri": "https://localhost:8080/",
          "height": 147
        },
        "id": "cSj0RYlUlcfB",
        "outputId": "1e99b921-eaba-49af-9b98-b6cf9c7db309"
      },
      "source": [
        "plt.subplot(211)\n",
        "plt.plot(meta['X'],meta['Y'])\n",
        "plt.scatter(d[\"x\"], d[\"y\"], marker = 'o')\n",
        "for label, x, y in zip(d[\"label\"], d[\"x\"], d[\"y\"]):\n",
        "    plt.annotate(label, xy = (x, y))"
      ],
      "execution_count": 108,
      "outputs": [
        {
          "output_type": "display_data",
          "data": {
            "image/png": "[encoded data removed]",
            "text/plain": [
              "<Figure size 432x288 with 1 Axes>"
            ]
          },
          "metadata": {
            "needs_background": "light"
          }
        }
      ]
    },
    {
      "cell_type": "markdown",
      "metadata": {
        "id": "dRlNDhvQ9fwH"
      },
      "source": [
        "**2.\tВычислить числовые характеристики   **"
      ]
    },
    {
      "cell_type": "code",
      "metadata": {
        "id": "sGxY3zkg9fQD"
      },
      "source": [
        "xsr=meta['X'].mean()\n",
        "ysr=meta['Y'].mean()\n",
        "sx=meta['X'].std()\n",
        "sy=meta['Y'].std()\n",
        "n=len(meta)"
      ],
      "execution_count": 110,
      "outputs": []
    },
    {
      "cell_type": "code",
      "metadata": {
        "colab": {
          "base_uri": "https://localhost:8080/"
        },
        "id": "VzzBspym-wZ6",
        "outputId": "87848e99-3d32-41f1-e5a1-dc220c412a66"
      },
      "source": [
        "print(\" xsr = %0.3f \\n\"% xsr)\n",
        "print(\" ysr = %0.3f  \\n\"%ysr)\n",
        "print(\" sx = %0.3f  \\n\"%sx)\n",
        "print(\" sy = %0.3f  \\n\"%sy)\n",
        "print(\" n = %0.0f  \\n\"%n)"
      ],
      "execution_count": 113,
      "outputs": [
        {
          "output_type": "stream",
          "name": "stdout",
          "text": [
            " xsr = 3.571 \n",
            "\n",
            " ysr = 7.414  \n",
            "\n",
            " sx = 2.050  \n",
            "\n",
            " sy = 1.949  \n",
            "\n",
            " n = 7  \n",
            "\n"
          ]
        }
      ]
    },
    {
      "cell_type": "code",
      "metadata": {
        "id": "SkVaxSi2ttsv"
      },
      "source": [
        "import math\n",
        "#y=a+b*lg(x)\n",
        "lg_xi= [math.log10(meta.loc[x,'X']) for x in range(len(meta))]\n",
        "yi = [meta.loc[x,'Y'] for x in range (len(meta))]\n",
        "lg_xi_2= [(math.log10(meta.loc[x,'X']))**2 for x in range(len(meta))]\n",
        "lg_xi_yi =  [math.log10(meta.loc[x,'X'])*meta.loc[x,'Y']  for x in range(len(meta))]"
      ],
      "execution_count": 75,
      "outputs": []
    },
    {
      "cell_type": "code",
      "metadata": {
        "colab": {
          "base_uri": "https://localhost:8080/"
        },
        "id": "zOKDGP_2xRUK",
        "outputId": "f9d96f27-e05a-4409-d9e9-2e9937d74a19"
      },
      "source": [
        "print(\" sum lg_xi = %0.3f \\n\"% sum(lg_xi))\n",
        "print(\" sum yi = %0.3f  \\n\"%sum(yi))\n",
        "print(\" sum lg_xi_2 = %0.3f  \\n\"%sum(lg_xi_2))\n",
        "print(\" sum lg_xi_yi = %0.3f  \\n\"%sum(lg_xi_yi))"
      ],
      "execution_count": 50,
      "outputs": [
        {
          "output_type": "stream",
          "name": "stdout",
          "text": [
            " sum lg_xi = 3.325 \n",
            "\n",
            " sum yi = 51.900  \n",
            "\n",
            " sum lg_xi_2 = 2.121  \n",
            "\n",
            " sum lg_xi_yi = 28.130  \n",
            "\n"
          ]
        }
      ]
    },
    {
      "cell_type": "markdown",
      "metadata": {
        "id": "nx69v04JyT3O"
      },
      "source": [
        "Уравнения:\n",
        "\n",
        "\n",
        "n * a + b * sum (lg(xi)) = sum(yi)\n",
        "\n",
        "\n",
        "a * sum(lg(xi)) + b sum((lg(xi))^2) = sum(lg(xi)*yi)"
      ]
    },
    {
      "cell_type": "markdown",
      "metadata": {
        "id": "SopVWvuL8ugI"
      },
      "source": [
        "**3.\tНайти эмпирическое уравнение регрессий Y на Х.**"
      ]
    },
    {
      "cell_type": "code",
      "metadata": {
        "colab": {
          "base_uri": "https://localhost:8080/"
        },
        "id": "iadS7wQAyQqW",
        "outputId": "072feac1-5c15-46e0-86d3-e862a63f270d"
      },
      "source": [
        "\n",
        "print(f\"{n} * a + b * {sum(lg_xi)} = {sum(yi)} \\n\")\n",
        "print(f\"a * {sum(lg_xi)} + b * {sum(lg_xi_2)} = {sum(lg_xi_yi)}\")"
      ],
      "execution_count": 111,
      "outputs": [
        {
          "output_type": "stream",
          "name": "stdout",
          "text": [
            "7 * a + b * 3.324587871990438 = 51.900000000000006 \n",
            "\n",
            "a * 3.324587871990438 + b * 2.121026044457058 = 28.129567127071933\n"
          ]
        }
      ]
    },
    {
      "cell_type": "code",
      "metadata": {
        "id": "FstMTNbfz69r"
      },
      "source": [
        "i=sum(lg_xi).round(3)\n",
        "t=sum(lg_xi_2).round(3)\n",
        "u=sum(yi).round(3)\n",
        "e=sum(lg_xi_yi).round(3)\n",
        "a = np.array([[n,i],[i,t]])\n",
        "c=np.array([u,e])\n",
        "x = np.linalg.solve(a, c)"
      ],
      "execution_count": 64,
      "outputs": []
    },
    {
      "cell_type": "code",
      "metadata": {
        "colab": {
          "base_uri": "https://localhost:8080/"
        },
        "id": "tdyTuZtI26QR",
        "outputId": "a090175b-b462-4530-af86-3c4c80379d9a"
      },
      "source": [
        "x"
      ],
      "execution_count": 65,
      "outputs": [
        {
          "output_type": "execute_result",
          "data": {
            "text/plain": [
              "array([4.36455112, 6.42049388])"
            ]
          },
          "metadata": {},
          "execution_count": 65
        }
      ]
    },
    {
      "cell_type": "code",
      "metadata": {
        "colab": {
          "base_uri": "https://localhost:8080/"
        },
        "id": "MTEb76Fa28WN",
        "outputId": "c10ad58a-7dad-4703-ba45-55f38851b71a"
      },
      "source": [
        "a=x[0].round(3)\n",
        "b=x[-1].round(3)\n",
        "\n",
        "print(f\"y= {a} + {b} * log(x)\")"
      ],
      "execution_count": 107,
      "outputs": [
        {
          "output_type": "stream",
          "name": "stdout",
          "text": [
            "y= 4.365 + 6.42 * log(x)\n"
          ]
        }
      ]
    },
    {
      "cell_type": "code",
      "metadata": {
        "id": "nOlO_q0B3Wcb"
      },
      "source": [
        "import pandas as pd\n",
        "\n",
        "#y=a+b*lg(x),\n",
        "data={'X':[ meta.loc[x,'X'] for x in range (len(meta))] , \n",
        "      'Y':[meta.loc[x,'Y'] for x in range (len(meta))],\n",
        "    'f':[ a + b * math.log10(meta.loc[i,'X']) for i in range(len(meta))]}\n",
        "df=pd.DataFrame(data)\n"
      ],
      "execution_count": 115,
      "outputs": []
    },
    {
      "cell_type": "code",
      "metadata": {
        "colab": {
          "base_uri": "https://localhost:8080/",
          "height": 269
        },
        "id": "wg5f4XAm8MGw",
        "outputId": "1689cbd4-0813-4381-c2da-8eaa77ab8e34"
      },
      "source": [
        "df"
      ],
      "execution_count": 116,
      "outputs": [
        {
          "output_type": "execute_result",
          "data": {
            "text/html": [
              "<div>\n",
              "<style scoped>\n",
              "    .dataframe tbody tr th:only-of-type {\n",
              "        vertical-align: middle;\n",
              "    }\n",
              "\n",
              "    .dataframe tbody tr th {\n",
              "        vertical-align: top;\n",
              "    }\n",
              "\n",
              "    .dataframe thead th {\n",
              "        text-align: right;\n",
              "    }\n",
              "</style>\n",
              "<table border=\"1\" class=\"dataframe\">\n",
              "  <thead>\n",
              "    <tr style=\"text-align: right;\">\n",
              "      <th></th>\n",
              "      <th>X</th>\n",
              "      <th>Y</th>\n",
              "      <th>f</th>\n",
              "    </tr>\n",
              "  </thead>\n",
              "  <tbody>\n",
              "    <tr>\n",
              "      <th>0</th>\n",
              "      <td>1.0</td>\n",
              "      <td>4.0</td>\n",
              "      <td>4.365000</td>\n",
              "    </tr>\n",
              "    <tr>\n",
              "      <th>1</th>\n",
              "      <td>1.5</td>\n",
              "      <td>6.0</td>\n",
              "      <td>5.495506</td>\n",
              "    </tr>\n",
              "    <tr>\n",
              "      <th>2</th>\n",
              "      <td>2.5</td>\n",
              "      <td>6.8</td>\n",
              "      <td>6.919775</td>\n",
              "    </tr>\n",
              "    <tr>\n",
              "      <th>3</th>\n",
              "      <td>3.5</td>\n",
              "      <td>7.9</td>\n",
              "      <td>7.857917</td>\n",
              "    </tr>\n",
              "    <tr>\n",
              "      <th>4</th>\n",
              "      <td>4.5</td>\n",
              "      <td>8.7</td>\n",
              "      <td>8.558624</td>\n",
              "    </tr>\n",
              "    <tr>\n",
              "      <th>5</th>\n",
              "      <td>5.5</td>\n",
              "      <td>9.0</td>\n",
              "      <td>9.118128</td>\n",
              "    </tr>\n",
              "    <tr>\n",
              "      <th>6</th>\n",
              "      <td>6.5</td>\n",
              "      <td>9.5</td>\n",
              "      <td>9.583904</td>\n",
              "    </tr>\n",
              "  </tbody>\n",
              "</table>\n",
              "</div>"
            ],
            "text/plain": [
              "     X    Y         f\n",
              "0  1.0  4.0  4.365000\n",
              "1  1.5  6.0  5.495506\n",
              "2  2.5  6.8  6.919775\n",
              "3  3.5  7.9  7.857917\n",
              "4  4.5  8.7  8.558624\n",
              "5  5.5  9.0  9.118128\n",
              "6  6.5  9.5  9.583904"
            ]
          },
          "metadata": {},
          "execution_count": 116
        }
      ]
    },
    {
      "cell_type": "code",
      "metadata": {
        "colab": {
          "base_uri": "https://localhost:8080/",
          "height": 282
        },
        "id": "9k_dW18E8Y7Z",
        "outputId": "ad02709c-30ee-4ad8-b350-1b44399a9d74"
      },
      "source": [
        "plt.subplot()\n",
        "plt.plot(df['X'],df['f'])"
      ],
      "execution_count": 117,
      "outputs": [
        {
          "output_type": "execute_result",
          "data": {
            "text/plain": [
              "[<matplotlib.lines.Line2D at 0x7f32fc420750>]"
            ]
          },
          "metadata": {},
          "execution_count": 117
        },
        {
          "output_type": "display_data",
          "data": {
            "image/png": "[encoded data removed]",
            "text/plain": [
              "<Figure size 432x288 with 1 Axes>"
            ]
          },
          "metadata": {
            "needs_background": "light"
          }
        }
      ]
    },
    {
      "cell_type": "code",
      "metadata": {
        "id": "Xe4FRuJgARma"
      },
      "source": [
        "SCR = sum((df['Y'].values-df['f'].values)**2)\n",
        "SCT = sum((df['Y'].values-ysr)**2)"
      ],
      "execution_count": 118,
      "outputs": []
    },
    {
      "cell_type": "code",
      "metadata": {
        "colab": {
          "base_uri": "https://localhost:8080/"
        },
        "id": "GujRxMgyCQGd",
        "outputId": "478e25cc-9d28-4f34-d260-7923c0dbac2f"
      },
      "source": [
        "R_2=round((1-(SCR/SCT)),6)\n",
        "print(f'коэффициент детерминации R2 = {R_2} \\n')\n",
        "print('Значение R2 должно находиться в диапазоне от нуля до единицы: 0 ≤ R2 ≤ 1 \\n')\n",
        "print('Модель считается более качественной, если значение коэффициента детерминации близко к 1 \\n')\n",
        "print('R² приближается к 1, облако точек сужается вокруг линии регрессии и зависимость сильная.')"
      ],
      "execution_count": 122,
      "outputs": [
        {
          "output_type": "stream",
          "name": "stdout",
          "text": [
            "коэффициент детерминации R2 = 0.98048 \n",
            "\n",
            "Значение R2 должно находиться в диапазоне от нуля до единицы: 0 ≤ R2 ≤ 1 \n",
            "\n",
            "Модель считается более качественной, если значение коэффициента детерминации близко к 1 \n",
            "\n",
            "R² приближается к 1, облако точек сужается вокруг линии регрессии и зависимость сильная.\n"
          ]
        }
      ]
    },
    {
      "cell_type": "markdown",
      "metadata": {
        "id": "FBsQErmGDB-e"
      },
      "source": [
        "**Проверить адекватность уравнения регрессии Y на X.**"
      ]
    },
    {
      "cell_type": "code",
      "metadata": {
        "id": "CR3mkxuuCZ7_"
      },
      "source": [
        "import scipy.stats\n",
        "#y= 4.365 + 6.42 * log(x)\n",
        "Fвыб = (R_2*(n-2)/(1-R_2)).round(6)\n",
        "Fкр = scipy.stats.f.isf(0.05, 1, n-2).round(6)\n"
      ],
      "execution_count": 123,
      "outputs": []
    },
    {
      "cell_type": "code",
      "metadata": {
        "colab": {
          "base_uri": "https://localhost:8080/"
        },
        "id": "dXDyuFkoFR5Y",
        "outputId": "7fdc13e2-7faa-4171-d55b-0db5ed943762"
      },
      "source": [
        "Fвыб"
      ],
      "execution_count": 124,
      "outputs": [
        {
          "output_type": "execute_result",
          "data": {
            "text/plain": [
              "251.147541"
            ]
          },
          "metadata": {},
          "execution_count": 124
        }
      ]
    },
    {
      "cell_type": "code",
      "metadata": {
        "colab": {
          "base_uri": "https://localhost:8080/"
        },
        "id": "KG6FtZnnFYuW",
        "outputId": "f498b1e1-f3c1-4d91-b05b-f8de9205d2ec"
      },
      "source": [
        "Fкр"
      ],
      "execution_count": 125,
      "outputs": [
        {
          "output_type": "execute_result",
          "data": {
            "text/plain": [
              "6.607891"
            ]
          },
          "metadata": {},
          "execution_count": 125
        }
      ]
    },
    {
      "cell_type": "code",
      "metadata": {
        "colab": {
          "base_uri": "https://localhost:8080/"
        },
        "id": "jYpEfF_OFtGr",
        "outputId": "0b194a53-9017-4f58-ec9f-19c7374da9a3"
      },
      "source": [
        "print(f'{Fвыб} > {Fкр} ')\n",
        "print(f'делаем вывод о том, что полученное уравнение линейной регрессии y= 4.365 + 6.42 * log(x) статистически значимо описывает результаты эксперимента.')"
      ],
      "execution_count": 127,
      "outputs": [
        {
          "output_type": "stream",
          "name": "stdout",
          "text": [
            "251.147541 > 6.607891 \n",
            "делаем вывод о том, что полученное уравнение линейной регрессии y= 4.365 + 6.42 * log(x) статистически значимо описывает результаты эксперимента.\n"
          ]
        }
      ]
    }
  ]
}