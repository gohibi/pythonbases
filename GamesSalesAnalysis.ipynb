{
  "cells": [
    {
      "cell_type": "markdown",
      "metadata": {
        "id": "view-in-github",
        "colab_type": "text"
      },
      "source": [
        "<a href=\"https://colab.research.google.com/github/gohibi/pythonbases/blob/main/GamesSalesAnalysis.ipynb\" target=\"_parent\"><img src=\"https://colab.research.google.com/assets/colab-badge.svg\" alt=\"Open In Colab\"/></a>"
      ]
    },
    {
      "cell_type": "code",
      "execution_count": null,
      "metadata": {
        "id": "xi-J2RJUHwrd"
      },
      "outputs": [],
      "source": [
        "#data manipulation\n",
        "import pandas as pd\n",
        "import numpy as np\n",
        "#data visualisation\n",
        "import matplotlib.pyplot as plt; plt.style.use('ggplot')\n",
        "import seaborn as sns\n",
        "%matplotlib inline\n",
        "#machine learning algorithm\n",
        "from sklearn.tree import DecisionTreeRegressor\n",
        "from sklearn.preprocessing import StandardScaler\n",
        "#Model selection and evaluation\n",
        "from sklearn.model_selection import train_test_split\n",
        "#perfomance\n",
        "from sklearn.metrics import mean_squared_error\n",
        "from sklearn.metrics import mean_absolute_error\n",
        "from sklearn.metrics import r2_score\n",
        "from sklearn.metrics import accuracy_score\n",
        "from sklearn.preprocessing import LabelEncoder"
      ]
    },
    {
      "cell_type": "code",
      "execution_count": null,
      "metadata": {
        "id": "zBSWDQl-MDJ6"
      },
      "outputs": [],
      "source": [
        "from pydrive.auth import GoogleAuth \n",
        "from pydrive.drive import GoogleDrive \n",
        "from google.colab import auth \n",
        "from oauth2client.client import GoogleCredentials\n",
        "\n",
        "auth.authenticate_user() \n",
        "gauth = GoogleAuth() \n",
        "gauth.credentials = GoogleCredentials.get_application_default() \n",
        "drive = GoogleDrive(gauth)"
      ]
    },
    {
      "cell_type": "code",
      "execution_count": null,
      "metadata": {
        "colab": {
          "base_uri": "https://localhost:8080/"
        },
        "id": "jTDw9CMEMeC5",
        "outputId": "bcbcad4a-232e-4888-e3d9-4b2e871d2ecd"
      },
      "outputs": [
        {
          "name": "stdout",
          "output_type": "stream",
          "text": [
            "Mounted at /content/drive\n"
          ]
        }
      ],
      "source": [
        "from google.colab import drive\n",
        "drive.mount('/content/drive')"
      ]
    },
    {
      "cell_type": "code",
      "execution_count": null,
      "metadata": {
        "colab": {
          "base_uri": "https://localhost:8080/"
        },
        "id": "7_uF4RmyMp8y",
        "outputId": "691c898d-a37c-4cd9-a82a-540d6539d383"
      },
      "outputs": [
        {
          "name": "stdout",
          "output_type": "stream",
          "text": [
            "/content/drive\n"
          ]
        }
      ],
      "source": [
        "%cd /content/drive"
      ]
    },
    {
      "cell_type": "markdown",
      "metadata": {
        "id": "jp7NpcYHMxhm"
      },
      "source": [
        "Прогнозирование продаж - это процесс прогнозирования будущих продаж. Это важная часть финансового планирования бизнеса, и точное прогнозирование позволяет избежать переоценки или недооценки будущих продаж, что может привести к большим убыткам для бизнеса. Статистика прошлых и текущих продаж используется для оценки будущих результатов. Но с точностью до традиционных прогнозов сложно угнаться за точностью прогнозов продаж. С этой целью были открыты различные методы машинного обучения. В этой работе мы взяли набор данных из магазина видеоигр и провели подробный анализ набора данных. Здесь мы реализовали разные методы машинного обучения с разными показателями."
      ]
    },
    {
      "cell_type": "code",
      "execution_count": null,
      "metadata": {
        "colab": {
          "base_uri": "https://localhost:8080/",
          "height": 502
        },
        "id": "qld5FxD3MwDq",
        "outputId": "e4edf00a-c77b-4349-e66d-974453405e76"
      },
      "outputs": [
        {
          "data": {
            "text/html": [
              "\n",
              "  <div id=\"df-2c9a72ed-0793-4692-8fed-3daa4eff892e\">\n",
              "    <div class=\"colab-df-container\">\n",
              "      <div>\n",
              "<style scoped>\n",
              "    .dataframe tbody tr th:only-of-type {\n",
              "        vertical-align: middle;\n",
              "    }\n",
              "\n",
              "    .dataframe tbody tr th {\n",
              "        vertical-align: top;\n",
              "    }\n",
              "\n",
              "    .dataframe thead th {\n",
              "        text-align: right;\n",
              "    }\n",
              "</style>\n",
              "<table border=\"1\" class=\"dataframe\">\n",
              "  <thead>\n",
              "    <tr style=\"text-align: right;\">\n",
              "      <th></th>\n",
              "      <th>Rank</th>\n",
              "      <th>Name</th>\n",
              "      <th>Platform</th>\n",
              "      <th>Year</th>\n",
              "      <th>Genre</th>\n",
              "      <th>Publisher</th>\n",
              "      <th>NA_Sales</th>\n",
              "      <th>EU_Sales</th>\n",
              "      <th>JP_Sales</th>\n",
              "      <th>Other_Sales</th>\n",
              "      <th>Global_Sales</th>\n",
              "    </tr>\n",
              "  </thead>\n",
              "  <tbody>\n",
              "    <tr>\n",
              "      <th>0</th>\n",
              "      <td>1</td>\n",
              "      <td>Wii Sports</td>\n",
              "      <td>Wii</td>\n",
              "      <td>2006.0</td>\n",
              "      <td>Sports</td>\n",
              "      <td>Nintendo</td>\n",
              "      <td>41.49</td>\n",
              "      <td>29.02</td>\n",
              "      <td>3.77</td>\n",
              "      <td>8.46</td>\n",
              "      <td>82.74</td>\n",
              "    </tr>\n",
              "    <tr>\n",
              "      <th>1</th>\n",
              "      <td>2</td>\n",
              "      <td>Super Mario Bros.</td>\n",
              "      <td>NES</td>\n",
              "      <td>1985.0</td>\n",
              "      <td>Platform</td>\n",
              "      <td>Nintendo</td>\n",
              "      <td>29.08</td>\n",
              "      <td>3.58</td>\n",
              "      <td>6.81</td>\n",
              "      <td>0.77</td>\n",
              "      <td>40.24</td>\n",
              "    </tr>\n",
              "    <tr>\n",
              "      <th>2</th>\n",
              "      <td>3</td>\n",
              "      <td>Mario Kart Wii</td>\n",
              "      <td>Wii</td>\n",
              "      <td>2008.0</td>\n",
              "      <td>Racing</td>\n",
              "      <td>Nintendo</td>\n",
              "      <td>15.85</td>\n",
              "      <td>12.88</td>\n",
              "      <td>3.79</td>\n",
              "      <td>3.31</td>\n",
              "      <td>35.82</td>\n",
              "    </tr>\n",
              "    <tr>\n",
              "      <th>3</th>\n",
              "      <td>4</td>\n",
              "      <td>Wii Sports Resort</td>\n",
              "      <td>Wii</td>\n",
              "      <td>2009.0</td>\n",
              "      <td>Sports</td>\n",
              "      <td>Nintendo</td>\n",
              "      <td>15.75</td>\n",
              "      <td>11.01</td>\n",
              "      <td>3.28</td>\n",
              "      <td>2.96</td>\n",
              "      <td>33.00</td>\n",
              "    </tr>\n",
              "    <tr>\n",
              "      <th>4</th>\n",
              "      <td>5</td>\n",
              "      <td>Pokemon Red/Pokemon Blue</td>\n",
              "      <td>GB</td>\n",
              "      <td>1996.0</td>\n",
              "      <td>Role-Playing</td>\n",
              "      <td>Nintendo</td>\n",
              "      <td>11.27</td>\n",
              "      <td>8.89</td>\n",
              "      <td>10.22</td>\n",
              "      <td>1.00</td>\n",
              "      <td>31.37</td>\n",
              "    </tr>\n",
              "    <tr>\n",
              "      <th>...</th>\n",
              "      <td>...</td>\n",
              "      <td>...</td>\n",
              "      <td>...</td>\n",
              "      <td>...</td>\n",
              "      <td>...</td>\n",
              "      <td>...</td>\n",
              "      <td>...</td>\n",
              "      <td>...</td>\n",
              "      <td>...</td>\n",
              "      <td>...</td>\n",
              "      <td>...</td>\n",
              "    </tr>\n",
              "    <tr>\n",
              "      <th>16593</th>\n",
              "      <td>16596</td>\n",
              "      <td>Woody Woodpecker in Crazy Castle 5</td>\n",
              "      <td>GBA</td>\n",
              "      <td>2002.0</td>\n",
              "      <td>Platform</td>\n",
              "      <td>Kemco</td>\n",
              "      <td>0.01</td>\n",
              "      <td>0.00</td>\n",
              "      <td>0.00</td>\n",
              "      <td>0.00</td>\n",
              "      <td>0.01</td>\n",
              "    </tr>\n",
              "    <tr>\n",
              "      <th>16594</th>\n",
              "      <td>16597</td>\n",
              "      <td>Men in Black II: Alien Escape</td>\n",
              "      <td>GC</td>\n",
              "      <td>2003.0</td>\n",
              "      <td>Shooter</td>\n",
              "      <td>Infogrames</td>\n",
              "      <td>0.01</td>\n",
              "      <td>0.00</td>\n",
              "      <td>0.00</td>\n",
              "      <td>0.00</td>\n",
              "      <td>0.01</td>\n",
              "    </tr>\n",
              "    <tr>\n",
              "      <th>16595</th>\n",
              "      <td>16598</td>\n",
              "      <td>SCORE International Baja 1000: The Official Game</td>\n",
              "      <td>PS2</td>\n",
              "      <td>2008.0</td>\n",
              "      <td>Racing</td>\n",
              "      <td>Activision</td>\n",
              "      <td>0.00</td>\n",
              "      <td>0.00</td>\n",
              "      <td>0.00</td>\n",
              "      <td>0.00</td>\n",
              "      <td>0.01</td>\n",
              "    </tr>\n",
              "    <tr>\n",
              "      <th>16596</th>\n",
              "      <td>16599</td>\n",
              "      <td>Know How 2</td>\n",
              "      <td>DS</td>\n",
              "      <td>2010.0</td>\n",
              "      <td>Puzzle</td>\n",
              "      <td>7G//AMES</td>\n",
              "      <td>0.00</td>\n",
              "      <td>0.01</td>\n",
              "      <td>0.00</td>\n",
              "      <td>0.00</td>\n",
              "      <td>0.01</td>\n",
              "    </tr>\n",
              "    <tr>\n",
              "      <th>16597</th>\n",
              "      <td>16600</td>\n",
              "      <td>Spirits &amp; Spells</td>\n",
              "      <td>GBA</td>\n",
              "      <td>2003.0</td>\n",
              "      <td>Platform</td>\n",
              "      <td>Wanadoo</td>\n",
              "      <td>0.01</td>\n",
              "      <td>0.00</td>\n",
              "      <td>0.00</td>\n",
              "      <td>0.00</td>\n",
              "      <td>0.01</td>\n",
              "    </tr>\n",
              "  </tbody>\n",
              "</table>\n",
              "<p>16598 rows × 11 columns</p>\n",
              "</div>\n",
              "      <button class=\"colab-df-convert\" onclick=\"convertToInteractive('df-2c9a72ed-0793-4692-8fed-3daa4eff892e')\"\n",
              "              title=\"Convert this dataframe to an interactive table.\"\n",
              "              style=\"display:none;\">\n",
              "        \n",
              "  <svg xmlns=\"http://www.w3.org/2000/svg\" height=\"24px\"viewBox=\"0 0 24 24\"\n",
              "       width=\"24px\">\n",
              "    <path d=\"M0 0h24v24H0V0z\" fill=\"none\"/>\n",
              "    <path d=\"M18.56 5.44l.94 2.06.94-2.06 2.06-.94-2.06-.94-.94-2.06-.94 2.06-2.06.94zm-11 1L8.5 8.5l.94-2.06 2.06-.94-2.06-.94L8.5 2.5l-.94 2.06-2.06.94zm10 10l.94 2.06.94-2.06 2.06-.94-2.06-.94-.94-2.06-.94 2.06-2.06.94z\"/><path d=\"M17.41 7.96l-1.37-1.37c-.4-.4-.92-.59-1.43-.59-.52 0-1.04.2-1.43.59L10.3 9.45l-7.72 7.72c-.78.78-.78 2.05 0 2.83L4 21.41c.39.39.9.59 1.41.59.51 0 1.02-.2 1.41-.59l7.78-7.78 2.81-2.81c.8-.78.8-2.07 0-2.86zM5.41 20L4 18.59l7.72-7.72 1.47 1.35L5.41 20z\"/>\n",
              "  </svg>\n",
              "      </button>\n",
              "      \n",
              "  <style>\n",
              "    .colab-df-container {\n",
              "      display:flex;\n",
              "      flex-wrap:wrap;\n",
              "      gap: 12px;\n",
              "    }\n",
              "\n",
              "    .colab-df-convert {\n",
              "      background-color: #E8F0FE;\n",
              "      border: none;\n",
              "      border-radius: 50%;\n",
              "      cursor: pointer;\n",
              "      display: none;\n",
              "      fill: #1967D2;\n",
              "      height: 32px;\n",
              "      padding: 0 0 0 0;\n",
              "      width: 32px;\n",
              "    }\n",
              "\n",
              "    .colab-df-convert:hover {\n",
              "      background-color: #E2EBFA;\n",
              "      box-shadow: 0px 1px 2px rgba(60, 64, 67, 0.3), 0px 1px 3px 1px rgba(60, 64, 67, 0.15);\n",
              "      fill: #174EA6;\n",
              "    }\n",
              "\n",
              "    [theme=dark] .colab-df-convert {\n",
              "      background-color: #3B4455;\n",
              "      fill: #D2E3FC;\n",
              "    }\n",
              "\n",
              "    [theme=dark] .colab-df-convert:hover {\n",
              "      background-color: #434B5C;\n",
              "      box-shadow: 0px 1px 3px 1px rgba(0, 0, 0, 0.15);\n",
              "      filter: drop-shadow(0px 1px 2px rgba(0, 0, 0, 0.3));\n",
              "      fill: #FFFFFF;\n",
              "    }\n",
              "  </style>\n",
              "\n",
              "      <script>\n",
              "        const buttonEl =\n",
              "          document.querySelector('#df-2c9a72ed-0793-4692-8fed-3daa4eff892e button.colab-df-convert');\n",
              "        buttonEl.style.display =\n",
              "          google.colab.kernel.accessAllowed ? 'block' : 'none';\n",
              "\n",
              "        async function convertToInteractive(key) {\n",
              "          const element = document.querySelector('#df-2c9a72ed-0793-4692-8fed-3daa4eff892e');\n",
              "          const dataTable =\n",
              "            await google.colab.kernel.invokeFunction('convertToInteractive',\n",
              "                                                     [key], {});\n",
              "          if (!dataTable) return;\n",
              "\n",
              "          const docLinkHtml = 'Like what you see? Visit the ' +\n",
              "            '<a target=\"_blank\" href=https://colab.research.google.com/notebooks/data_table.ipynb>data table notebook</a>'\n",
              "            + ' to learn more about interactive tables.';\n",
              "          element.innerHTML = '';\n",
              "          dataTable['output_type'] = 'display_data';\n",
              "          await google.colab.output.renderOutput(dataTable, element);\n",
              "          const docLink = document.createElement('div');\n",
              "          docLink.innerHTML = docLinkHtml;\n",
              "          element.appendChild(docLink);\n",
              "        }\n",
              "      </script>\n",
              "    </div>\n",
              "  </div>\n",
              "  "
            ],
            "text/plain": [
              "        Rank  ... Global_Sales\n",
              "0          1  ...        82.74\n",
              "1          2  ...        40.24\n",
              "2          3  ...        35.82\n",
              "3          4  ...        33.00\n",
              "4          5  ...        31.37\n",
              "...      ...  ...          ...\n",
              "16593  16596  ...         0.01\n",
              "16594  16597  ...         0.01\n",
              "16595  16598  ...         0.01\n",
              "16596  16599  ...         0.01\n",
              "16597  16600  ...         0.01\n",
              "\n",
              "[16598 rows x 11 columns]"
            ]
          },
          "execution_count": 11,
          "metadata": {},
          "output_type": "execute_result"
        }
      ],
      "source": [
        "sales= pd.read_csv(\"/content/drive/MyDrive/2021/CSV/vgsales.csv\")\n",
        "sales"
      ]
    },
    {
      "cell_type": "code",
      "execution_count": null,
      "metadata": {
        "colab": {
          "base_uri": "https://localhost:8080/"
        },
        "id": "aj1IXxKgOCaJ",
        "outputId": "21ddffe6-b793-41f9-d111-45396c9ff270"
      },
      "outputs": [
        {
          "name": "stdout",
          "output_type": "stream",
          "text": [
            "Number of games:  16598\n",
            "Number of publishers:  579\n",
            "Number of platforms:  31\n",
            "Number of genres:  12\n"
          ]
        }
      ],
      "source": [
        "# get an idea of the total number of occurences for important features\n",
        "\n",
        "publishers = sales['Publisher'].unique()\n",
        "platforms = sales['Platform'].unique()\n",
        "genres = sales['Genre'].unique()\n",
        "\n",
        "print(\"Number of games: \", len(sales))\n",
        "print(\"Number of publishers: \", len(publishers))\n",
        "print(\"Number of platforms: \", len(platforms))\n",
        "print(\"Number of genres: \", len(genres))"
      ]
    },
    {
      "cell_type": "code",
      "execution_count": null,
      "metadata": {
        "colab": {
          "base_uri": "https://localhost:8080/",
          "height": 502
        },
        "id": "EcMdX1qMIL_m",
        "outputId": "f4c9c83e-c9de-4269-a267-07f12d4c05a5"
      },
      "outputs": [
        {
          "data": {
            "text/html": [
              "\n",
              "  <div id=\"df-825c2eb8-e1b2-4d04-bee2-5c19dab4acb7\">\n",
              "    <div class=\"colab-df-container\">\n",
              "      <div>\n",
              "<style scoped>\n",
              "    .dataframe tbody tr th:only-of-type {\n",
              "        vertical-align: middle;\n",
              "    }\n",
              "\n",
              "    .dataframe tbody tr th {\n",
              "        vertical-align: top;\n",
              "    }\n",
              "\n",
              "    .dataframe thead th {\n",
              "        text-align: right;\n",
              "    }\n",
              "</style>\n",
              "<table border=\"1\" class=\"dataframe\">\n",
              "  <thead>\n",
              "    <tr style=\"text-align: right;\">\n",
              "      <th></th>\n",
              "      <th>Rank</th>\n",
              "      <th>Name</th>\n",
              "      <th>Platform</th>\n",
              "      <th>Year</th>\n",
              "      <th>Genre</th>\n",
              "      <th>Publisher</th>\n",
              "      <th>NA_Sales</th>\n",
              "      <th>EU_Sales</th>\n",
              "      <th>JP_Sales</th>\n",
              "      <th>Other_Sales</th>\n",
              "      <th>Global_Sales</th>\n",
              "    </tr>\n",
              "  </thead>\n",
              "  <tbody>\n",
              "    <tr>\n",
              "      <th>0</th>\n",
              "      <td>1</td>\n",
              "      <td>Wii Sports</td>\n",
              "      <td>Wii</td>\n",
              "      <td>2006.0</td>\n",
              "      <td>Sports</td>\n",
              "      <td>Nintendo</td>\n",
              "      <td>41.49</td>\n",
              "      <td>29.02</td>\n",
              "      <td>3.77</td>\n",
              "      <td>8.46</td>\n",
              "      <td>82.74</td>\n",
              "    </tr>\n",
              "    <tr>\n",
              "      <th>1</th>\n",
              "      <td>2</td>\n",
              "      <td>Super Mario Bros.</td>\n",
              "      <td>NES</td>\n",
              "      <td>1985.0</td>\n",
              "      <td>Platform</td>\n",
              "      <td>Nintendo</td>\n",
              "      <td>29.08</td>\n",
              "      <td>3.58</td>\n",
              "      <td>6.81</td>\n",
              "      <td>0.77</td>\n",
              "      <td>40.24</td>\n",
              "    </tr>\n",
              "    <tr>\n",
              "      <th>2</th>\n",
              "      <td>3</td>\n",
              "      <td>Mario Kart Wii</td>\n",
              "      <td>Wii</td>\n",
              "      <td>2008.0</td>\n",
              "      <td>Racing</td>\n",
              "      <td>Nintendo</td>\n",
              "      <td>15.85</td>\n",
              "      <td>12.88</td>\n",
              "      <td>3.79</td>\n",
              "      <td>3.31</td>\n",
              "      <td>35.82</td>\n",
              "    </tr>\n",
              "    <tr>\n",
              "      <th>3</th>\n",
              "      <td>4</td>\n",
              "      <td>Wii Sports Resort</td>\n",
              "      <td>Wii</td>\n",
              "      <td>2009.0</td>\n",
              "      <td>Sports</td>\n",
              "      <td>Nintendo</td>\n",
              "      <td>15.75</td>\n",
              "      <td>11.01</td>\n",
              "      <td>3.28</td>\n",
              "      <td>2.96</td>\n",
              "      <td>33.00</td>\n",
              "    </tr>\n",
              "    <tr>\n",
              "      <th>4</th>\n",
              "      <td>5</td>\n",
              "      <td>Pokemon Red/Pokemon Blue</td>\n",
              "      <td>GB</td>\n",
              "      <td>1996.0</td>\n",
              "      <td>Role-Playing</td>\n",
              "      <td>Nintendo</td>\n",
              "      <td>11.27</td>\n",
              "      <td>8.89</td>\n",
              "      <td>10.22</td>\n",
              "      <td>1.00</td>\n",
              "      <td>31.37</td>\n",
              "    </tr>\n",
              "    <tr>\n",
              "      <th>...</th>\n",
              "      <td>...</td>\n",
              "      <td>...</td>\n",
              "      <td>...</td>\n",
              "      <td>...</td>\n",
              "      <td>...</td>\n",
              "      <td>...</td>\n",
              "      <td>...</td>\n",
              "      <td>...</td>\n",
              "      <td>...</td>\n",
              "      <td>...</td>\n",
              "      <td>...</td>\n",
              "    </tr>\n",
              "    <tr>\n",
              "      <th>16593</th>\n",
              "      <td>16596</td>\n",
              "      <td>Woody Woodpecker in Crazy Castle 5</td>\n",
              "      <td>GBA</td>\n",
              "      <td>2002.0</td>\n",
              "      <td>Platform</td>\n",
              "      <td>Kemco</td>\n",
              "      <td>0.01</td>\n",
              "      <td>0.00</td>\n",
              "      <td>0.00</td>\n",
              "      <td>0.00</td>\n",
              "      <td>0.01</td>\n",
              "    </tr>\n",
              "    <tr>\n",
              "      <th>16594</th>\n",
              "      <td>16597</td>\n",
              "      <td>Men in Black II: Alien Escape</td>\n",
              "      <td>GC</td>\n",
              "      <td>2003.0</td>\n",
              "      <td>Shooter</td>\n",
              "      <td>Infogrames</td>\n",
              "      <td>0.01</td>\n",
              "      <td>0.00</td>\n",
              "      <td>0.00</td>\n",
              "      <td>0.00</td>\n",
              "      <td>0.01</td>\n",
              "    </tr>\n",
              "    <tr>\n",
              "      <th>16595</th>\n",
              "      <td>16598</td>\n",
              "      <td>SCORE International Baja 1000: The Official Game</td>\n",
              "      <td>PS2</td>\n",
              "      <td>2008.0</td>\n",
              "      <td>Racing</td>\n",
              "      <td>Activision</td>\n",
              "      <td>0.00</td>\n",
              "      <td>0.00</td>\n",
              "      <td>0.00</td>\n",
              "      <td>0.00</td>\n",
              "      <td>0.01</td>\n",
              "    </tr>\n",
              "    <tr>\n",
              "      <th>16596</th>\n",
              "      <td>16599</td>\n",
              "      <td>Know How 2</td>\n",
              "      <td>DS</td>\n",
              "      <td>2010.0</td>\n",
              "      <td>Puzzle</td>\n",
              "      <td>7G//AMES</td>\n",
              "      <td>0.00</td>\n",
              "      <td>0.01</td>\n",
              "      <td>0.00</td>\n",
              "      <td>0.00</td>\n",
              "      <td>0.01</td>\n",
              "    </tr>\n",
              "    <tr>\n",
              "      <th>16597</th>\n",
              "      <td>16600</td>\n",
              "      <td>Spirits &amp; Spells</td>\n",
              "      <td>GBA</td>\n",
              "      <td>2003.0</td>\n",
              "      <td>Platform</td>\n",
              "      <td>Wanadoo</td>\n",
              "      <td>0.01</td>\n",
              "      <td>0.00</td>\n",
              "      <td>0.00</td>\n",
              "      <td>0.00</td>\n",
              "      <td>0.01</td>\n",
              "    </tr>\n",
              "  </tbody>\n",
              "</table>\n",
              "<p>16598 rows × 11 columns</p>\n",
              "</div>\n",
              "      <button class=\"colab-df-convert\" onclick=\"convertToInteractive('df-825c2eb8-e1b2-4d04-bee2-5c19dab4acb7')\"\n",
              "              title=\"Convert this dataframe to an interactive table.\"\n",
              "              style=\"display:none;\">\n",
              "        \n",
              "  <svg xmlns=\"http://www.w3.org/2000/svg\" height=\"24px\"viewBox=\"0 0 24 24\"\n",
              "       width=\"24px\">\n",
              "    <path d=\"M0 0h24v24H0V0z\" fill=\"none\"/>\n",
              "    <path d=\"M18.56 5.44l.94 2.06.94-2.06 2.06-.94-2.06-.94-.94-2.06-.94 2.06-2.06.94zm-11 1L8.5 8.5l.94-2.06 2.06-.94-2.06-.94L8.5 2.5l-.94 2.06-2.06.94zm10 10l.94 2.06.94-2.06 2.06-.94-2.06-.94-.94-2.06-.94 2.06-2.06.94z\"/><path d=\"M17.41 7.96l-1.37-1.37c-.4-.4-.92-.59-1.43-.59-.52 0-1.04.2-1.43.59L10.3 9.45l-7.72 7.72c-.78.78-.78 2.05 0 2.83L4 21.41c.39.39.9.59 1.41.59.51 0 1.02-.2 1.41-.59l7.78-7.78 2.81-2.81c.8-.78.8-2.07 0-2.86zM5.41 20L4 18.59l7.72-7.72 1.47 1.35L5.41 20z\"/>\n",
              "  </svg>\n",
              "      </button>\n",
              "      \n",
              "  <style>\n",
              "    .colab-df-container {\n",
              "      display:flex;\n",
              "      flex-wrap:wrap;\n",
              "      gap: 12px;\n",
              "    }\n",
              "\n",
              "    .colab-df-convert {\n",
              "      background-color: #E8F0FE;\n",
              "      border: none;\n",
              "      border-radius: 50%;\n",
              "      cursor: pointer;\n",
              "      display: none;\n",
              "      fill: #1967D2;\n",
              "      height: 32px;\n",
              "      padding: 0 0 0 0;\n",
              "      width: 32px;\n",
              "    }\n",
              "\n",
              "    .colab-df-convert:hover {\n",
              "      background-color: #E2EBFA;\n",
              "      box-shadow: 0px 1px 2px rgba(60, 64, 67, 0.3), 0px 1px 3px 1px rgba(60, 64, 67, 0.15);\n",
              "      fill: #174EA6;\n",
              "    }\n",
              "\n",
              "    [theme=dark] .colab-df-convert {\n",
              "      background-color: #3B4455;\n",
              "      fill: #D2E3FC;\n",
              "    }\n",
              "\n",
              "    [theme=dark] .colab-df-convert:hover {\n",
              "      background-color: #434B5C;\n",
              "      box-shadow: 0px 1px 3px 1px rgba(0, 0, 0, 0.15);\n",
              "      filter: drop-shadow(0px 1px 2px rgba(0, 0, 0, 0.3));\n",
              "      fill: #FFFFFF;\n",
              "    }\n",
              "  </style>\n",
              "\n",
              "      <script>\n",
              "        const buttonEl =\n",
              "          document.querySelector('#df-825c2eb8-e1b2-4d04-bee2-5c19dab4acb7 button.colab-df-convert');\n",
              "        buttonEl.style.display =\n",
              "          google.colab.kernel.accessAllowed ? 'block' : 'none';\n",
              "\n",
              "        async function convertToInteractive(key) {\n",
              "          const element = document.querySelector('#df-825c2eb8-e1b2-4d04-bee2-5c19dab4acb7');\n",
              "          const dataTable =\n",
              "            await google.colab.kernel.invokeFunction('convertToInteractive',\n",
              "                                                     [key], {});\n",
              "          if (!dataTable) return;\n",
              "\n",
              "          const docLinkHtml = 'Like what you see? Visit the ' +\n",
              "            '<a target=\"_blank\" href=https://colab.research.google.com/notebooks/data_table.ipynb>data table notebook</a>'\n",
              "            + ' to learn more about interactive tables.';\n",
              "          element.innerHTML = '';\n",
              "          dataTable['output_type'] = 'display_data';\n",
              "          await google.colab.output.renderOutput(dataTable, element);\n",
              "          const docLink = document.createElement('div');\n",
              "          docLink.innerHTML = docLinkHtml;\n",
              "          element.appendChild(docLink);\n",
              "        }\n",
              "      </script>\n",
              "    </div>\n",
              "  </div>\n",
              "  "
            ],
            "text/plain": [
              "        Rank  ... Global_Sales\n",
              "0          1  ...        82.74\n",
              "1          2  ...        40.24\n",
              "2          3  ...        35.82\n",
              "3          4  ...        33.00\n",
              "4          5  ...        31.37\n",
              "...      ...  ...          ...\n",
              "16593  16596  ...         0.01\n",
              "16594  16597  ...         0.01\n",
              "16595  16598  ...         0.01\n",
              "16596  16599  ...         0.01\n",
              "16597  16600  ...         0.01\n",
              "\n",
              "[16598 rows x 11 columns]"
            ]
          },
          "execution_count": 13,
          "metadata": {},
          "output_type": "execute_result"
        }
      ],
      "source": [
        "sales"
      ]
    },
    {
      "cell_type": "markdown",
      "metadata": {
        "id": "CWiq_QYiJgR2"
      },
      "source": [
        "#Очистки и нормализации данные!"
      ]
    },
    {
      "cell_type": "markdown",
      "metadata": {
        "id": "cqDtV_kEJqZP"
      },
      "source": [
        "Отбросьте строки NAN"
      ]
    },
    {
      "cell_type": "code",
      "execution_count": null,
      "metadata": {
        "colab": {
          "base_uri": "https://localhost:8080/",
          "height": 474
        },
        "id": "xZEink4aJf0O",
        "outputId": "3df2ca79-d760-4fbb-cae7-a71845c494f7"
      },
      "outputs": [
        {
          "data": {
            "text/html": [
              "\n",
              "  <div id=\"df-744f2a3f-c264-4836-b7bd-d92743f0fd64\">\n",
              "    <div class=\"colab-df-container\">\n",
              "      <div>\n",
              "<style scoped>\n",
              "    .dataframe tbody tr th:only-of-type {\n",
              "        vertical-align: middle;\n",
              "    }\n",
              "\n",
              "    .dataframe tbody tr th {\n",
              "        vertical-align: top;\n",
              "    }\n",
              "\n",
              "    .dataframe thead th {\n",
              "        text-align: right;\n",
              "    }\n",
              "</style>\n",
              "<table border=\"1\" class=\"dataframe\">\n",
              "  <thead>\n",
              "    <tr style=\"text-align: right;\">\n",
              "      <th></th>\n",
              "      <th>Rank</th>\n",
              "      <th>Name</th>\n",
              "      <th>Platform</th>\n",
              "      <th>Year</th>\n",
              "      <th>Genre</th>\n",
              "      <th>Publisher</th>\n",
              "      <th>NA_Sales</th>\n",
              "      <th>EU_Sales</th>\n",
              "      <th>JP_Sales</th>\n",
              "      <th>Other_Sales</th>\n",
              "      <th>Global_Sales</th>\n",
              "    </tr>\n",
              "  </thead>\n",
              "  <tbody>\n",
              "    <tr>\n",
              "      <th>179</th>\n",
              "      <td>180</td>\n",
              "      <td>Madden NFL 2004</td>\n",
              "      <td>PS2</td>\n",
              "      <td>NaN</td>\n",
              "      <td>Sports</td>\n",
              "      <td>Electronic Arts</td>\n",
              "      <td>4.26</td>\n",
              "      <td>0.26</td>\n",
              "      <td>0.01</td>\n",
              "      <td>0.71</td>\n",
              "      <td>5.23</td>\n",
              "    </tr>\n",
              "    <tr>\n",
              "      <th>377</th>\n",
              "      <td>378</td>\n",
              "      <td>FIFA Soccer 2004</td>\n",
              "      <td>PS2</td>\n",
              "      <td>NaN</td>\n",
              "      <td>Sports</td>\n",
              "      <td>Electronic Arts</td>\n",
              "      <td>0.59</td>\n",
              "      <td>2.36</td>\n",
              "      <td>0.04</td>\n",
              "      <td>0.51</td>\n",
              "      <td>3.49</td>\n",
              "    </tr>\n",
              "    <tr>\n",
              "      <th>431</th>\n",
              "      <td>432</td>\n",
              "      <td>LEGO Batman: The Videogame</td>\n",
              "      <td>Wii</td>\n",
              "      <td>NaN</td>\n",
              "      <td>Action</td>\n",
              "      <td>Warner Bros. Interactive Entertainment</td>\n",
              "      <td>1.86</td>\n",
              "      <td>1.02</td>\n",
              "      <td>0.00</td>\n",
              "      <td>0.29</td>\n",
              "      <td>3.17</td>\n",
              "    </tr>\n",
              "    <tr>\n",
              "      <th>470</th>\n",
              "      <td>471</td>\n",
              "      <td>wwe Smackdown vs. Raw 2006</td>\n",
              "      <td>PS2</td>\n",
              "      <td>NaN</td>\n",
              "      <td>Fighting</td>\n",
              "      <td>NaN</td>\n",
              "      <td>1.57</td>\n",
              "      <td>1.02</td>\n",
              "      <td>0.00</td>\n",
              "      <td>0.41</td>\n",
              "      <td>3.00</td>\n",
              "    </tr>\n",
              "    <tr>\n",
              "      <th>607</th>\n",
              "      <td>608</td>\n",
              "      <td>Space Invaders</td>\n",
              "      <td>2600</td>\n",
              "      <td>NaN</td>\n",
              "      <td>Shooter</td>\n",
              "      <td>Atari</td>\n",
              "      <td>2.36</td>\n",
              "      <td>0.14</td>\n",
              "      <td>0.00</td>\n",
              "      <td>0.03</td>\n",
              "      <td>2.53</td>\n",
              "    </tr>\n",
              "  </tbody>\n",
              "</table>\n",
              "</div>\n",
              "      <button class=\"colab-df-convert\" onclick=\"convertToInteractive('df-744f2a3f-c264-4836-b7bd-d92743f0fd64')\"\n",
              "              title=\"Convert this dataframe to an interactive table.\"\n",
              "              style=\"display:none;\">\n",
              "        \n",
              "  <svg xmlns=\"http://www.w3.org/2000/svg\" height=\"24px\"viewBox=\"0 0 24 24\"\n",
              "       width=\"24px\">\n",
              "    <path d=\"M0 0h24v24H0V0z\" fill=\"none\"/>\n",
              "    <path d=\"M18.56 5.44l.94 2.06.94-2.06 2.06-.94-2.06-.94-.94-2.06-.94 2.06-2.06.94zm-11 1L8.5 8.5l.94-2.06 2.06-.94-2.06-.94L8.5 2.5l-.94 2.06-2.06.94zm10 10l.94 2.06.94-2.06 2.06-.94-2.06-.94-.94-2.06-.94 2.06-2.06.94z\"/><path d=\"M17.41 7.96l-1.37-1.37c-.4-.4-.92-.59-1.43-.59-.52 0-1.04.2-1.43.59L10.3 9.45l-7.72 7.72c-.78.78-.78 2.05 0 2.83L4 21.41c.39.39.9.59 1.41.59.51 0 1.02-.2 1.41-.59l7.78-7.78 2.81-2.81c.8-.78.8-2.07 0-2.86zM5.41 20L4 18.59l7.72-7.72 1.47 1.35L5.41 20z\"/>\n",
              "  </svg>\n",
              "      </button>\n",
              "      \n",
              "  <style>\n",
              "    .colab-df-container {\n",
              "      display:flex;\n",
              "      flex-wrap:wrap;\n",
              "      gap: 12px;\n",
              "    }\n",
              "\n",
              "    .colab-df-convert {\n",
              "      background-color: #E8F0FE;\n",
              "      border: none;\n",
              "      border-radius: 50%;\n",
              "      cursor: pointer;\n",
              "      display: none;\n",
              "      fill: #1967D2;\n",
              "      height: 32px;\n",
              "      padding: 0 0 0 0;\n",
              "      width: 32px;\n",
              "    }\n",
              "\n",
              "    .colab-df-convert:hover {\n",
              "      background-color: #E2EBFA;\n",
              "      box-shadow: 0px 1px 2px rgba(60, 64, 67, 0.3), 0px 1px 3px 1px rgba(60, 64, 67, 0.15);\n",
              "      fill: #174EA6;\n",
              "    }\n",
              "\n",
              "    [theme=dark] .colab-df-convert {\n",
              "      background-color: #3B4455;\n",
              "      fill: #D2E3FC;\n",
              "    }\n",
              "\n",
              "    [theme=dark] .colab-df-convert:hover {\n",
              "      background-color: #434B5C;\n",
              "      box-shadow: 0px 1px 3px 1px rgba(0, 0, 0, 0.15);\n",
              "      filter: drop-shadow(0px 1px 2px rgba(0, 0, 0, 0.3));\n",
              "      fill: #FFFFFF;\n",
              "    }\n",
              "  </style>\n",
              "\n",
              "      <script>\n",
              "        const buttonEl =\n",
              "          document.querySelector('#df-744f2a3f-c264-4836-b7bd-d92743f0fd64 button.colab-df-convert');\n",
              "        buttonEl.style.display =\n",
              "          google.colab.kernel.accessAllowed ? 'block' : 'none';\n",
              "\n",
              "        async function convertToInteractive(key) {\n",
              "          const element = document.querySelector('#df-744f2a3f-c264-4836-b7bd-d92743f0fd64');\n",
              "          const dataTable =\n",
              "            await google.colab.kernel.invokeFunction('convertToInteractive',\n",
              "                                                     [key], {});\n",
              "          if (!dataTable) return;\n",
              "\n",
              "          const docLinkHtml = 'Like what you see? Visit the ' +\n",
              "            '<a target=\"_blank\" href=https://colab.research.google.com/notebooks/data_table.ipynb>data table notebook</a>'\n",
              "            + ' to learn more about interactive tables.';\n",
              "          element.innerHTML = '';\n",
              "          dataTable['output_type'] = 'display_data';\n",
              "          await google.colab.output.renderOutput(dataTable, element);\n",
              "          const docLink = document.createElement('div');\n",
              "          docLink.innerHTML = docLinkHtml;\n",
              "          element.appendChild(docLink);\n",
              "        }\n",
              "      </script>\n",
              "    </div>\n",
              "  </div>\n",
              "  "
            ],
            "text/plain": [
              "     Rank                        Name  ... Other_Sales  Global_Sales\n",
              "179   180             Madden NFL 2004  ...        0.71          5.23\n",
              "377   378            FIFA Soccer 2004  ...        0.51          3.49\n",
              "431   432  LEGO Batman: The Videogame  ...        0.29          3.17\n",
              "470   471  wwe Smackdown vs. Raw 2006  ...        0.41          3.00\n",
              "607   608              Space Invaders  ...        0.03          2.53\n",
              "\n",
              "[5 rows x 11 columns]"
            ]
          },
          "metadata": {},
          "output_type": "display_data"
        },
        {
          "data": {
            "text/html": [
              "\n",
              "  <div id=\"df-2fff7683-d84a-4bf8-82e0-1a45ea3edee2\">\n",
              "    <div class=\"colab-df-container\">\n",
              "      <div>\n",
              "<style scoped>\n",
              "    .dataframe tbody tr th:only-of-type {\n",
              "        vertical-align: middle;\n",
              "    }\n",
              "\n",
              "    .dataframe tbody tr th {\n",
              "        vertical-align: top;\n",
              "    }\n",
              "\n",
              "    .dataframe thead th {\n",
              "        text-align: right;\n",
              "    }\n",
              "</style>\n",
              "<table border=\"1\" class=\"dataframe\">\n",
              "  <thead>\n",
              "    <tr style=\"text-align: right;\">\n",
              "      <th></th>\n",
              "      <th>Rank</th>\n",
              "      <th>Name</th>\n",
              "      <th>Platform</th>\n",
              "      <th>Year</th>\n",
              "      <th>Genre</th>\n",
              "      <th>Publisher</th>\n",
              "      <th>NA_Sales</th>\n",
              "      <th>EU_Sales</th>\n",
              "      <th>JP_Sales</th>\n",
              "      <th>Other_Sales</th>\n",
              "      <th>Global_Sales</th>\n",
              "    </tr>\n",
              "  </thead>\n",
              "  <tbody>\n",
              "    <tr>\n",
              "      <th>0</th>\n",
              "      <td>1</td>\n",
              "      <td>Wii Sports</td>\n",
              "      <td>Wii</td>\n",
              "      <td>2006.0</td>\n",
              "      <td>Sports</td>\n",
              "      <td>Nintendo</td>\n",
              "      <td>41.49</td>\n",
              "      <td>29.02</td>\n",
              "      <td>3.77</td>\n",
              "      <td>8.46</td>\n",
              "      <td>82.74</td>\n",
              "    </tr>\n",
              "    <tr>\n",
              "      <th>1</th>\n",
              "      <td>2</td>\n",
              "      <td>Super Mario Bros.</td>\n",
              "      <td>NES</td>\n",
              "      <td>1985.0</td>\n",
              "      <td>Platform</td>\n",
              "      <td>Nintendo</td>\n",
              "      <td>29.08</td>\n",
              "      <td>3.58</td>\n",
              "      <td>6.81</td>\n",
              "      <td>0.77</td>\n",
              "      <td>40.24</td>\n",
              "    </tr>\n",
              "    <tr>\n",
              "      <th>2</th>\n",
              "      <td>3</td>\n",
              "      <td>Mario Kart Wii</td>\n",
              "      <td>Wii</td>\n",
              "      <td>2008.0</td>\n",
              "      <td>Racing</td>\n",
              "      <td>Nintendo</td>\n",
              "      <td>15.85</td>\n",
              "      <td>12.88</td>\n",
              "      <td>3.79</td>\n",
              "      <td>3.31</td>\n",
              "      <td>35.82</td>\n",
              "    </tr>\n",
              "    <tr>\n",
              "      <th>3</th>\n",
              "      <td>4</td>\n",
              "      <td>Wii Sports Resort</td>\n",
              "      <td>Wii</td>\n",
              "      <td>2009.0</td>\n",
              "      <td>Sports</td>\n",
              "      <td>Nintendo</td>\n",
              "      <td>15.75</td>\n",
              "      <td>11.01</td>\n",
              "      <td>3.28</td>\n",
              "      <td>2.96</td>\n",
              "      <td>33.00</td>\n",
              "    </tr>\n",
              "    <tr>\n",
              "      <th>4</th>\n",
              "      <td>5</td>\n",
              "      <td>Pokemon Red/Pokemon Blue</td>\n",
              "      <td>GB</td>\n",
              "      <td>1996.0</td>\n",
              "      <td>Role-Playing</td>\n",
              "      <td>Nintendo</td>\n",
              "      <td>11.27</td>\n",
              "      <td>8.89</td>\n",
              "      <td>10.22</td>\n",
              "      <td>1.00</td>\n",
              "      <td>31.37</td>\n",
              "    </tr>\n",
              "  </tbody>\n",
              "</table>\n",
              "</div>\n",
              "      <button class=\"colab-df-convert\" onclick=\"convertToInteractive('df-2fff7683-d84a-4bf8-82e0-1a45ea3edee2')\"\n",
              "              title=\"Convert this dataframe to an interactive table.\"\n",
              "              style=\"display:none;\">\n",
              "        \n",
              "  <svg xmlns=\"http://www.w3.org/2000/svg\" height=\"24px\"viewBox=\"0 0 24 24\"\n",
              "       width=\"24px\">\n",
              "    <path d=\"M0 0h24v24H0V0z\" fill=\"none\"/>\n",
              "    <path d=\"M18.56 5.44l.94 2.06.94-2.06 2.06-.94-2.06-.94-.94-2.06-.94 2.06-2.06.94zm-11 1L8.5 8.5l.94-2.06 2.06-.94-2.06-.94L8.5 2.5l-.94 2.06-2.06.94zm10 10l.94 2.06.94-2.06 2.06-.94-2.06-.94-.94-2.06-.94 2.06-2.06.94z\"/><path d=\"M17.41 7.96l-1.37-1.37c-.4-.4-.92-.59-1.43-.59-.52 0-1.04.2-1.43.59L10.3 9.45l-7.72 7.72c-.78.78-.78 2.05 0 2.83L4 21.41c.39.39.9.59 1.41.59.51 0 1.02-.2 1.41-.59l7.78-7.78 2.81-2.81c.8-.78.8-2.07 0-2.86zM5.41 20L4 18.59l7.72-7.72 1.47 1.35L5.41 20z\"/>\n",
              "  </svg>\n",
              "      </button>\n",
              "      \n",
              "  <style>\n",
              "    .colab-df-container {\n",
              "      display:flex;\n",
              "      flex-wrap:wrap;\n",
              "      gap: 12px;\n",
              "    }\n",
              "\n",
              "    .colab-df-convert {\n",
              "      background-color: #E8F0FE;\n",
              "      border: none;\n",
              "      border-radius: 50%;\n",
              "      cursor: pointer;\n",
              "      display: none;\n",
              "      fill: #1967D2;\n",
              "      height: 32px;\n",
              "      padding: 0 0 0 0;\n",
              "      width: 32px;\n",
              "    }\n",
              "\n",
              "    .colab-df-convert:hover {\n",
              "      background-color: #E2EBFA;\n",
              "      box-shadow: 0px 1px 2px rgba(60, 64, 67, 0.3), 0px 1px 3px 1px rgba(60, 64, 67, 0.15);\n",
              "      fill: #174EA6;\n",
              "    }\n",
              "\n",
              "    [theme=dark] .colab-df-convert {\n",
              "      background-color: #3B4455;\n",
              "      fill: #D2E3FC;\n",
              "    }\n",
              "\n",
              "    [theme=dark] .colab-df-convert:hover {\n",
              "      background-color: #434B5C;\n",
              "      box-shadow: 0px 1px 3px 1px rgba(0, 0, 0, 0.15);\n",
              "      filter: drop-shadow(0px 1px 2px rgba(0, 0, 0, 0.3));\n",
              "      fill: #FFFFFF;\n",
              "    }\n",
              "  </style>\n",
              "\n",
              "      <script>\n",
              "        const buttonEl =\n",
              "          document.querySelector('#df-2fff7683-d84a-4bf8-82e0-1a45ea3edee2 button.colab-df-convert');\n",
              "        buttonEl.style.display =\n",
              "          google.colab.kernel.accessAllowed ? 'block' : 'none';\n",
              "\n",
              "        async function convertToInteractive(key) {\n",
              "          const element = document.querySelector('#df-2fff7683-d84a-4bf8-82e0-1a45ea3edee2');\n",
              "          const dataTable =\n",
              "            await google.colab.kernel.invokeFunction('convertToInteractive',\n",
              "                                                     [key], {});\n",
              "          if (!dataTable) return;\n",
              "\n",
              "          const docLinkHtml = 'Like what you see? Visit the ' +\n",
              "            '<a target=\"_blank\" href=https://colab.research.google.com/notebooks/data_table.ipynb>data table notebook</a>'\n",
              "            + ' to learn more about interactive tables.';\n",
              "          element.innerHTML = '';\n",
              "          dataTable['output_type'] = 'display_data';\n",
              "          await google.colab.output.renderOutput(dataTable, element);\n",
              "          const docLink = document.createElement('div');\n",
              "          docLink.innerHTML = docLinkHtml;\n",
              "          element.appendChild(docLink);\n",
              "        }\n",
              "      </script>\n",
              "    </div>\n",
              "  </div>\n",
              "  "
            ],
            "text/plain": [
              "   Rank                      Name Platform  ...  JP_Sales Other_Sales Global_Sales\n",
              "0     1                Wii Sports      Wii  ...      3.77        8.46        82.74\n",
              "1     2         Super Mario Bros.      NES  ...      6.81        0.77        40.24\n",
              "2     3            Mario Kart Wii      Wii  ...      3.79        3.31        35.82\n",
              "3     4         Wii Sports Resort      Wii  ...      3.28        2.96        33.00\n",
              "4     5  Pokemon Red/Pokemon Blue       GB  ...     10.22        1.00        31.37\n",
              "\n",
              "[5 rows x 11 columns]"
            ]
          },
          "execution_count": 14,
          "metadata": {},
          "output_type": "execute_result"
        }
      ],
      "source": [
        "nan_sales = sales[sales.isna().any(axis=1)]\n",
        "display(nan_sales.head())\n",
        "\n",
        "\n",
        "sales = sales.dropna(how='all')\n",
        "sales.head()"
      ]
    },
    {
      "cell_type": "markdown",
      "metadata": {
        "id": "7swXKMPlJ0x1"
      },
      "source": [
        "Первое, что мы можем попробовать сделать, - это проверить, сколько глобальных продаж игр происходит в год. Мы можем посчитать, сколько лет находится в базе данных, а затем построить график сравнения этих лет с глобальными продажами"
      ]
    },
    {
      "cell_type": "code",
      "execution_count": null,
      "metadata": {
        "colab": {
          "base_uri": "https://localhost:8080/",
          "height": 541
        },
        "id": "y_8IDLDdJ0MM",
        "outputId": "d43dcf8e-b36b-4ccf-fa5a-927a9c27b702"
      },
      "outputs": [
        {
          "data": {
            "text/plain": [
              "Text(0.5, 1.0, 'Game Releases Per Year')"
            ]
          },
          "execution_count": 15,
          "metadata": {},
          "output_type": "execute_result"
        },
        {
          "data": {
            "image/png": "[encoded data removed]",
            "text/plain": [
              "<Figure size 864x576 with 1 Axes>"
            ]
          },
          "metadata": {},
          "output_type": "display_data"
        }
      ],
      "source": [
        "x = sales.groupby(['Year']).count()\n",
        "x = x['Global_Sales']\n",
        "y = x.index.astype(int)\n",
        "\n",
        "plt.figure(figsize=(12,8))\n",
        "colors = sns.color_palette(\"muted\")\n",
        "ax = sns.barplot(y = y, x = x,orient='h',palette=colors)\n",
        "ax.set_xlabel(xlabel='Number of releases', fontsize=16)\n",
        "ax.set_ylabel(ylabel='Year', fontsize=16)\n",
        "ax.set_title(label='Game Releases Per Year', fontsize=20)"
      ]
    },
    {
      "cell_type": "code",
      "execution_count": null,
      "metadata": {
        "colab": {
          "base_uri": "https://localhost:8080/",
          "height": 1000
        },
        "id": "XPqIjIJCJ7sv",
        "outputId": "a3f1a24c-74eb-4f81-ac60-33bc31d56040"
      },
      "outputs": [
        {
          "name": "stdout",
          "output_type": "stream",
          "text": [
            "<class 'pandas.core.frame.DataFrame'>\n",
            "Int64Index: 16598 entries, 0 to 16597\n",
            "Data columns (total 11 columns):\n",
            " #   Column        Non-Null Count  Dtype  \n",
            "---  ------        --------------  -----  \n",
            " 0   Rank          16598 non-null  int64  \n",
            " 1   Name          16598 non-null  object \n",
            " 2   Platform      16598 non-null  object \n",
            " 3   Year          16327 non-null  float64\n",
            " 4   Genre         16598 non-null  object \n",
            " 5   Publisher     16540 non-null  object \n",
            " 6   NA_Sales      16598 non-null  float64\n",
            " 7   EU_Sales      16598 non-null  float64\n",
            " 8   JP_Sales      16598 non-null  float64\n",
            " 9   Other_Sales   16598 non-null  float64\n",
            " 10  Global_Sales  16598 non-null  float64\n",
            "dtypes: float64(6), int64(1), object(4)\n",
            "memory usage: 1.5+ MB\n",
            "None\n",
            "               Rank          Year  ...   Other_Sales  Global_Sales\n",
            "count  16598.000000  16327.000000  ...  16598.000000  16598.000000\n",
            "mean    8300.605254   2006.406443  ...      0.048063      0.537441\n",
            "std     4791.853933      5.828981  ...      0.188588      1.555028\n",
            "min        1.000000   1980.000000  ...      0.000000      0.010000\n",
            "25%     4151.250000   2003.000000  ...      0.000000      0.060000\n",
            "50%     8300.500000   2007.000000  ...      0.010000      0.170000\n",
            "75%    12449.750000   2010.000000  ...      0.040000      0.470000\n",
            "max    16600.000000   2020.000000  ...     10.570000     82.740000\n",
            "\n",
            "[8 rows x 7 columns]\n"
          ]
        },
        {
          "name": "stderr",
          "output_type": "stream",
          "text": [
            "/usr/local/lib/python3.7/dist-packages/ipykernel_launcher.py:8: SettingWithCopyWarning: \n",
            "A value is trying to be set on a copy of a slice from a DataFrame\n",
            "\n",
            "See the caveats in the documentation: https://pandas.pydata.org/pandas-docs/stable/user_guide/indexing.html#returning-a-view-versus-a-copy\n",
            "  \n",
            "/usr/local/lib/python3.7/dist-packages/ipykernel_launcher.py:11: SettingWithCopyWarning: \n",
            "A value is trying to be set on a copy of a slice from a DataFrame\n",
            "\n",
            "See the caveats in the documentation: https://pandas.pydata.org/pandas-docs/stable/user_guide/indexing.html#returning-a-view-versus-a-copy\n",
            "  # This is added back by InteractiveShellApp.init_path()\n"
          ]
        },
        {
          "data": {
            "image/png": "[encoded data removed]",
            "text/plain": [
              "<Figure size 432x288 with 1 Axes>"
            ]
          },
          "metadata": {},
          "output_type": "display_data"
        },
        {
          "data": {
            "image/png": "[encoded data removed]",
            "text/plain": [
              "<Figure size 432x288 with 1 Axes>"
            ]
          },
          "metadata": {},
          "output_type": "display_data"
        }
      ],
      "source": [
        "print(sales.info())\n",
        "print(sales.describe())\n",
        "\n",
        "# let's choose a cutoff and drop any publishers that have published less than X games\n",
        "\n",
        "for i in sales['Publisher'].unique():\n",
        "    if sales['Publisher'][sales['Publisher'] == i].count() < 60:\n",
        "        sales['Publisher'][sales['Publisher'] == i] = 'Other'\n",
        "for i in sales['Platform'].unique():\n",
        "    if sales['Platform'][sales['Platform'] == i].count() < 100:\n",
        "        sales['Platform'][sales['Platform'] == i] = 'Other'\n",
        "sns.countplot(x='Publisher', data=sales)\n",
        "plt.title(\"# Games Published By Publisher\")\n",
        "plt.xticks(rotation=-90)\n",
        "plt.show()\n",
        "\n",
        "plat_data = sales['Platform'].value_counts(sort=False)\n",
        "sns.countplot(y='Platform', data=sales)\n",
        "plt.title(\"# Games Published Per Console\")\n",
        "plt.xticks(rotation=-90)\n",
        "plt.show()"
      ]
    },
    {
      "cell_type": "code",
      "execution_count": null,
      "metadata": {
        "colab": {
          "base_uri": "https://localhost:8080/",
          "height": 304
        },
        "id": "nLCCjZc5J_GR",
        "outputId": "80e5769f-e324-4c63-9487-99235eeb8b03"
      },
      "outputs": [
        {
          "data": {
            "image/png": "[encoded data removed]",
            "text/plain": [
              "<Figure size 432x288 with 1 Axes>"
            ]
          },
          "metadata": {},
          "output_type": "display_data"
        }
      ],
      "source": [
        "sns.barplot(x='Genre', y='Global_Sales', data=sales)\n",
        "plt.title(\"Total Sales Per Genre\")\n",
        "plt.xticks(rotation=-45)\n",
        "plt.show()"
      ]
    },
    {
      "cell_type": "code",
      "execution_count": null,
      "metadata": {
        "colab": {
          "base_uri": "https://localhost:8080/",
          "height": 582
        },
        "id": "5yYSnZQVNVNz",
        "outputId": "f162f753-11af-4d0f-ae36-d71fafb66395"
      },
      "outputs": [
        {
          "data": {
            "image/png": "[encoded data removed]",
            "text/plain": [
              "<Figure size 1440x720 with 1 Axes>"
            ]
          },
          "metadata": {},
          "output_type": "display_data"
        }
      ],
      "source": [
        "for i in sales['Platform'].unique():\n",
        "    sales['Genre'][sales['Platform'] == i].value_counts().plot(kind='bar', label=i, figsize=(20, 10), grid=True)\n",
        "\n",
        "# set the legend and ticks\n",
        "\n",
        "plt.legend(bbox_to_anchor=(0., 1.02, 1., .102), loc=3, ncol=20, borderaxespad=0.)\n",
        "plt.xticks(np.arange(12), tuple(sales['Genre'].unique()))\n",
        "plt.tight_layout()\n",
        "plt.show()"
      ]
    },
    {
      "cell_type": "markdown",
      "metadata": {
        "id": "q4vmYKJhKMv6"
      },
      "source": [
        "Теперь, когда мы построили некоторые данные, давайте попробуем предсказать некоторые тенденции на основе этих данных. Мы можем сделать регрессию дерева решений, чтобы понять, чем могут закончиться показатели мировых продаж на основе показателей продаж в Европе. Сначала нам нужно разделить наши данные на наборы для обучения и тестирования. Мы начнем с определения продаж в Северной Америке как переменной X и глобальных продаж как переменной Y, а затем проведем разделение обучения / тестирования."
      ]
    },
    {
      "cell_type": "markdown",
      "metadata": {
        "id": "VzwQODS4KRxr"
      },
      "source": [
        "#Разделите набор данных на обучающий набор и тестовый набор"
      ]
    },
    {
      "cell_type": "code",
      "execution_count": null,
      "metadata": {
        "id": "fAQtREZsKMTA"
      },
      "outputs": [],
      "source": [
        "X = sales.iloc[:, 7].values\n",
        "y = sales.iloc[:, 10].values\n",
        "\n",
        "# train test split and split the dataframe\n",
        "\n",
        "X_train, X_test, y_train, y_test = train_test_split(X, y, test_size=0.2, random_state=8)"
      ]
    },
    {
      "cell_type": "code",
      "execution_count": null,
      "metadata": {
        "id": "PE7JK4DbLiyF"
      },
      "outputs": [],
      "source": [
        "X_train = X_train.reshape(-1, 1)\n",
        "X_test = X_test.reshape(-1, 1)\n",
        "y_train = y_train.reshape(-1,1)\n",
        "y_test =y_test.reshape(-1,1)"
      ]
    },
    {
      "cell_type": "markdown",
      "metadata": {
        "id": "Jrk7XOhCKgpL"
      },
      "source": [
        "#Decision Tree regressor."
      ]
    },
    {
      "cell_type": "code",
      "execution_count": null,
      "metadata": {
        "colab": {
          "background_save": true
        },
        "id": "fr5DHEw2KWji"
      },
      "outputs": [],
      "source": [
        "DTree_regressor = DecisionTreeRegressor(criterion =\"squared_error\", random_state=5,min_samples_leaf)\n",
        "DTree_regressor = DTree_regressor.fit(X_train, y_train)\n",
        "y_pred=DTree_regressor.predict(X_train)"
      ]
    },
    {
      "cell_type": "markdown",
      "metadata": {
        "id": "XJGUmvARKpQp"
      },
      "source": [
        "функция для графика"
      ]
    },
    {
      "cell_type": "code",
      "execution_count": null,
      "metadata": {
        "colab": {
          "background_save": true
        },
        "id": "W8WpqHIWKoa_"
      },
      "outputs": [],
      "source": [
        "def plot_regression(classifier):\n",
        "    \n",
        "    plt.scatter(X_train, y_train,color='blue')\n",
        "    plt.plot(X_train, classifier.predict(X_train), color='red')\n",
        "    plt.title('(Training set)')\n",
        "    plt.xlabel('European Sales')\n",
        "    plt.ylabel('Global Sales')\n",
        "    plt.show()\n",
        "\n",
        "\n",
        "    plt.scatter(X_test, y_test,color='blue')\n",
        "    plt.plot(X_train, classifier.predict(X_train), color='red')\n",
        "    plt.title('(Testing set)')\n",
        "    plt.xlabel('European  Sales')\n",
        "    plt.ylabel('Global Sales')\n",
        "    plt.show()"
      ]
    },
    {
      "cell_type": "code",
      "execution_count": null,
      "metadata": {
        "colab": {
          "background_save": true,
          "base_uri": "https://localhost:8080/",
          "height": 581
        },
        "id": "wCOQf-R9L1BD",
        "outputId": "b78235d1-a758-4915-a8a2-c1c8056ef76b"
      },
      "outputs": [
        {
          "data": {
            "image/png": "[encoded data removed]",
            "text/plain": [
              "<Figure size 432x288 with 1 Axes>"
            ]
          },
          "metadata": {},
          "output_type": "display_data"
        },
        {
          "data": {
            "image/png": "[encoded data removed]",
            "text/plain": [
              "<Figure size 432x288 with 1 Axes>"
            ]
          },
          "metadata": {},
          "output_type": "display_data"
        }
      ],
      "source": [
        "plot_regression(DTree_regressor)"
      ]
    },
    {
      "cell_type": "markdown",
      "metadata": {
        "id": "iym32vsQLA3B"
      },
      "source": [
        "выступления"
      ]
    },
    {
      "cell_type": "code",
      "execution_count": 31,
      "metadata": {
        "id": "aOYhJ_pqK5JX"
      },
      "outputs": [],
      "source": [
        "def calculation_evaluations(y: pd.Series, pre: np.ndarray) -> None:\n",
        "  print('Mean Squared Error: {:.3f}'.format(mean_squared_error(y, pre)))\n",
        "  print('Mean Absolute Error: {:.3f}'.format(mean_absolute_error(y, pre)))\n",
        "  print('score: {:.3f}'.format(r2_score(y, pre)))\n",
        "  print('Root Mean Squared Error : {:.3f}'.format(np.sqrt(mean_squared_error(y, pre))))\n",
        "  print('Accuracy:',format(r2_score(y, pre)* 100,'.2f'),'%')"
      ]
    },
    {
      "cell_type": "code",
      "source": [
        "calculation_evaluations(y_train,y_pred)"
      ],
      "metadata": {
        "colab": {
          "base_uri": "https://localhost:8080/"
        },
        "id": "BV1nv0qSTkWQ",
        "outputId": "55bcf201-11e2-4ef3-a7a3-bdca834716f9"
      },
      "execution_count": 32,
      "outputs": [
        {
          "output_type": "stream",
          "name": "stdout",
          "text": [
            "Mean Squared Error: 0.290\n",
            "Mean Absolute Error: 0.219\n",
            "score: 0.891\n",
            "Root Mean Squared Error : 0.539\n",
            "Accuracy: 89.13 %\n"
          ]
        }
      ]
    },
    {
      "cell_type": "code",
      "execution_count": 33,
      "metadata": {
        "colab": {
          "base_uri": "https://localhost:8080/"
        },
        "id": "8lBIPeGqLHKN",
        "outputId": "e5d19c8a-36bf-4f2d-942d-0878f460f052"
      },
      "outputs": [
        {
          "output_type": "stream",
          "name": "stdout",
          "text": [
            "Training set score: 0.89\n",
            "Test set score: 0.66\n"
          ]
        }
      ],
      "source": [
        "print(\"Training set score: {:.2f}\".format(DTree_regressor.score(X_train, y_train)))\n",
        "print(\"Test set score: {:.2f}\".format(DTree_regressor.score(X_test, y_test)))"
      ]
    }
  ],
  "metadata": {
    "colab": {
      "name": "GamesSalesAnalysis",
      "provenance": [],
      "authorship_tag": "ABX9TyPLoLTl2OWISpUa9f/u+Un9",
      "include_colab_link": true
    },
    "kernelspec": {
      "display_name": "Python 3",
      "name": "python3"
    },
    "language_info": {
      "name": "python"
    }
  },
  "nbformat": 4,
  "nbformat_minor": 0
}