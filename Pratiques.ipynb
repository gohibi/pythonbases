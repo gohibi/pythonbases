{
  "nbformat": 4,
  "nbformat_minor": 0,
  "metadata": {
    "colab": {
      "name": "Pratiques.ipynb",
      "provenance": [],
      "collapsed_sections": [],
      "authorship_tag": "ABX9TyPJzIEOzL8Vp7ltKoAYYtWL",
      "include_colab_link": true
    },
    "kernelspec": {
      "name": "python3",
      "display_name": "Python 3"
    },
    "language_info": {
      "name": "python"
    }
  },
  "cells": [
    {
      "cell_type": "markdown",
      "metadata": {
        "id": "view-in-github",
        "colab_type": "text"
      },
      "source": [
        "<a href=\"https://colab.research.google.com/github/gohibi/pythonbases/blob/main/Pratiques.ipynb\" target=\"_parent\"><img src=\"https://colab.research.google.com/assets/colab-badge.svg\" alt=\"Open In Colab\"/></a>"
      ]
    },
    {
      "cell_type": "code",
      "metadata": {
        "id": "goFLfA_yLxse"
      },
      "source": [
        "import random\n",
        "def devinette():\n",
        "  appreciation=\"?\"\n",
        "  rand=random.randint(0,100)\n",
        "  while True:\n",
        "    var=int(input('entrez nombre devine :'))\n",
        "    if var > rand:\n",
        "      appreciation=\"trop grand\"\n",
        "      print(f\"{var} est {appreciation}\")\n",
        "    elif var < rand :\n",
        "      appreciation=\"trop petit\"\n",
        "      print(f\"{var} est {appreciation}\")\n",
        "    else:\n",
        "      appreciation=\"exactement\"\n",
        "      print(f\"{var} est {appreciation}le nombre devine\")\n",
        "      break\n"
      ],
      "execution_count": null,
      "outputs": []
    },
    {
      "cell_type": "code",
      "metadata": {
        "id": "CKqRuccnVSoA"
      },
      "source": [
        "import random\n",
        "def devinetteNew():\n",
        "  nbr_essais_max=3\n",
        "  count_essais=0\n",
        "  appreciation=\"?\"\n",
        "  rand=random.randint(0,100)\n",
        "  var=0\n",
        "  while var != rand and count_essais <= nbr_essais_max:\n",
        "    print('essai No', count_essais)\n",
        "    var=int(input('entrez nombre devine :'))\n",
        "    if var > rand:\n",
        "      appreciation=\"trop grand\"\n",
        "      print(f\"{var} est {appreciation}\")\n",
        "    elif var < rand :\n",
        "      appreciation=\"trop petit\"\n",
        "      print(f\"{var} est {appreciation}\")\n",
        "    else:\n",
        "      appreciation=\"exactement\"\n",
        "      print(f\"{var} est {appreciation}le nombre devine\")\n",
        "      break\n",
        "    count_essais +=1\n",
        "  if count_essais > nbr_essais_max and var != rand :\n",
        "    print(f'vous avez epuise vos {nbr_essais_max} essais')\n"
      ],
      "execution_count": null,
      "outputs": []
    },
    {
      "cell_type": "code",
      "metadata": {
        "id": "eN_p-_stWzok"
      },
      "source": [
        "def sum(listed):\n",
        "  _sum=0\n",
        "  length=len(listed)\n",
        "  for i in range(length):\n",
        "    _sum=_sum + listed[i]\n",
        "  return _sum\n"
      ],
      "execution_count": null,
      "outputs": []
    },
    {
      "cell_type": "code",
      "metadata": {
        "colab": {
          "base_uri": "https://localhost:8080/"
        },
        "id": "EIoCWVzLY71v",
        "outputId": "3c0a9e9b-b3c9-4f14-f668-4f86a40cc96a"
      },
      "source": [
        "listes=[2,1,3,4]\n",
        "sum(listes)"
      ],
      "execution_count": null,
      "outputs": [
        {
          "output_type": "execute_result",
          "data": {
            "text/plain": [
              "10"
            ]
          },
          "metadata": {},
          "execution_count": 19
        }
      ]
    },
    {
      "cell_type": "code",
      "metadata": {
        "id": "UkCIuvqvZmAP"
      },
      "source": [
        "def ordonne_str(string):\n",
        "  string = ''.join(sorted(string))\n",
        "  return string\n"
      ],
      "execution_count": null,
      "outputs": []
    },
    {
      "cell_type": "code",
      "metadata": {
        "colab": {
          "base_uri": "https://localhost:8080/",
          "height": 35
        },
        "id": "6ImsLRliaAly",
        "outputId": "a4393c1e-7d84-4131-8207-47e4827ebf9e"
      },
      "source": [
        "ordonne_str('yamoussokro')"
      ],
      "execution_count": null,
      "outputs": [
        {
          "output_type": "execute_result",
          "data": {
            "application/vnd.google.colaboratory.intrinsic+json": {
              "type": "string"
            },
            "text/plain": [
              "'akmooorssuy'"
            ]
          },
          "metadata": {},
          "execution_count": 24
        }
      ]
    },
    {
      "cell_type": "code",
      "metadata": {
        "id": "WuDhg4_WagOv"
      },
      "source": [
        "tuples=('a','e','i','o','u','y')\n",
        "def sans_voyelle(string):\n",
        "  newstr=string\n",
        "  for ch in string:\n",
        "    if ch in tuples[1:6]:\n",
        "      newstr =newstr.replace(ch,'')\n",
        "  return newstr\n"
      ],
      "execution_count": null,
      "outputs": []
    },
    {
      "cell_type": "code",
      "metadata": {
        "colab": {
          "base_uri": "https://localhost:8080/",
          "height": 35
        },
        "id": "rMlIx5xKblai",
        "outputId": "687e4b01-0f7c-4079-b2c5-28dd10a3187c"
      },
      "source": [
        "sans_voyelle(\"bouateille jai bu\")"
      ],
      "execution_count": null,
      "outputs": [
        {
          "output_type": "execute_result",
          "data": {
            "application/vnd.google.colaboratory.intrinsic+json": {
              "type": "string"
            },
            "text/plain": [
              "'batll ja b'"
            ]
          },
          "metadata": {},
          "execution_count": 30
        }
      ]
    }
  ]
}