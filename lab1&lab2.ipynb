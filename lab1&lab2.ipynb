{
  "nbformat": 4,
  "nbformat_minor": 0,
  "metadata": {
    "colab": {
      "name": "lab1&lab2",
      "provenance": [],
      "collapsed_sections": [],
      "authorship_tag": "ABX9TyP3fvZWI1Vfb6tGlDvGSzq1",
      "include_colab_link": true
    },
    "kernelspec": {
      "name": "python3",
      "display_name": "Python 3"
    },
    "language_info": {
      "name": "python"
    }
  },
  "cells": [
    {
      "cell_type": "markdown",
      "metadata": {
        "id": "view-in-github",
        "colab_type": "text"
      },
      "source": [
        "<a href=\"https://colab.research.google.com/github/gohibi/pythonbases/blob/main/lab1%26lab2.ipynb\" target=\"_parent\"><img src=\"https://colab.research.google.com/assets/colab-badge.svg\" alt=\"Open In Colab\"/></a>"
      ]
    },
    {
      "cell_type": "code",
      "metadata": {
        "id": "1JYX2perpMuq"
      },
      "source": [
        "import numpy as np\n",
        "import pandas as pd\n",
        "from matplotlib import pyplot as plt\n",
        "from scipy import stats\n",
        "from scipy.stats import chi2\n",
        "import math"
      ],
      "execution_count": 45,
      "outputs": []
    },
    {
      "cell_type": "markdown",
      "metadata": {
        "id": "4UGB3f95XC4N"
      },
      "source": [
        ""
      ]
    },
    {
      "cell_type": "code",
      "metadata": {
        "id": "RtU5bJi9W12o"
      },
      "source": [
        "X=pd.Series([21,29,27,29,27,29,31,29,31,29,\n",
        "   29,23,39,31,29,31,29,31,29,31,\n",
        "   33,31,31,31,27,23,27,33,29,25,\n",
        "   29,19,29,31,23,31,29,27,33,29,\n",
        "   31,29,31,23,35,27,29,29,27,29,\n",
        "   29,21,29,27,29,29,29,33,29,25,\n",
        "   25,27,31,29,29,27,33,29,31,29,\n",
        "   29,29,35,27,29,35,29,33,29,27,\n",
        "   31,31,27,29,35,27,33,29,27,29,\n",
        "   25,27,31,37,25,31,27,27,29,25])\n"
      ],
      "execution_count": 46,
      "outputs": []
    },
    {
      "cell_type": "markdown",
      "metadata": {
        "id": "S0n6MeTGXHsl"
      },
      "source": [
        "квартили"
      ]
    },
    {
      "cell_type": "code",
      "metadata": {
        "colab": {
          "base_uri": "https://localhost:8080/"
        },
        "id": "S_glQoHEW7Tg",
        "outputId": "8f9bffae-fcca-467c-f95e-9024fe49929e"
      },
      "source": [
        "Q1=np.quantile(X,0.25)\n",
        "print('Q1 =' ,Q1,'\\n')\n",
        "Q3=np.quantile(X,0.75)\n",
        "print('Q3 =' ,Q3,'\\n')\n"
      ],
      "execution_count": 47,
      "outputs": [
        {
          "output_type": "stream",
          "name": "stdout",
          "text": [
            "Q1 = 27.0 \n",
            "\n",
            "Q3 = 31.0 \n",
            "\n"
          ]
        }
      ]
    },
    {
      "cell_type": "markdown",
      "metadata": {
        "id": "ptEOwrwZX-VD"
      },
      "source": [
        "межквартильный интервал\n"
      ]
    },
    {
      "cell_type": "code",
      "metadata": {
        "colab": {
          "base_uri": "https://localhost:8080/"
        },
        "id": "TDKb_wp3Xre-",
        "outputId": "628ae0e9-b991-482b-f5fd-f279a6cead87"
      },
      "source": [
        "IQR=Q3 - Q1\n",
        "print('IQR = ',IQR)"
      ],
      "execution_count": 48,
      "outputs": [
        {
          "output_type": "stream",
          "name": "stdout",
          "text": [
            "IQR =  4.0\n"
          ]
        }
      ]
    },
    {
      "cell_type": "markdown",
      "metadata": {
        "id": "tZALCO0BYDcH"
      },
      "source": [
        "убрать выбросы.\n"
      ]
    },
    {
      "cell_type": "code",
      "metadata": {
        "id": "InANxiAEXyEU"
      },
      "source": [
        "X= X[~((X < (Q1 - 1.5 * IQR)) |(X > (Q3 + 1.5 * IQR)))] #remove outlier from quartile"
      ],
      "execution_count": 49,
      "outputs": []
    },
    {
      "cell_type": "code",
      "metadata": {
        "colab": {
          "base_uri": "https://localhost:8080/"
        },
        "id": "F-84r9nFyLEp",
        "outputId": "17cfa851-500c-43f8-e4d3-6a0662c79f9f"
      },
      "source": [
        "n=len(X) #length of serie\n",
        "print('length serie n = ', n , '\\n')"
      ],
      "execution_count": 50,
      "outputs": [
        {
          "output_type": "stream",
          "name": "stdout",
          "text": [
            "length serie n =  98 \n",
            "\n"
          ]
        }
      ]
    },
    {
      "cell_type": "code",
      "metadata": {
        "colab": {
          "base_uri": "https://localhost:8080/"
        },
        "id": "4eVz54uuY2Ya",
        "outputId": "be2d23c1-28ab-4bfa-ad2c-258a7f5057be"
      },
      "source": [
        "Xmax = np.max(X)\n",
        "print('Xmax =' , Xmax ,'\\n')"
      ],
      "execution_count": 51,
      "outputs": [
        {
          "output_type": "stream",
          "name": "stdout",
          "text": [
            "Xmax = 37 \n",
            "\n"
          ]
        }
      ]
    },
    {
      "cell_type": "code",
      "metadata": {
        "colab": {
          "base_uri": "https://localhost:8080/"
        },
        "id": "K_K3WKQ0Y5rD",
        "outputId": "741c9df9-c94a-4c39-cf1f-aa0e8993c3ea"
      },
      "source": [
        "Xmin=np.min(X)\n",
        "print('Xmin =' , Xmin ,'\\n')"
      ],
      "execution_count": 52,
      "outputs": [
        {
          "output_type": "stream",
          "name": "stdout",
          "text": [
            "Xmin = 21 \n",
            "\n"
          ]
        }
      ]
    },
    {
      "cell_type": "code",
      "metadata": {
        "colab": {
          "base_uri": "https://localhost:8080/"
        },
        "id": "82v8z7GLY9QR",
        "outputId": "b2e3f6dd-55e4-4a17-f2fc-9bd9dccb7fde"
      },
      "source": [
        "R =Xmax - Xmin #Размах\n",
        "print('Размах R = ', R , '\\n')"
      ],
      "execution_count": 53,
      "outputs": [
        {
          "output_type": "stream",
          "name": "stdout",
          "text": [
            "Размах R =  16 \n",
            "\n"
          ]
        }
      ]
    },
    {
      "cell_type": "code",
      "metadata": {
        "colab": {
          "base_uri": "https://localhost:8080/"
        },
        "id": "9KEKnL4T9vN5",
        "outputId": "0f0da8b4-f8c5-4484-b36c-fe864518b737"
      },
      "source": [
        "k= np.sqrt(n) #Часто\n",
        "print('k =', round(k,2), '\\n')"
      ],
      "execution_count": 54,
      "outputs": [
        {
          "output_type": "stream",
          "name": "stdout",
          "text": [
            "k = 9.9 \n",
            "\n"
          ]
        }
      ]
    },
    {
      "cell_type": "code",
      "metadata": {
        "colab": {
          "base_uri": "https://localhost:8080/"
        },
        "id": "Wedj83dEZC6S",
        "outputId": "9cb7a124-29a5-42d4-b302-45996532844f"
      },
      "source": [
        "h=round(R/k,2)  #длина\n",
        "print('длина h =', h ,'\\n')"
      ],
      "execution_count": 55,
      "outputs": [
        {
          "output_type": "stream",
          "name": "stdout",
          "text": [
            "длина h = 1.62 \n",
            "\n"
          ]
        }
      ]
    },
    {
      "cell_type": "code",
      "metadata": {
        "colab": {
          "base_uri": "https://localhost:8080/"
        },
        "id": "LnuLoa7QZGzf",
        "outputId": "82a7630f-1d59-455c-a815-fce10a28b657"
      },
      "source": [
        "x0 =Xmin - 0.5*h\n",
        "print( 'x0 =',round(x0,2),'\\n')"
      ],
      "execution_count": 56,
      "outputs": [
        {
          "output_type": "stream",
          "name": "stdout",
          "text": [
            "x0 = 20.19 \n",
            "\n"
          ]
        }
      ]
    },
    {
      "cell_type": "code",
      "metadata": {
        "colab": {
          "base_uri": "https://localhost:8080/"
        },
        "id": "0acAXZzGZJCU",
        "outputId": "b13a6d02-9d04-4cf4-ae2b-5261afd9c813"
      },
      "source": [
        "xk = Xmax + 0.5*h\n",
        "print( 'xk =',round(xk,2),'\\n')"
      ],
      "execution_count": 57,
      "outputs": [
        {
          "output_type": "stream",
          "name": "stdout",
          "text": [
            "xk = 37.81 \n",
            "\n"
          ]
        }
      ]
    },
    {
      "cell_type": "code",
      "metadata": {
        "colab": {
          "base_uri": "https://localhost:8080/",
          "height": 360
        },
        "id": "RIT-q53b90b9",
        "outputId": "a881b896-40b0-4bb0-f691-cd65abb607e6"
      },
      "source": [
        "bin_range = np.arange(x0 , xk+h , h)\n",
        "out, bins  = pd.cut(X, bins=bin_range, include_lowest=True, right=False, retbins=True)\n",
        "out.value_counts(sort=False).plot.bar(color='#07d1f5', title='histogram')\n"
      ],
      "execution_count": 58,
      "outputs": [
        {
          "output_type": "execute_result",
          "data": {
            "text/plain": [
              "<matplotlib.axes._subplots.AxesSubplot at 0x7f2f36f1b750>"
            ]
          },
          "metadata": {},
          "execution_count": 58
        },
        {
          "output_type": "display_data",
          "data": {
            "image/png": "[encoded data removed]",
            "text/plain": [
              "<Figure size 432x288 with 1 Axes>"
            ]
          },
          "metadata": {
            "needs_background": "light"
          }
        }
      ]
    },
    {
      "cell_type": "code",
      "metadata": {
        "colab": {
          "base_uri": "https://localhost:8080/",
          "height": 221
        },
        "id": "vLj5n-DOZhJ2",
        "outputId": "045b303e-7f32-4ec2-812d-c7defd0b1583"
      },
      "source": [
        "display(out.value_counts(sort=False, ascending=False))"
      ],
      "execution_count": 59,
      "outputs": [
        {
          "output_type": "display_data",
          "data": {
            "text/plain": [
              "[20.19, 21.81)     2\n",
              "[21.81, 23.43)     4\n",
              "[23.43, 25.05)     6\n",
              "[25.05, 26.67)     0\n",
              "[26.67, 28.29)    18\n",
              "[28.29, 29.91)    37\n",
              "[29.91, 31.53)    19\n",
              "[31.53, 33.15)     7\n",
              "[33.15, 34.77)     0\n",
              "[34.77, 36.39)     4\n",
              "[36.39, 38.01)     1\n",
              "dtype: int64"
            ]
          },
          "metadata": {}
        }
      ]
    },
    {
      "cell_type": "markdown",
      "metadata": {
        "id": "axLWtPleZnNw"
      },
      "source": [
        "**Дискретный вариационный ряд**"
      ]
    },
    {
      "cell_type": "code",
      "metadata": {
        "id": "6cBQGn5Use2t"
      },
      "source": [
        "data={'xi':[21,22.62,24.24,25.86,27.48,29.1,30.72,32.34,33.96,35.58,37.2],\n",
        "      'ni':[2,4,6,0,18,37,19,7,0,4,1]}"
      ],
      "execution_count": 60,
      "outputs": []
    },
    {
      "cell_type": "code",
      "metadata": {
        "colab": {
          "base_uri": "https://localhost:8080/",
          "height": 390
        },
        "id": "Gq19MGJyZvrh",
        "outputId": "cdc86fa0-cb34-4a9a-b6ce-c8f1bc587624"
      },
      "source": [
        "df =pd.DataFrame(data) #Дискретный вариационный ряд\n",
        "display(df)"
      ],
      "execution_count": 37,
      "outputs": [
        {
          "output_type": "display_data",
          "data": {
            "text/html": [
              "<div>\n",
              "<style scoped>\n",
              "    .dataframe tbody tr th:only-of-type {\n",
              "        vertical-align: middle;\n",
              "    }\n",
              "\n",
              "    .dataframe tbody tr th {\n",
              "        vertical-align: top;\n",
              "    }\n",
              "\n",
              "    .dataframe thead th {\n",
              "        text-align: right;\n",
              "    }\n",
              "</style>\n",
              "<table border=\"1\" class=\"dataframe\">\n",
              "  <thead>\n",
              "    <tr style=\"text-align: right;\">\n",
              "      <th></th>\n",
              "      <th>xi</th>\n",
              "      <th>ni</th>\n",
              "    </tr>\n",
              "  </thead>\n",
              "  <tbody>\n",
              "    <tr>\n",
              "      <th>0</th>\n",
              "      <td>21.00</td>\n",
              "      <td>2</td>\n",
              "    </tr>\n",
              "    <tr>\n",
              "      <th>1</th>\n",
              "      <td>22.62</td>\n",
              "      <td>4</td>\n",
              "    </tr>\n",
              "    <tr>\n",
              "      <th>2</th>\n",
              "      <td>24.24</td>\n",
              "      <td>6</td>\n",
              "    </tr>\n",
              "    <tr>\n",
              "      <th>3</th>\n",
              "      <td>25.86</td>\n",
              "      <td>0</td>\n",
              "    </tr>\n",
              "    <tr>\n",
              "      <th>4</th>\n",
              "      <td>27.48</td>\n",
              "      <td>18</td>\n",
              "    </tr>\n",
              "    <tr>\n",
              "      <th>5</th>\n",
              "      <td>29.10</td>\n",
              "      <td>37</td>\n",
              "    </tr>\n",
              "    <tr>\n",
              "      <th>6</th>\n",
              "      <td>30.72</td>\n",
              "      <td>19</td>\n",
              "    </tr>\n",
              "    <tr>\n",
              "      <th>7</th>\n",
              "      <td>32.34</td>\n",
              "      <td>7</td>\n",
              "    </tr>\n",
              "    <tr>\n",
              "      <th>8</th>\n",
              "      <td>33.96</td>\n",
              "      <td>0</td>\n",
              "    </tr>\n",
              "    <tr>\n",
              "      <th>9</th>\n",
              "      <td>35.58</td>\n",
              "      <td>4</td>\n",
              "    </tr>\n",
              "    <tr>\n",
              "      <th>10</th>\n",
              "      <td>37.20</td>\n",
              "      <td>1</td>\n",
              "    </tr>\n",
              "  </tbody>\n",
              "</table>\n",
              "</div>"
            ],
            "text/plain": [
              "       xi  ni\n",
              "0   21.00   2\n",
              "1   22.62   4\n",
              "2   24.24   6\n",
              "3   25.86   0\n",
              "4   27.48  18\n",
              "5   29.10  37\n",
              "6   30.72  19\n",
              "7   32.34   7\n",
              "8   33.96   0\n",
              "9   35.58   4\n",
              "10  37.20   1"
            ]
          },
          "metadata": {}
        }
      ]
    },
    {
      "cell_type": "code",
      "metadata": {
        "colab": {
          "base_uri": "https://localhost:8080/",
          "height": 298
        },
        "id": "b3bfjyIjZzCC",
        "outputId": "5824a31e-e8be-4d45-dee2-50c04adecdbf"
      },
      "source": [
        "_,ax = plt.subplots()\n",
        "ax.plot(df['xi'], df['ni'], color='#6699cc', alpha=0.7,\n",
        "    linewidth=3, solid_capstyle='round', zorder=2)\n",
        "ax.set_title('Polygon')"
      ],
      "execution_count": 61,
      "outputs": [
        {
          "output_type": "execute_result",
          "data": {
            "text/plain": [
              "Text(0.5, 1.0, 'Polygon')"
            ]
          },
          "metadata": {},
          "execution_count": 61
        },
        {
          "output_type": "display_data",
          "data": {
            "image/png": "[encoded data removed]",
            "text/plain": [
              "<Figure size 432x288 with 1 Axes>"
            ]
          },
          "metadata": {
            "needs_background": "light"
          }
        }
      ]
    },
    {
      "cell_type": "markdown",
      "metadata": {
        "id": "thQC7ToHZ8KZ"
      },
      "source": [
        "**Построить график накопительных частот— кумуляту.**"
      ]
    },
    {
      "cell_type": "code",
      "metadata": {
        "id": "pNCewAel-bGE"
      },
      "source": [
        "data1={'xi':[21,22.62,24.24,25.86,27.48,29.1,30.72,32.34,33.96,35.58,37.2],\n",
        "      'ni':[2,4,6,0,18,37,19,7,0,4,1],\n",
        "      'fi':[0.02,0.041,0.061,0,0.184,0.378,0.194,0.071,0,0.041,0.01],\n",
        "      'cfi':[0.02,0.061,0.122,0.122,0.306,0.684,0.878,0.949,0.949,0.99,1]}"
      ],
      "execution_count": 62,
      "outputs": []
    },
    {
      "cell_type": "code",
      "metadata": {
        "colab": {
          "base_uri": "https://localhost:8080/",
          "height": 390
        },
        "id": "3f0utQtuaEhw",
        "outputId": "d68d44c5-df8d-44d2-abbc-bf9611f29463"
      },
      "source": [
        "df1 =pd.DataFrame(data1)\n",
        "display(df1)"
      ],
      "execution_count": 41,
      "outputs": [
        {
          "output_type": "display_data",
          "data": {
            "text/html": [
              "<div>\n",
              "<style scoped>\n",
              "    .dataframe tbody tr th:only-of-type {\n",
              "        vertical-align: middle;\n",
              "    }\n",
              "\n",
              "    .dataframe tbody tr th {\n",
              "        vertical-align: top;\n",
              "    }\n",
              "\n",
              "    .dataframe thead th {\n",
              "        text-align: right;\n",
              "    }\n",
              "</style>\n",
              "<table border=\"1\" class=\"dataframe\">\n",
              "  <thead>\n",
              "    <tr style=\"text-align: right;\">\n",
              "      <th></th>\n",
              "      <th>xi</th>\n",
              "      <th>ni</th>\n",
              "      <th>fi</th>\n",
              "      <th>cfi</th>\n",
              "    </tr>\n",
              "  </thead>\n",
              "  <tbody>\n",
              "    <tr>\n",
              "      <th>0</th>\n",
              "      <td>21.00</td>\n",
              "      <td>2</td>\n",
              "      <td>0.020</td>\n",
              "      <td>0.020</td>\n",
              "    </tr>\n",
              "    <tr>\n",
              "      <th>1</th>\n",
              "      <td>22.62</td>\n",
              "      <td>4</td>\n",
              "      <td>0.041</td>\n",
              "      <td>0.061</td>\n",
              "    </tr>\n",
              "    <tr>\n",
              "      <th>2</th>\n",
              "      <td>24.24</td>\n",
              "      <td>6</td>\n",
              "      <td>0.061</td>\n",
              "      <td>0.122</td>\n",
              "    </tr>\n",
              "    <tr>\n",
              "      <th>3</th>\n",
              "      <td>25.86</td>\n",
              "      <td>0</td>\n",
              "      <td>0.000</td>\n",
              "      <td>0.122</td>\n",
              "    </tr>\n",
              "    <tr>\n",
              "      <th>4</th>\n",
              "      <td>27.48</td>\n",
              "      <td>18</td>\n",
              "      <td>0.184</td>\n",
              "      <td>0.306</td>\n",
              "    </tr>\n",
              "    <tr>\n",
              "      <th>5</th>\n",
              "      <td>29.10</td>\n",
              "      <td>37</td>\n",
              "      <td>0.378</td>\n",
              "      <td>0.684</td>\n",
              "    </tr>\n",
              "    <tr>\n",
              "      <th>6</th>\n",
              "      <td>30.72</td>\n",
              "      <td>19</td>\n",
              "      <td>0.194</td>\n",
              "      <td>0.878</td>\n",
              "    </tr>\n",
              "    <tr>\n",
              "      <th>7</th>\n",
              "      <td>32.34</td>\n",
              "      <td>7</td>\n",
              "      <td>0.071</td>\n",
              "      <td>0.949</td>\n",
              "    </tr>\n",
              "    <tr>\n",
              "      <th>8</th>\n",
              "      <td>33.96</td>\n",
              "      <td>0</td>\n",
              "      <td>0.000</td>\n",
              "      <td>0.949</td>\n",
              "    </tr>\n",
              "    <tr>\n",
              "      <th>9</th>\n",
              "      <td>35.58</td>\n",
              "      <td>4</td>\n",
              "      <td>0.041</td>\n",
              "      <td>0.990</td>\n",
              "    </tr>\n",
              "    <tr>\n",
              "      <th>10</th>\n",
              "      <td>37.20</td>\n",
              "      <td>1</td>\n",
              "      <td>0.010</td>\n",
              "      <td>1.000</td>\n",
              "    </tr>\n",
              "  </tbody>\n",
              "</table>\n",
              "</div>"
            ],
            "text/plain": [
              "       xi  ni     fi    cfi\n",
              "0   21.00   2  0.020  0.020\n",
              "1   22.62   4  0.041  0.061\n",
              "2   24.24   6  0.061  0.122\n",
              "3   25.86   0  0.000  0.122\n",
              "4   27.48  18  0.184  0.306\n",
              "5   29.10  37  0.378  0.684\n",
              "6   30.72  19  0.194  0.878\n",
              "7   32.34   7  0.071  0.949\n",
              "8   33.96   0  0.000  0.949\n",
              "9   35.58   4  0.041  0.990\n",
              "10  37.20   1  0.010  1.000"
            ]
          },
          "metadata": {}
        }
      ]
    },
    {
      "cell_type": "code",
      "metadata": {
        "colab": {
          "base_uri": "https://localhost:8080/",
          "height": 298
        },
        "id": "D3czfAJXaHd9",
        "outputId": "8b570096-674d-4194-db38-1019712159ee"
      },
      "source": [
        "_,ax = plt.subplots()\n",
        "ax.plot(df1['xi'], df1['cfi'], color='#21a2ed', alpha=0.7,\n",
        "    linewidth=3, solid_capstyle='round', zorder=2)\n",
        "ax.set_title('cumulate')"
      ],
      "execution_count": 63,
      "outputs": [
        {
          "output_type": "execute_result",
          "data": {
            "text/plain": [
              "Text(0.5, 1.0, 'cumulate')"
            ]
          },
          "metadata": {},
          "execution_count": 63
        },
        {
          "output_type": "display_data",
          "data": {
            "image/png": "[encoded data removed]",
            "text/plain": [
              "<Figure size 432x288 with 1 Axes>"
            ]
          },
          "metadata": {
            "needs_background": "light"
          }
        }
      ]
    },
    {
      "cell_type": "markdown",
      "metadata": {
        "id": "7MI1lbguau4c"
      },
      "source": [
        "**Вычислить статистики:**"
      ]
    },
    {
      "cell_type": "markdown",
      "metadata": {
        "id": "DvQjW9Zwa01t"
      },
      "source": [
        "моду"
      ]
    },
    {
      "cell_type": "code",
      "metadata": {
        "colab": {
          "base_uri": "https://localhost:8080/"
        },
        "id": "-udOoHOOs26-",
        "outputId": "651aa36a-6ff3-42d9-ca15-7b2a66625f67"
      },
      "source": [
        "Xmode=X.mode(dropna=True)\n",
        "print('Mode =',Xmode ,'\\n')"
      ],
      "execution_count": 64,
      "outputs": [
        {
          "output_type": "stream",
          "name": "stdout",
          "text": [
            "Mode = 0    29\n",
            "dtype: int64 \n",
            "\n"
          ]
        }
      ]
    },
    {
      "cell_type": "markdown",
      "metadata": {
        "id": "9K4NdR_Za9Kd"
      },
      "source": [
        "медиану"
      ]
    },
    {
      "cell_type": "code",
      "metadata": {
        "colab": {
          "base_uri": "https://localhost:8080/"
        },
        "id": "97YHbDjNa7eB",
        "outputId": "b975abb9-35db-48b0-b71b-ebdbfe26acc1"
      },
      "source": [
        "\n",
        "md_X=X.median(skipna=True)\n",
        "print('Median = ',round(md_X,3) , '\\n')"
      ],
      "execution_count": 65,
      "outputs": [
        {
          "output_type": "stream",
          "name": "stdout",
          "text": [
            "Median =  29.0 \n",
            "\n"
          ]
        }
      ]
    },
    {
      "cell_type": "markdown",
      "metadata": {
        "id": "RBjD-YuubA6f"
      },
      "source": [
        "\n",
        "выборочную среднюю"
      ]
    },
    {
      "cell_type": "code",
      "metadata": {
        "colab": {
          "base_uri": "https://localhost:8080/"
        },
        "id": "FOH-X4jJ-qK4",
        "outputId": "01d5834c-42e2-434d-e9ec-8fdcc49afff8"
      },
      "source": [
        "mean_X=X.mean()\n",
        "print('Mean = ',round(mean_X,3) , '\\n')"
      ],
      "execution_count": 66,
      "outputs": [
        {
          "output_type": "stream",
          "name": "stdout",
          "text": [
            "Mean =  28.98 \n",
            "\n"
          ]
        }
      ]
    },
    {
      "cell_type": "markdown",
      "metadata": {
        "id": "OS-2oDi9bIRw"
      },
      "source": [
        "выборочную дисперсию"
      ]
    },
    {
      "cell_type": "code",
      "metadata": {
        "colab": {
          "base_uri": "https://localhost:8080/"
        },
        "id": "yfQpD72YbGoP",
        "outputId": "8a3c56b9-6ec2-4295-e8f8-1cd703428348"
      },
      "source": [
        "var_X=X.var()\n",
        "print('Variance =', round(var_X,3) , '\\n')"
      ],
      "execution_count": 67,
      "outputs": [
        {
          "output_type": "stream",
          "name": "stdout",
          "text": [
            "Variance = 8.618 \n",
            "\n"
          ]
        }
      ]
    },
    {
      "cell_type": "markdown",
      "metadata": {
        "id": "8rjsZ04kbQAe"
      },
      "source": [
        "выборочное среднее квадратическое отклонение"
      ]
    },
    {
      "cell_type": "code",
      "metadata": {
        "colab": {
          "base_uri": "https://localhost:8080/"
        },
        "id": "NPMY9qpybN58",
        "outputId": "0afadf5f-03b8-4879-d5ad-6b18124bea62"
      },
      "source": [
        "std_X=X.std()\n",
        "print('Standard Deviation sigma= ', round(std_X,3) , '\\n')"
      ],
      "execution_count": 68,
      "outputs": [
        {
          "output_type": "stream",
          "name": "stdout",
          "text": [
            "Standard Deviation sigma=  2.936 \n",
            "\n"
          ]
        }
      ]
    },
    {
      "cell_type": "markdown",
      "metadata": {
        "id": "sfc1vs7LbUEO"
      },
      "source": [
        "коэффициент вариации"
      ]
    },
    {
      "cell_type": "code",
      "metadata": {
        "colab": {
          "base_uri": "https://localhost:8080/"
        },
        "id": "q7Cl7ZAxbSvi",
        "outputId": "8c78cda8-ec63-4880-b8c4-c3e9086f8344"
      },
      "source": [
        "cv_X=std_X/mean_X*100\n",
        "print('the coefficient of variation cv =',round(cv_X,3),'\\n')"
      ],
      "execution_count": 69,
      "outputs": [
        {
          "output_type": "stream",
          "name": "stdout",
          "text": [
            "the coefficient of variation cv = 10.13 \n",
            "\n"
          ]
        }
      ]
    },
    {
      "cell_type": "markdown",
      "metadata": {
        "id": "FtmWwKAdbeSd"
      },
      "source": [
        "асимметрию"
      ]
    },
    {
      "cell_type": "code",
      "metadata": {
        "colab": {
          "base_uri": "https://localhost:8080/"
        },
        "id": "TLV0eVdGbaqk",
        "outputId": "bd52ac86-c22a-4b68-82ac-d2893b32b88c"
      },
      "source": [
        "skew_X=X.skew(skipna=True)\n",
        "print('Asymmetry As =', round(skew_X,3), '\\n')"
      ],
      "execution_count": 70,
      "outputs": [
        {
          "output_type": "stream",
          "name": "stdout",
          "text": [
            "Asymmetry As = -0.162 \n",
            "\n"
          ]
        }
      ]
    },
    {
      "cell_type": "markdown",
      "metadata": {
        "id": "vmFLHHF-bo2r"
      },
      "source": [
        "эксцесс"
      ]
    },
    {
      "cell_type": "code",
      "metadata": {
        "colab": {
          "base_uri": "https://localhost:8080/"
        },
        "id": "JQlUclPX-xuJ",
        "outputId": "431452de-c617-4257-c2a3-d5151fa10168"
      },
      "source": [
        "kurt_X=X.kurt()\n",
        "print('Excess Ex =', round(kurt_X,3), '\\n')"
      ],
      "execution_count": 71,
      "outputs": [
        {
          "output_type": "stream",
          "name": "stdout",
          "text": [
            "Excess Ex = 0.824 \n",
            "\n"
          ]
        }
      ]
    },
    {
      "cell_type": "markdown",
      "metadata": {
        "id": "lnPqBE9Pbuwr"
      },
      "source": [
        "Построить доверительные интервалы для истинного значения измеряемой величины и среднего квадратического отклонения генеральной совокупности"
      ]
    },
    {
      "cell_type": "markdown",
      "metadata": {
        "id": "WdLL8rzwb0qL"
      },
      "source": [
        "Для математического ожидания"
      ]
    },
    {
      "cell_type": "code",
      "metadata": {
        "colab": {
          "base_uri": "https://localhost:8080/"
        },
        "id": "j79leJPe-7GX",
        "outputId": "c33bb0cb-d3b9-4f84-e1b4-baf886b3fe81"
      },
      "source": [
        "s=X.std()\n",
        "xba=X.mean()\n",
        "n=len(X)\n",
        "gamma=0.95\n",
        "t=1.98472    #=TINV(0,05; 97) по экселе\n",
        "left_m=round(xba-t*(s/math.sqrt(n)),3)\n",
        "right_m=round(xba+t*(s/math.sqrt(n)),3)\n",
        "print('Confidence interval of mathematical expectation ', left_m ,'< m <', right_m)"
      ],
      "execution_count": 72,
      "outputs": [
        {
          "output_type": "stream",
          "name": "stdout",
          "text": [
            "Confidence interval of mathematical expectation  28.391 < m < 29.568\n"
          ]
        }
      ]
    },
    {
      "cell_type": "markdown",
      "metadata": {
        "id": "YOqBdufWb6FT"
      },
      "source": [
        "для среднего квадратического отклонения"
      ]
    },
    {
      "cell_type": "code",
      "metadata": {
        "colab": {
          "base_uri": "https://localhost:8080/"
        },
        "id": "JFs0Yyigb4Wz",
        "outputId": "274aeadf-4f8c-4099-be8a-42e8d6fc4c5e"
      },
      "source": [
        "ki1_right=73.361   # CHIINV(1,95/2;99) по эксель\n",
        "ki2_left=128.241   # CHIINV(0,05/2;99) по эксель\n",
        "sigm_left=(((n-1)*(s*s))/ki2_left)\n",
        "sigm_right=(((n-1)*(s*s))/ki1_right)\n",
        "print('Confidence interval of standard deviation',sigm_left ,'< s^2 <', sigm_right)\n"
      ],
      "execution_count": 73,
      "outputs": [
        {
          "output_type": "stream",
          "name": "stdout",
          "text": [
            "Confidence interval of standard deviation 6.518657712225187 < s^2 < 11.395144336547624\n"
          ]
        }
      ]
    },
    {
      "cell_type": "code",
      "metadata": {
        "id": "fXDjJoyddfoM"
      },
      "source": [
        ""
      ],
      "execution_count": null,
      "outputs": []
    },
    {
      "cell_type": "code",
      "metadata": {
        "id": "TAnr1EpOdfzW"
      },
      "source": [
        "print('******************************************** LAB 2 *********************************************************')"
      ],
      "execution_count": null,
      "outputs": []
    },
    {
      "cell_type": "markdown",
      "metadata": {
        "id": "sAu5JCcte1wr"
      },
      "source": [
        "**LAB 2**"
      ]
    },
    {
      "cell_type": "code",
      "metadata": {
        "id": "C4cZyERJegf9"
      },
      "source": [
        ""
      ],
      "execution_count": null,
      "outputs": []
    },
    {
      "cell_type": "code",
      "metadata": {
        "colab": {
          "base_uri": "https://localhost:8080/",
          "height": 705
        },
        "id": "DTwVqvqecg71",
        "outputId": "93bc3529-de50-4d7f-fac5-37a39f07b629"
      },
      "source": [
        "print('1.Построить эмпирическую (полигон) и теоретическую (нормальную) кривую распределения.')\n",
        "pd.set_option('max_columns', None)\n",
        "pd.set_option('max_rows',None)\n",
        "data = pd.DataFrame(pd.read_excel(\"donnees2.xlsm\" , sheet_name=\"donnees\"))\n",
        "display(data)\n",
        "print()\n",
        "_,ax = plt.subplots()\n",
        "ax.plot(data['xi'], data['ni'])\n",
        "ax.plot(data['xi'], data[\"ni'\"])\n",
        "ax.legend([\"ni\", \"ni'\"])\n",
        "ax.set_title('Plot empirical (polygon) and theoretical (normal) distribution curves')\n",
        "print()"
      ],
      "execution_count": 74,
      "outputs": [
        {
          "output_type": "stream",
          "name": "stdout",
          "text": [
            "1.Построить эмпирическую (полигон) и теоретическую (нормальную) кривую распределения.\n"
          ]
        },
        {
          "output_type": "display_data",
          "data": {
            "text/html": [
              "<div>\n",
              "<style scoped>\n",
              "    .dataframe tbody tr th:only-of-type {\n",
              "        vertical-align: middle;\n",
              "    }\n",
              "\n",
              "    .dataframe tbody tr th {\n",
              "        vertical-align: top;\n",
              "    }\n",
              "\n",
              "    .dataframe thead th {\n",
              "        text-align: right;\n",
              "    }\n",
              "</style>\n",
              "<table border=\"1\" class=\"dataframe\">\n",
              "  <thead>\n",
              "    <tr style=\"text-align: right;\">\n",
              "      <th></th>\n",
              "      <th>xi</th>\n",
              "      <th>ni</th>\n",
              "      <th>xi-x</th>\n",
              "      <th>ui</th>\n",
              "      <th>fi(ui)</th>\n",
              "      <th>yi</th>\n",
              "      <th>ni'</th>\n",
              "    </tr>\n",
              "  </thead>\n",
              "  <tbody>\n",
              "    <tr>\n",
              "      <th>0</th>\n",
              "      <td>21.00</td>\n",
              "      <td>2</td>\n",
              "      <td>-7.98</td>\n",
              "      <td>-2.717984</td>\n",
              "      <td>0.009925</td>\n",
              "      <td>0.536703</td>\n",
              "      <td>1</td>\n",
              "    </tr>\n",
              "    <tr>\n",
              "      <th>1</th>\n",
              "      <td>22.62</td>\n",
              "      <td>4</td>\n",
              "      <td>-6.36</td>\n",
              "      <td>-2.166213</td>\n",
              "      <td>0.038190</td>\n",
              "      <td>2.065079</td>\n",
              "      <td>2</td>\n",
              "    </tr>\n",
              "    <tr>\n",
              "      <th>2</th>\n",
              "      <td>24.24</td>\n",
              "      <td>6</td>\n",
              "      <td>-4.74</td>\n",
              "      <td>-1.614441</td>\n",
              "      <td>0.108376</td>\n",
              "      <td>5.860274</td>\n",
              "      <td>6</td>\n",
              "    </tr>\n",
              "    <tr>\n",
              "      <th>3</th>\n",
              "      <td>25.86</td>\n",
              "      <td>0</td>\n",
              "      <td>-3.12</td>\n",
              "      <td>-1.062670</td>\n",
              "      <td>0.226826</td>\n",
              "      <td>12.265285</td>\n",
              "      <td>12</td>\n",
              "    </tr>\n",
              "    <tr>\n",
              "      <th>4</th>\n",
              "      <td>27.48</td>\n",
              "      <td>18</td>\n",
              "      <td>-1.50</td>\n",
              "      <td>-0.510899</td>\n",
              "      <td>0.350131</td>\n",
              "      <td>18.932840</td>\n",
              "      <td>19</td>\n",
              "    </tr>\n",
              "    <tr>\n",
              "      <th>5</th>\n",
              "      <td>29.10</td>\n",
              "      <td>37</td>\n",
              "      <td>0.12</td>\n",
              "      <td>0.040872</td>\n",
              "      <td>0.398609</td>\n",
              "      <td>21.554222</td>\n",
              "      <td>22</td>\n",
              "    </tr>\n",
              "    <tr>\n",
              "      <th>6</th>\n",
              "      <td>30.72</td>\n",
              "      <td>19</td>\n",
              "      <td>1.74</td>\n",
              "      <td>0.592643</td>\n",
              "      <td>0.334690</td>\n",
              "      <td>18.097867</td>\n",
              "      <td>18</td>\n",
              "    </tr>\n",
              "    <tr>\n",
              "      <th>7</th>\n",
              "      <td>32.34</td>\n",
              "      <td>7</td>\n",
              "      <td>3.36</td>\n",
              "      <td>1.144414</td>\n",
              "      <td>0.207260</td>\n",
              "      <td>11.207297</td>\n",
              "      <td>11</td>\n",
              "    </tr>\n",
              "    <tr>\n",
              "      <th>8</th>\n",
              "      <td>33.96</td>\n",
              "      <td>0</td>\n",
              "      <td>4.98</td>\n",
              "      <td>1.696185</td>\n",
              "      <td>0.094660</td>\n",
              "      <td>5.118619</td>\n",
              "      <td>5</td>\n",
              "    </tr>\n",
              "    <tr>\n",
              "      <th>9</th>\n",
              "      <td>35.58</td>\n",
              "      <td>4</td>\n",
              "      <td>6.60</td>\n",
              "      <td>2.247956</td>\n",
              "      <td>0.031886</td>\n",
              "      <td>1.724182</td>\n",
              "      <td>2</td>\n",
              "    </tr>\n",
              "    <tr>\n",
              "      <th>10</th>\n",
              "      <td>37.20</td>\n",
              "      <td>1</td>\n",
              "      <td>8.22</td>\n",
              "      <td>2.799728</td>\n",
              "      <td>0.007921</td>\n",
              "      <td>0.428343</td>\n",
              "      <td>0</td>\n",
              "    </tr>\n",
              "  </tbody>\n",
              "</table>\n",
              "</div>"
            ],
            "text/plain": [
              "       xi  ni  xi-x        ui    fi(ui)         yi  ni'\n",
              "0   21.00   2 -7.98 -2.717984  0.009925   0.536703    1\n",
              "1   22.62   4 -6.36 -2.166213  0.038190   2.065079    2\n",
              "2   24.24   6 -4.74 -1.614441  0.108376   5.860274    6\n",
              "3   25.86   0 -3.12 -1.062670  0.226826  12.265285   12\n",
              "4   27.48  18 -1.50 -0.510899  0.350131  18.932840   19\n",
              "5   29.10  37  0.12  0.040872  0.398609  21.554222   22\n",
              "6   30.72  19  1.74  0.592643  0.334690  18.097867   18\n",
              "7   32.34   7  3.36  1.144414  0.207260  11.207297   11\n",
              "8   33.96   0  4.98  1.696185  0.094660   5.118619    5\n",
              "9   35.58   4  6.60  2.247956  0.031886   1.724182    2\n",
              "10  37.20   1  8.22  2.799728  0.007921   0.428343    0"
            ]
          },
          "metadata": {}
        },
        {
          "output_type": "stream",
          "name": "stdout",
          "text": [
            "\n",
            "\n"
          ]
        },
        {
          "output_type": "display_data",
          "data": {
            "image/png": "[encoded data removed]",
            "text/plain": [
              "<Figure size 432x288 with 1 Axes>"
            ]
          },
          "metadata": {
            "needs_background": "light"
          }
        }
      ]
    },
    {
      "cell_type": "code",
      "metadata": {
        "id": "BtsDCkh9AY03",
        "colab": {
          "base_uri": "https://localhost:8080/",
          "height": 289
        },
        "outputId": "37965774-9f20-4036-a232-f80107778d0a"
      },
      "source": [
        "print('a-Пирсона')\n",
        "pearson=pd.DataFrame(pd.read_excel(\"donnees2.xlsm\",sheet_name=\"pearson\"))\n",
        "display(pearson)\n",
        "print()\n",
        "alpha=0.95\n",
        "f=len(pearson)-2-1\n",
        "print(f)\n",
        "KhiВ = pearson['(nk-npk)^2/npk'].values.sum()\n",
        "Fchi2=chi2.ppf(alpha,f)\n",
        "if KhiВ < Fchi2:\n",
        "  print('Гипотеза H0 принимаем :' , KhiВ, '<', Fchi2)\n",
        "else:\n",
        "  print('Гипотеза H0 отклоняем :' , KhiВ , '>=', Fchi2)\n",
        "print()"
      ],
      "execution_count": 75,
      "outputs": [
        {
          "output_type": "stream",
          "name": "stdout",
          "text": [
            "a-Пирсона\n"
          ]
        },
        {
          "output_type": "display_data",
          "data": {
            "text/html": [
              "<div>\n",
              "<style scoped>\n",
              "    .dataframe tbody tr th:only-of-type {\n",
              "        vertical-align: middle;\n",
              "    }\n",
              "\n",
              "    .dataframe tbody tr th {\n",
              "        vertical-align: top;\n",
              "    }\n",
              "\n",
              "    .dataframe thead th {\n",
              "        text-align: right;\n",
              "    }\n",
              "</style>\n",
              "<table border=\"1\" class=\"dataframe\">\n",
              "  <thead>\n",
              "    <tr style=\"text-align: right;\">\n",
              "      <th></th>\n",
              "      <th>ni</th>\n",
              "      <th>левая</th>\n",
              "      <th>правая</th>\n",
              "      <th>p</th>\n",
              "      <th>npk</th>\n",
              "      <th>(nk-npk)^2/npk</th>\n",
              "    </tr>\n",
              "  </thead>\n",
              "  <tbody>\n",
              "    <tr>\n",
              "      <th>0</th>\n",
              "      <td>12</td>\n",
              "      <td>20.19</td>\n",
              "      <td>26.67</td>\n",
              "      <td>0.214327</td>\n",
              "      <td>21.004009</td>\n",
              "      <td>3.860</td>\n",
              "    </tr>\n",
              "    <tr>\n",
              "      <th>1</th>\n",
              "      <td>18</td>\n",
              "      <td>26.67</td>\n",
              "      <td>28.29</td>\n",
              "      <td>0.191395</td>\n",
              "      <td>18.756723</td>\n",
              "      <td>0.031</td>\n",
              "    </tr>\n",
              "    <tr>\n",
              "      <th>2</th>\n",
              "      <td>37</td>\n",
              "      <td>28.29</td>\n",
              "      <td>29.91</td>\n",
              "      <td>0.217187</td>\n",
              "      <td>21.284337</td>\n",
              "      <td>11.604</td>\n",
              "    </tr>\n",
              "    <tr>\n",
              "      <th>3</th>\n",
              "      <td>19</td>\n",
              "      <td>29.91</td>\n",
              "      <td>31.53</td>\n",
              "      <td>0.183161</td>\n",
              "      <td>17.949808</td>\n",
              "      <td>0.061</td>\n",
              "    </tr>\n",
              "    <tr>\n",
              "      <th>4</th>\n",
              "      <td>12</td>\n",
              "      <td>31.53</td>\n",
              "      <td>38.01</td>\n",
              "      <td>0.191502</td>\n",
              "      <td>18.767211</td>\n",
              "      <td>2.440</td>\n",
              "    </tr>\n",
              "  </tbody>\n",
              "</table>\n",
              "</div>"
            ],
            "text/plain": [
              "   ni  левая  правая         p        npk  (nk-npk)^2/npk\n",
              "0  12  20.19   26.67  0.214327  21.004009           3.860\n",
              "1  18  26.67   28.29  0.191395  18.756723           0.031\n",
              "2  37  28.29   29.91  0.217187  21.284337          11.604\n",
              "3  19  29.91   31.53  0.183161  17.949808           0.061\n",
              "4  12  31.53   38.01  0.191502  18.767211           2.440"
            ]
          },
          "metadata": {}
        },
        {
          "output_type": "stream",
          "name": "stdout",
          "text": [
            "\n",
            "2\n",
            "Гипотеза H0 отклоняем : 17.996 >= 5.991464547107979\n",
            "\n"
          ]
        }
      ]
    },
    {
      "cell_type": "code",
      "metadata": {
        "id": "AeqgeLZYAi0k",
        "colab": {
          "base_uri": "https://localhost:8080/",
          "height": 492
        },
        "outputId": "f27fa5b8-eda8-41f6-d627-fceb8ce72420"
      },
      "source": [
        "#print('б-Колмогорова')\n",
        "kolmogorov =pd.DataFrame(pd.read_excel(\"donnees2.xlsm\",sheet_name=\"kolmorogov\"))\n",
        "display(kolmogorov)\n",
        "lambdax=kolmogorov[\"|wi-wi'|\"].values.max()/math.sqrt(n)\n",
        "print()\n",
        "print('lambda = ', round(lambdax,3),'\\n') \n",
        "Klbd =0.8643          #по таблицы K(lambda)\n",
        "print('Klambda =' , Klbd , ' >' , 0.05 ,'Это условие выполняется.')\n",
        "print('Гипотезу о соответствии данного распределения нормальному закону распределения принимаем')\n",
        "print()\n"
      ],
      "execution_count": 76,
      "outputs": [
        {
          "output_type": "display_data",
          "data": {
            "text/html": [
              "<div>\n",
              "<style scoped>\n",
              "    .dataframe tbody tr th:only-of-type {\n",
              "        vertical-align: middle;\n",
              "    }\n",
              "\n",
              "    .dataframe tbody tr th {\n",
              "        vertical-align: top;\n",
              "    }\n",
              "\n",
              "    .dataframe thead th {\n",
              "        text-align: right;\n",
              "    }\n",
              "</style>\n",
              "<table border=\"1\" class=\"dataframe\">\n",
              "  <thead>\n",
              "    <tr style=\"text-align: right;\">\n",
              "      <th></th>\n",
              "      <th>xi</th>\n",
              "      <th>ni</th>\n",
              "      <th>ni'</th>\n",
              "      <th>wi</th>\n",
              "      <th>wi'</th>\n",
              "      <th>|wi-wi'|</th>\n",
              "    </tr>\n",
              "  </thead>\n",
              "  <tbody>\n",
              "    <tr>\n",
              "      <th>0</th>\n",
              "      <td>21.00</td>\n",
              "      <td>2</td>\n",
              "      <td>1</td>\n",
              "      <td>2</td>\n",
              "      <td>1</td>\n",
              "      <td>1</td>\n",
              "    </tr>\n",
              "    <tr>\n",
              "      <th>1</th>\n",
              "      <td>22.62</td>\n",
              "      <td>4</td>\n",
              "      <td>2</td>\n",
              "      <td>6</td>\n",
              "      <td>3</td>\n",
              "      <td>3</td>\n",
              "    </tr>\n",
              "    <tr>\n",
              "      <th>2</th>\n",
              "      <td>24.24</td>\n",
              "      <td>6</td>\n",
              "      <td>6</td>\n",
              "      <td>12</td>\n",
              "      <td>9</td>\n",
              "      <td>3</td>\n",
              "    </tr>\n",
              "    <tr>\n",
              "      <th>3</th>\n",
              "      <td>25.86</td>\n",
              "      <td>0</td>\n",
              "      <td>12</td>\n",
              "      <td>12</td>\n",
              "      <td>21</td>\n",
              "      <td>9</td>\n",
              "    </tr>\n",
              "    <tr>\n",
              "      <th>4</th>\n",
              "      <td>27.48</td>\n",
              "      <td>18</td>\n",
              "      <td>19</td>\n",
              "      <td>30</td>\n",
              "      <td>40</td>\n",
              "      <td>10</td>\n",
              "    </tr>\n",
              "    <tr>\n",
              "      <th>5</th>\n",
              "      <td>29.10</td>\n",
              "      <td>37</td>\n",
              "      <td>22</td>\n",
              "      <td>67</td>\n",
              "      <td>62</td>\n",
              "      <td>5</td>\n",
              "    </tr>\n",
              "    <tr>\n",
              "      <th>6</th>\n",
              "      <td>30.72</td>\n",
              "      <td>19</td>\n",
              "      <td>18</td>\n",
              "      <td>86</td>\n",
              "      <td>80</td>\n",
              "      <td>6</td>\n",
              "    </tr>\n",
              "    <tr>\n",
              "      <th>7</th>\n",
              "      <td>32.34</td>\n",
              "      <td>7</td>\n",
              "      <td>11</td>\n",
              "      <td>93</td>\n",
              "      <td>91</td>\n",
              "      <td>2</td>\n",
              "    </tr>\n",
              "    <tr>\n",
              "      <th>8</th>\n",
              "      <td>33.96</td>\n",
              "      <td>0</td>\n",
              "      <td>5</td>\n",
              "      <td>93</td>\n",
              "      <td>96</td>\n",
              "      <td>3</td>\n",
              "    </tr>\n",
              "    <tr>\n",
              "      <th>9</th>\n",
              "      <td>35.58</td>\n",
              "      <td>4</td>\n",
              "      <td>2</td>\n",
              "      <td>97</td>\n",
              "      <td>98</td>\n",
              "      <td>1</td>\n",
              "    </tr>\n",
              "    <tr>\n",
              "      <th>10</th>\n",
              "      <td>37.20</td>\n",
              "      <td>1</td>\n",
              "      <td>0</td>\n",
              "      <td>98</td>\n",
              "      <td>98</td>\n",
              "      <td>0</td>\n",
              "    </tr>\n",
              "  </tbody>\n",
              "</table>\n",
              "</div>"
            ],
            "text/plain": [
              "       xi  ni  ni'  wi  wi'  |wi-wi'|\n",
              "0   21.00   2    1   2    1         1\n",
              "1   22.62   4    2   6    3         3\n",
              "2   24.24   6    6  12    9         3\n",
              "3   25.86   0   12  12   21         9\n",
              "4   27.48  18   19  30   40        10\n",
              "5   29.10  37   22  67   62         5\n",
              "6   30.72  19   18  86   80         6\n",
              "7   32.34   7   11  93   91         2\n",
              "8   33.96   0    5  93   96         3\n",
              "9   35.58   4    2  97   98         1\n",
              "10  37.20   1    0  98   98         0"
            ]
          },
          "metadata": {}
        },
        {
          "output_type": "stream",
          "name": "stdout",
          "text": [
            "\n",
            "lambda =  1.01 \n",
            "\n",
            "Klambda = 0.8643  > 0.05 Это условие выполняется.\n",
            "Гипотезу о соответствии данного распределения нормальному закону распределения принимаем\n",
            "\n"
          ]
        }
      ]
    },
    {
      "cell_type": "code",
      "metadata": {
        "id": "Dd2mjqQfAx4w",
        "colab": {
          "base_uri": "https://localhost:8080/"
        },
        "outputId": "01725d6e-af6d-4dff-9801-c970253c5a23"
      },
      "source": [
        "\n",
        "print('в-Романовского')\n",
        "print()\n",
        "if (abs(KhiВ - f)/(math.sqrt(2*f))) >= 3:\n",
        "  print('Гипотеза H0 отвергается , т.е. оно больше 3 :',abs(KhiВ - f)/(math.sqrt(2*f) ))\n",
        "else:\n",
        "  print('Гипотеза H0 не отвергается ,  т.е. оно меньше 3 :',abs(KhiВ - f)/(math.sqrt(2*f)))\n",
        "print()\n"
      ],
      "execution_count": 77,
      "outputs": [
        {
          "output_type": "stream",
          "name": "stdout",
          "text": [
            "в-Романовского\n",
            "\n",
            "Гипотеза H0 отвергается , т.е. оно больше 3 : 7.997999999999999\n",
            "\n"
          ]
        }
      ]
    },
    {
      "cell_type": "code",
      "metadata": {
        "id": "YlSqBS9BBaSj",
        "colab": {
          "base_uri": "https://localhost:8080/",
          "height": 289
        },
        "outputId": "462b995a-3231-4c1f-fd4c-8e2752828745"
      },
      "source": [
        "print('г-Ястремского')\n",
        "yastremski=pd.DataFrame(pd.read_excel(\"donnees2.xlsm\", sheet_name=\"yastremski\"))\n",
        "display(yastremski)\n",
        "print()\n",
        "c=(yastremski['(ni-npi)^2']/yastremski['npi(1-pi)']).values.sum()\n",
        "print('C =', c)\n",
        "k=5\n",
        "Teta=0.6\n",
        "J=abs(c-k)\n",
        "op=2*k+4*Teta\n",
        "row= J/op\n",
        "if (row < 3) :\n",
        "  print(row,'<',3 ,': гипотеза о нормальном распределении экспериментальных данных принимается')\n",
        "else:\n",
        "  print(row,'>',3 ,': гипотеза о нормальном распределении экспериментальных данных не принимается')\n",
        "print()"
      ],
      "execution_count": 78,
      "outputs": [
        {
          "output_type": "stream",
          "name": "stdout",
          "text": [
            "г-Ястремского\n"
          ]
        },
        {
          "output_type": "display_data",
          "data": {
            "text/html": [
              "<div>\n",
              "<style scoped>\n",
              "    .dataframe tbody tr th:only-of-type {\n",
              "        vertical-align: middle;\n",
              "    }\n",
              "\n",
              "    .dataframe tbody tr th {\n",
              "        vertical-align: top;\n",
              "    }\n",
              "\n",
              "    .dataframe thead th {\n",
              "        text-align: right;\n",
              "    }\n",
              "</style>\n",
              "<table border=\"1\" class=\"dataframe\">\n",
              "  <thead>\n",
              "    <tr style=\"text-align: right;\">\n",
              "      <th></th>\n",
              "      <th>ni</th>\n",
              "      <th>левая</th>\n",
              "      <th>правая</th>\n",
              "      <th>pi</th>\n",
              "      <th>npi</th>\n",
              "      <th>(ni-npi)^2</th>\n",
              "      <th>npi(1-pi)</th>\n",
              "    </tr>\n",
              "  </thead>\n",
              "  <tbody>\n",
              "    <tr>\n",
              "      <th>0</th>\n",
              "      <td>12</td>\n",
              "      <td>20.19</td>\n",
              "      <td>26.67</td>\n",
              "      <td>0.214327</td>\n",
              "      <td>21.004009</td>\n",
              "      <td>81.072180</td>\n",
              "      <td>16.502291</td>\n",
              "    </tr>\n",
              "    <tr>\n",
              "      <th>1</th>\n",
              "      <td>18</td>\n",
              "      <td>26.67</td>\n",
              "      <td>28.29</td>\n",
              "      <td>0.191395</td>\n",
              "      <td>18.756723</td>\n",
              "      <td>0.572630</td>\n",
              "      <td>15.166778</td>\n",
              "    </tr>\n",
              "    <tr>\n",
              "      <th>2</th>\n",
              "      <td>37</td>\n",
              "      <td>28.29</td>\n",
              "      <td>29.91</td>\n",
              "      <td>0.217187</td>\n",
              "      <td>21.284337</td>\n",
              "      <td>246.982069</td>\n",
              "      <td>16.661653</td>\n",
              "    </tr>\n",
              "    <tr>\n",
              "      <th>3</th>\n",
              "      <td>19</td>\n",
              "      <td>29.91</td>\n",
              "      <td>31.53</td>\n",
              "      <td>0.183161</td>\n",
              "      <td>17.949808</td>\n",
              "      <td>1.102904</td>\n",
              "      <td>14.662097</td>\n",
              "    </tr>\n",
              "    <tr>\n",
              "      <th>4</th>\n",
              "      <td>12</td>\n",
              "      <td>31.53</td>\n",
              "      <td>38.01</td>\n",
              "      <td>0.191502</td>\n",
              "      <td>18.767211</td>\n",
              "      <td>45.795150</td>\n",
              "      <td>15.173250</td>\n",
              "    </tr>\n",
              "  </tbody>\n",
              "</table>\n",
              "</div>"
            ],
            "text/plain": [
              "   ni  левая  правая        pi        npi  (ni-npi)^2  npi(1-pi)\n",
              "0  12  20.19   26.67  0.214327  21.004009   81.072180  16.502291\n",
              "1  18  26.67   28.29  0.191395  18.756723    0.572630  15.166778\n",
              "2  37  28.29   29.91  0.217187  21.284337  246.982069  16.661653\n",
              "3  19  29.91   31.53  0.183161  17.949808    1.102904  14.662097\n",
              "4  12  31.53   38.01  0.191502  18.767211   45.795150  15.173250"
            ]
          },
          "metadata": {}
        },
        {
          "output_type": "stream",
          "name": "stdout",
          "text": [
            "\n",
            "C = 22.867293907596977\n",
            "1.4409107989997563 < 3 : гипотеза о нормальном распределении экспериментальных данных принимается\n",
            "\n"
          ]
        }
      ]
    },
    {
      "cell_type": "code",
      "metadata": {
        "id": "6TEqYm6bBgrC",
        "colab": {
          "base_uri": "https://localhost:8080/"
        },
        "outputId": "fe28cb90-fb5c-4791-c43e-10ac1c5d1742"
      },
      "source": [
        "print('д-приближенный критерий')\n",
        "print()\n",
        "As = -0.162 \n",
        "Ex = 0.824 \n",
        "alpha=0.95\n",
        "f=len(pearson)-2-1\n",
        "chi2_choose=chi2.ppf(alpha,f) \n",
        "Sas=np.sqrt((6*(n-1))/((n+1)*(n+3)))\n",
        "print('Sas =',Sas)\n",
        "Sex=np.sqrt((24*n*(n-2)*(n-5))/((n-1)^2*(n+3)*(n+5)))\n",
        "print('Sex =',Sex)\n",
        "chi2_crit=(As**2/Sas**2)+(Ex**2/Sex**2)\n",
        "print('chi2_crit =',chi2_crit)\n",
        "print()\n",
        "if chi2_choose < chi2_crit:\n",
        "  print('Гипотезу о нормальном распределении выборочной совокупности принимаем ',chi2_choose,'<',chi2_crit)\n",
        "else:\n",
        "  print('Гипотезу о нормальном распределении выборочной совокупности не принимаем ', chi2_choose, '>',chi2_crit)\n"
      ],
      "execution_count": 79,
      "outputs": [
        {
          "output_type": "stream",
          "name": "stdout",
          "text": [
            "д-приближенный критерий\n",
            "\n",
            "Sas = 0.24125882487912895\n",
            "Sex = 31.792540505108317\n",
            "chi2_crit = 0.451554486516816\n",
            "\n",
            "Гипотезу о нормальном распределении выборочной совокупности не принимаем  5.991464547107979 > 0.451554486516816\n"
          ]
        }
      ]
    }
  ]
}