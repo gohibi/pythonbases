{
  "nbformat": 4,
  "nbformat_minor": 0,
  "metadata": {
    "colab": {
      "name": "exercises.ipynb",
      "provenance": [],
      "authorship_tag": "ABX9TyNpHanH6B/sY4SYgH8sLrV0",
      "include_colab_link": true
    },
    "kernelspec": {
      "name": "python3",
      "display_name": "Python 3"
    },
    "language_info": {
      "name": "python"
    }
  },
  "cells": [
    {
      "cell_type": "markdown",
      "metadata": {
        "id": "view-in-github",
        "colab_type": "text"
      },
      "source": [
        "<a href=\"https://colab.research.google.com/github/gohibi/pythonbases/blob/main/exercises.ipynb\" target=\"_parent\"><img src=\"https://colab.research.google.com/assets/colab-badge.svg\" alt=\"Open In Colab\"/></a>"
      ]
    },
    {
      "cell_type": "markdown",
      "metadata": {
        "id": "s65-xNKexXUw"
      },
      "source": [
        "\n",
        "Ecris une fonction nommée devinette qui ne prend aucun argument. Quand on l'exécute, elle choisit un nombre aléatoire en 0 et 100 (inclus)et demande à l'utilisateur de deviner ce nombre.A chaque fois que l'utilisateur entre un nombre, le programme affiche l'une de ces phrases :\n",
        "1.   Trop grand\n",
        "2.   Trop petit\n",
        "3.   Exact\n",
        "\n",
        "Si l'utilisateur a choisit correctement, le programme s'arrete. Sinon, le programme demande encore à l'utilisateur de rentrer un nouveau nombre jusqu'à ce qu'il trouve la bonne solution et s'arrête"
      ]
    },
    {
      "cell_type": "code",
      "metadata": {
        "colab": {
          "base_uri": "https://localhost:8080/"
        },
        "id": "I1misEqYxFW5",
        "outputId": "c4dee7ec-caeb-42c7-f03a-36ae3b55237f"
      },
      "source": [
        "import random\n",
        "def devinette():\n",
        "  rand = random.randint(0,100)\n",
        "  appreciation= \"?\"\n",
        "  while True :\n",
        "    var=int(input('entrer le nombre devine :'))\n",
        "    if var  > rand :\n",
        "      appreciation='trop grand'\n",
        "      print(f'{var} est {appreciation}')\n",
        "    else:\n",
        "      appreciation = 'trop petit'\n",
        "      print(f'{var} est {appreciation}')\n",
        "    if var == rand:\n",
        "      appreciation = 'exactement'\n",
        "      print(f'{var} est {appreciation} le nombre devine')\n",
        "      break\n",
        "\n",
        "devinette()"
      ],
      "execution_count": 7,
      "outputs": [
        {
          "output_type": "stream",
          "name": "stdout",
          "text": [
            "entrer le nombre devine :10\n",
            "10 est trop petit\n",
            "entrer le nombre devine :5\n",
            "5 est trop petit\n",
            "entrer le nombre devine :12\n",
            "12 est trop petit\n",
            "entrer le nombre devine :25\n",
            "25 est trop petit\n",
            "entrer le nombre devine :50\n",
            "50 est trop petit\n",
            "entrer le nombre devine :60\n",
            "60 est trop petit\n",
            "entrer le nombre devine :70\n",
            "70 est trop petit\n",
            "entrer le nombre devine :80\n",
            "80 est trop petit\n",
            "entrer le nombre devine :90\n",
            "90 est trop grand\n",
            "entrer le nombre devine :87\n",
            "87 est trop grand\n",
            "entrer le nombre devine :81\n",
            "81 est trop petit\n",
            "81 est exactement le nombre devine\n"
          ]
        }
      ]
    },
    {
      "cell_type": "code",
      "metadata": {
        "id": "TMMigOGnzGwW"
      },
      "source": [
        ""
      ],
      "execution_count": 2,
      "outputs": []
    }
  ]
}