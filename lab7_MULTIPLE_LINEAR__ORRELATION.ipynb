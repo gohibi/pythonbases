{
  "nbformat": 4,
  "nbformat_minor": 0,
  "metadata": {
    "colab": {
      "name": "lab7_MULTIPLE_LINEAR _ORRELATION",
      "provenance": [],
      "collapsed_sections": [],
      "authorship_tag": "ABX9TyPRU1HvuKFklgqfLvR227M1",
      "include_colab_link": true
    },
    "kernelspec": {
      "name": "python3",
      "display_name": "Python 3"
    },
    "language_info": {
      "name": "python"
    }
  },
  "cells": [
    {
      "cell_type": "markdown",
      "metadata": {
        "id": "view-in-github",
        "colab_type": "text"
      },
      "source": [
        "<a href=\"https://colab.research.google.com/github/gohibi/pythonbases/blob/main/lab7_MULTIPLE_LINEAR__ORRELATION.ipynb\" target=\"_parent\"><img src=\"https://colab.research.google.com/assets/colab-badge.svg\" alt=\"Open In Colab\"/></a>"
      ]
    },
    {
      "cell_type": "code",
      "execution_count": null,
      "metadata": {
        "id": "wTSz40NL_WvX"
      },
      "outputs": [],
      "source": [
        "import pandas as pd\n",
        "import numpy  as np\n",
        "import matplotlib.pyplot as plt\n",
        "from scipy import stats\n",
        "from sklearn.linear_model import LinearRegression"
      ]
    },
    {
      "cell_type": "code",
      "source": [
        "data ={ 'Y':[81.5,82.3,83.8,83.1,84.3 ,82.6,85.4,84.6,86.8,88.3],\n",
        "        'X1':[37.9,36.5,36.6,38.2,39.4,39.8,40.1,41.5,42.6,45.7],\n",
        "        'X2':[11.6,11.5,11.5,11.8,12,12.2,12.5,12.6,12.8,13.2],\n",
        "        'X3':[9.5,10.6,7.8,9.1,13.6,14.1,14.6,15.1,16,17.2]}"
      ],
      "metadata": {
        "id": "M6671h6S_lNG"
      },
      "execution_count": null,
      "outputs": []
    },
    {
      "cell_type": "code",
      "source": [
        "def graph(c,d,k):\n",
        "  plt.subplot(3,1,k)\n",
        "  linear_regressor = LinearRegression()\n",
        "  c=np.reshape(c,(10,1))\n",
        "  d=np.reshape(d,(10,1))\n",
        "  linear_regressor.fit(c,d)\n",
        "  pred = linear_regressor.predict(c)\n",
        "  plt.scatter(c,d)\n",
        "  plt.plot(c,pred,color='red')"
      ],
      "metadata": {
        "id": "RIMNxC0SC1_G"
      },
      "execution_count": null,
      "outputs": []
    },
    {
      "cell_type": "code",
      "source": [
        "graph(data['X1'],data['Y'],1);plt.xlabel('X1');plt.ylabel('Y')\n",
        "graph(data['X2'],data['Y'],2);plt.xlabel('X2');plt.ylabel('Y')\n",
        "graph(data['X3'],data['Y'],3);plt.xlabel('X3');plt.ylabel('Y')\n",
        "plt.subplots_adjust(left=0.1, bottom=0.1,right=0.9,top=1, wspace=0.4,hspace=0.8) \n",
        "plt.show()"
      ],
      "metadata": {
        "colab": {
          "base_uri": "https://localhost:8080/",
          "height": 321
        },
        "id": "bhmwYnBpDcBa",
        "outputId": "77cb1c50-d4fe-48d5-dcdd-9a1604080e4f"
      },
      "execution_count": null,
      "outputs": [
        {
          "output_type": "display_data",
          "data": {
            "image/png": "[encoded data removed]",
            "text/plain": [
              "<Figure size 432x288 with 3 Axes>"
            ]
          },
          "metadata": {
            "needs_background": "light"
          }
        }
      ]
    },
    {
      "cell_type": "code",
      "source": [
        "df1=pd.DataFrame(data)"
      ],
      "metadata": {
        "id": "1K9nAtGxCANX"
      },
      "execution_count": null,
      "outputs": []
    },
    {
      "cell_type": "code",
      "source": [
        "df1"
      ],
      "metadata": {
        "colab": {
          "base_uri": "https://localhost:8080/",
          "height": 363
        },
        "id": "uoaus6pECHHu",
        "outputId": "203b9295-8ef4-41eb-f052-3c0b43f8e3c0"
      },
      "execution_count": null,
      "outputs": [
        {
          "output_type": "execute_result",
          "data": {
            "text/html": [
              "<div>\n",
              "<style scoped>\n",
              "    .dataframe tbody tr th:only-of-type {\n",
              "        vertical-align: middle;\n",
              "    }\n",
              "\n",
              "    .dataframe tbody tr th {\n",
              "        vertical-align: top;\n",
              "    }\n",
              "\n",
              "    .dataframe thead th {\n",
              "        text-align: right;\n",
              "    }\n",
              "</style>\n",
              "<table border=\"1\" class=\"dataframe\">\n",
              "  <thead>\n",
              "    <tr style=\"text-align: right;\">\n",
              "      <th></th>\n",
              "      <th>Y</th>\n",
              "      <th>X1</th>\n",
              "      <th>X2</th>\n",
              "      <th>X3</th>\n",
              "    </tr>\n",
              "  </thead>\n",
              "  <tbody>\n",
              "    <tr>\n",
              "      <th>0</th>\n",
              "      <td>81.5</td>\n",
              "      <td>37.9</td>\n",
              "      <td>11.6</td>\n",
              "      <td>9.5</td>\n",
              "    </tr>\n",
              "    <tr>\n",
              "      <th>1</th>\n",
              "      <td>82.3</td>\n",
              "      <td>36.5</td>\n",
              "      <td>11.5</td>\n",
              "      <td>10.6</td>\n",
              "    </tr>\n",
              "    <tr>\n",
              "      <th>2</th>\n",
              "      <td>83.8</td>\n",
              "      <td>36.6</td>\n",
              "      <td>11.5</td>\n",
              "      <td>7.8</td>\n",
              "    </tr>\n",
              "    <tr>\n",
              "      <th>3</th>\n",
              "      <td>83.1</td>\n",
              "      <td>38.2</td>\n",
              "      <td>11.8</td>\n",
              "      <td>9.1</td>\n",
              "    </tr>\n",
              "    <tr>\n",
              "      <th>4</th>\n",
              "      <td>84.3</td>\n",
              "      <td>39.4</td>\n",
              "      <td>12.0</td>\n",
              "      <td>13.6</td>\n",
              "    </tr>\n",
              "    <tr>\n",
              "      <th>5</th>\n",
              "      <td>82.6</td>\n",
              "      <td>39.8</td>\n",
              "      <td>12.2</td>\n",
              "      <td>14.1</td>\n",
              "    </tr>\n",
              "    <tr>\n",
              "      <th>6</th>\n",
              "      <td>85.4</td>\n",
              "      <td>40.1</td>\n",
              "      <td>12.5</td>\n",
              "      <td>14.6</td>\n",
              "    </tr>\n",
              "    <tr>\n",
              "      <th>7</th>\n",
              "      <td>84.6</td>\n",
              "      <td>41.5</td>\n",
              "      <td>12.6</td>\n",
              "      <td>15.1</td>\n",
              "    </tr>\n",
              "    <tr>\n",
              "      <th>8</th>\n",
              "      <td>86.8</td>\n",
              "      <td>42.6</td>\n",
              "      <td>12.8</td>\n",
              "      <td>16.0</td>\n",
              "    </tr>\n",
              "    <tr>\n",
              "      <th>9</th>\n",
              "      <td>88.3</td>\n",
              "      <td>45.7</td>\n",
              "      <td>13.2</td>\n",
              "      <td>17.2</td>\n",
              "    </tr>\n",
              "  </tbody>\n",
              "</table>\n",
              "</div>"
            ],
            "text/plain": [
              "      Y    X1    X2    X3\n",
              "0  81.5  37.9  11.6   9.5\n",
              "1  82.3  36.5  11.5  10.6\n",
              "2  83.8  36.6  11.5   7.8\n",
              "3  83.1  38.2  11.8   9.1\n",
              "4  84.3  39.4  12.0  13.6\n",
              "5  82.6  39.8  12.2  14.1\n",
              "6  85.4  40.1  12.5  14.6\n",
              "7  84.6  41.5  12.6  15.1\n",
              "8  86.8  42.6  12.8  16.0\n",
              "9  88.3  45.7  13.2  17.2"
            ]
          },
          "metadata": {},
          "execution_count": 6
        }
      ]
    },
    {
      "cell_type": "code",
      "source": [
        "data1 ={'Y^2':[df1.loc[i,'Y']**2 for i in range (len(df1))],\n",
        "        'X1^2':[df1.loc[i,'X1']**2 for i in range (len(df1))],\n",
        "        'X2^2':[df1.loc[i,'X2']**2 for i in range (len(df1))],\n",
        "        'X3^2':[df1.loc[i,'X3']**2 for i in range (len(df1))],\n",
        "        'YX1':[df1.loc[i,'Y']*df1.loc[i,'X1'] for i in range (len(df1))],\n",
        "        'YX2':[df1.loc[i,'Y']*df1.loc[i,'X2'] for i in range (len(df1))],\n",
        "        'YX3':[df1.loc[i,'Y']*df1.loc[i,'X3'] for i in range (len(df1))],\n",
        "        'X1X2':[df1.loc[i,'X1']*df1.loc[i,'X2'] for i in range (len(df1))],\n",
        "        'X1X3':[df1.loc[i,'X1']*df1.loc[i,'X3'] for i in range (len(df1))],\n",
        "        'X2X3':[df1.loc[i,'X2']*df1.loc[i,'X3'] for i in range (len(df1))]}"
      ],
      "metadata": {
        "id": "g4GIPvvpCRqT"
      },
      "execution_count": null,
      "outputs": []
    },
    {
      "cell_type": "code",
      "source": [
        "df2=pd.DataFrame(data1)\n",
        "df2"
      ],
      "metadata": {
        "id": "ivuDjCpEETlY",
        "colab": {
          "base_uri": "https://localhost:8080/",
          "height": 363
        },
        "outputId": "c580862e-7a00-4539-a934-d0a09b0fbb93"
      },
      "execution_count": null,
      "outputs": [
        {
          "output_type": "execute_result",
          "data": {
            "text/html": [
              "<div>\n",
              "<style scoped>\n",
              "    .dataframe tbody tr th:only-of-type {\n",
              "        vertical-align: middle;\n",
              "    }\n",
              "\n",
              "    .dataframe tbody tr th {\n",
              "        vertical-align: top;\n",
              "    }\n",
              "\n",
              "    .dataframe thead th {\n",
              "        text-align: right;\n",
              "    }\n",
              "</style>\n",
              "<table border=\"1\" class=\"dataframe\">\n",
              "  <thead>\n",
              "    <tr style=\"text-align: right;\">\n",
              "      <th></th>\n",
              "      <th>Y^2</th>\n",
              "      <th>X1^2</th>\n",
              "      <th>X2^2</th>\n",
              "      <th>X3^2</th>\n",
              "      <th>YX1</th>\n",
              "      <th>YX2</th>\n",
              "      <th>YX3</th>\n",
              "      <th>X1X2</th>\n",
              "      <th>X1X3</th>\n",
              "      <th>X2X3</th>\n",
              "    </tr>\n",
              "  </thead>\n",
              "  <tbody>\n",
              "    <tr>\n",
              "      <th>0</th>\n",
              "      <td>6642.25</td>\n",
              "      <td>1436.41</td>\n",
              "      <td>134.56</td>\n",
              "      <td>90.25</td>\n",
              "      <td>3088.85</td>\n",
              "      <td>945.40</td>\n",
              "      <td>774.25</td>\n",
              "      <td>439.64</td>\n",
              "      <td>360.05</td>\n",
              "      <td>110.20</td>\n",
              "    </tr>\n",
              "    <tr>\n",
              "      <th>1</th>\n",
              "      <td>6773.29</td>\n",
              "      <td>1332.25</td>\n",
              "      <td>132.25</td>\n",
              "      <td>112.36</td>\n",
              "      <td>3003.95</td>\n",
              "      <td>946.45</td>\n",
              "      <td>872.38</td>\n",
              "      <td>419.75</td>\n",
              "      <td>386.90</td>\n",
              "      <td>121.90</td>\n",
              "    </tr>\n",
              "    <tr>\n",
              "      <th>2</th>\n",
              "      <td>7022.44</td>\n",
              "      <td>1339.56</td>\n",
              "      <td>132.25</td>\n",
              "      <td>60.84</td>\n",
              "      <td>3067.08</td>\n",
              "      <td>963.70</td>\n",
              "      <td>653.64</td>\n",
              "      <td>420.90</td>\n",
              "      <td>285.48</td>\n",
              "      <td>89.70</td>\n",
              "    </tr>\n",
              "    <tr>\n",
              "      <th>3</th>\n",
              "      <td>6905.61</td>\n",
              "      <td>1459.24</td>\n",
              "      <td>139.24</td>\n",
              "      <td>82.81</td>\n",
              "      <td>3174.42</td>\n",
              "      <td>980.58</td>\n",
              "      <td>756.21</td>\n",
              "      <td>450.76</td>\n",
              "      <td>347.62</td>\n",
              "      <td>107.38</td>\n",
              "    </tr>\n",
              "    <tr>\n",
              "      <th>4</th>\n",
              "      <td>7106.49</td>\n",
              "      <td>1552.36</td>\n",
              "      <td>144.00</td>\n",
              "      <td>184.96</td>\n",
              "      <td>3321.42</td>\n",
              "      <td>1011.60</td>\n",
              "      <td>1146.48</td>\n",
              "      <td>472.80</td>\n",
              "      <td>535.84</td>\n",
              "      <td>163.20</td>\n",
              "    </tr>\n",
              "    <tr>\n",
              "      <th>5</th>\n",
              "      <td>6822.76</td>\n",
              "      <td>1584.04</td>\n",
              "      <td>148.84</td>\n",
              "      <td>198.81</td>\n",
              "      <td>3287.48</td>\n",
              "      <td>1007.72</td>\n",
              "      <td>1164.66</td>\n",
              "      <td>485.56</td>\n",
              "      <td>561.18</td>\n",
              "      <td>172.02</td>\n",
              "    </tr>\n",
              "    <tr>\n",
              "      <th>6</th>\n",
              "      <td>7293.16</td>\n",
              "      <td>1608.01</td>\n",
              "      <td>156.25</td>\n",
              "      <td>213.16</td>\n",
              "      <td>3424.54</td>\n",
              "      <td>1067.50</td>\n",
              "      <td>1246.84</td>\n",
              "      <td>501.25</td>\n",
              "      <td>585.46</td>\n",
              "      <td>182.50</td>\n",
              "    </tr>\n",
              "    <tr>\n",
              "      <th>7</th>\n",
              "      <td>7157.16</td>\n",
              "      <td>1722.25</td>\n",
              "      <td>158.76</td>\n",
              "      <td>228.01</td>\n",
              "      <td>3510.90</td>\n",
              "      <td>1065.96</td>\n",
              "      <td>1277.46</td>\n",
              "      <td>522.90</td>\n",
              "      <td>626.65</td>\n",
              "      <td>190.26</td>\n",
              "    </tr>\n",
              "    <tr>\n",
              "      <th>8</th>\n",
              "      <td>7534.24</td>\n",
              "      <td>1814.76</td>\n",
              "      <td>163.84</td>\n",
              "      <td>256.00</td>\n",
              "      <td>3697.68</td>\n",
              "      <td>1111.04</td>\n",
              "      <td>1388.80</td>\n",
              "      <td>545.28</td>\n",
              "      <td>681.60</td>\n",
              "      <td>204.80</td>\n",
              "    </tr>\n",
              "    <tr>\n",
              "      <th>9</th>\n",
              "      <td>7796.89</td>\n",
              "      <td>2088.49</td>\n",
              "      <td>174.24</td>\n",
              "      <td>295.84</td>\n",
              "      <td>4035.31</td>\n",
              "      <td>1165.56</td>\n",
              "      <td>1518.76</td>\n",
              "      <td>603.24</td>\n",
              "      <td>786.04</td>\n",
              "      <td>227.04</td>\n",
              "    </tr>\n",
              "  </tbody>\n",
              "</table>\n",
              "</div>"
            ],
            "text/plain": [
              "       Y^2     X1^2    X2^2    X3^2  ...      YX3    X1X2    X1X3    X2X3\n",
              "0  6642.25  1436.41  134.56   90.25  ...   774.25  439.64  360.05  110.20\n",
              "1  6773.29  1332.25  132.25  112.36  ...   872.38  419.75  386.90  121.90\n",
              "2  7022.44  1339.56  132.25   60.84  ...   653.64  420.90  285.48   89.70\n",
              "3  6905.61  1459.24  139.24   82.81  ...   756.21  450.76  347.62  107.38\n",
              "4  7106.49  1552.36  144.00  184.96  ...  1146.48  472.80  535.84  163.20\n",
              "5  6822.76  1584.04  148.84  198.81  ...  1164.66  485.56  561.18  172.02\n",
              "6  7293.16  1608.01  156.25  213.16  ...  1246.84  501.25  585.46  182.50\n",
              "7  7157.16  1722.25  158.76  228.01  ...  1277.46  522.90  626.65  190.26\n",
              "8  7534.24  1814.76  163.84  256.00  ...  1388.80  545.28  681.60  204.80\n",
              "9  7796.89  2088.49  174.24  295.84  ...  1518.76  603.24  786.04  227.04\n",
              "\n",
              "[10 rows x 10 columns]"
            ]
          },
          "metadata": {},
          "execution_count": 8
        }
      ]
    },
    {
      "cell_type": "code",
      "source": [
        "result = pd.concat([df1,df2], axis=1)\n",
        "result"
      ],
      "metadata": {
        "colab": {
          "base_uri": "https://localhost:8080/",
          "height": 363
        },
        "id": "HUKkpq1AEdv0",
        "outputId": "112b69c6-121a-4c4d-dea1-977f0bf168da"
      },
      "execution_count": null,
      "outputs": [
        {
          "output_type": "execute_result",
          "data": {
            "text/html": [
              "<div>\n",
              "<style scoped>\n",
              "    .dataframe tbody tr th:only-of-type {\n",
              "        vertical-align: middle;\n",
              "    }\n",
              "\n",
              "    .dataframe tbody tr th {\n",
              "        vertical-align: top;\n",
              "    }\n",
              "\n",
              "    .dataframe thead th {\n",
              "        text-align: right;\n",
              "    }\n",
              "</style>\n",
              "<table border=\"1\" class=\"dataframe\">\n",
              "  <thead>\n",
              "    <tr style=\"text-align: right;\">\n",
              "      <th></th>\n",
              "      <th>Y</th>\n",
              "      <th>X1</th>\n",
              "      <th>X2</th>\n",
              "      <th>X3</th>\n",
              "      <th>Y^2</th>\n",
              "      <th>X1^2</th>\n",
              "      <th>X2^2</th>\n",
              "      <th>X3^2</th>\n",
              "      <th>YX1</th>\n",
              "      <th>YX2</th>\n",
              "      <th>YX3</th>\n",
              "      <th>X1X2</th>\n",
              "      <th>X1X3</th>\n",
              "      <th>X2X3</th>\n",
              "    </tr>\n",
              "  </thead>\n",
              "  <tbody>\n",
              "    <tr>\n",
              "      <th>0</th>\n",
              "      <td>81.5</td>\n",
              "      <td>37.9</td>\n",
              "      <td>11.6</td>\n",
              "      <td>9.5</td>\n",
              "      <td>6642.25</td>\n",
              "      <td>1436.41</td>\n",
              "      <td>134.56</td>\n",
              "      <td>90.25</td>\n",
              "      <td>3088.85</td>\n",
              "      <td>945.40</td>\n",
              "      <td>774.25</td>\n",
              "      <td>439.64</td>\n",
              "      <td>360.05</td>\n",
              "      <td>110.20</td>\n",
              "    </tr>\n",
              "    <tr>\n",
              "      <th>1</th>\n",
              "      <td>82.3</td>\n",
              "      <td>36.5</td>\n",
              "      <td>11.5</td>\n",
              "      <td>10.6</td>\n",
              "      <td>6773.29</td>\n",
              "      <td>1332.25</td>\n",
              "      <td>132.25</td>\n",
              "      <td>112.36</td>\n",
              "      <td>3003.95</td>\n",
              "      <td>946.45</td>\n",
              "      <td>872.38</td>\n",
              "      <td>419.75</td>\n",
              "      <td>386.90</td>\n",
              "      <td>121.90</td>\n",
              "    </tr>\n",
              "    <tr>\n",
              "      <th>2</th>\n",
              "      <td>83.8</td>\n",
              "      <td>36.6</td>\n",
              "      <td>11.5</td>\n",
              "      <td>7.8</td>\n",
              "      <td>7022.44</td>\n",
              "      <td>1339.56</td>\n",
              "      <td>132.25</td>\n",
              "      <td>60.84</td>\n",
              "      <td>3067.08</td>\n",
              "      <td>963.70</td>\n",
              "      <td>653.64</td>\n",
              "      <td>420.90</td>\n",
              "      <td>285.48</td>\n",
              "      <td>89.70</td>\n",
              "    </tr>\n",
              "    <tr>\n",
              "      <th>3</th>\n",
              "      <td>83.1</td>\n",
              "      <td>38.2</td>\n",
              "      <td>11.8</td>\n",
              "      <td>9.1</td>\n",
              "      <td>6905.61</td>\n",
              "      <td>1459.24</td>\n",
              "      <td>139.24</td>\n",
              "      <td>82.81</td>\n",
              "      <td>3174.42</td>\n",
              "      <td>980.58</td>\n",
              "      <td>756.21</td>\n",
              "      <td>450.76</td>\n",
              "      <td>347.62</td>\n",
              "      <td>107.38</td>\n",
              "    </tr>\n",
              "    <tr>\n",
              "      <th>4</th>\n",
              "      <td>84.3</td>\n",
              "      <td>39.4</td>\n",
              "      <td>12.0</td>\n",
              "      <td>13.6</td>\n",
              "      <td>7106.49</td>\n",
              "      <td>1552.36</td>\n",
              "      <td>144.00</td>\n",
              "      <td>184.96</td>\n",
              "      <td>3321.42</td>\n",
              "      <td>1011.60</td>\n",
              "      <td>1146.48</td>\n",
              "      <td>472.80</td>\n",
              "      <td>535.84</td>\n",
              "      <td>163.20</td>\n",
              "    </tr>\n",
              "    <tr>\n",
              "      <th>5</th>\n",
              "      <td>82.6</td>\n",
              "      <td>39.8</td>\n",
              "      <td>12.2</td>\n",
              "      <td>14.1</td>\n",
              "      <td>6822.76</td>\n",
              "      <td>1584.04</td>\n",
              "      <td>148.84</td>\n",
              "      <td>198.81</td>\n",
              "      <td>3287.48</td>\n",
              "      <td>1007.72</td>\n",
              "      <td>1164.66</td>\n",
              "      <td>485.56</td>\n",
              "      <td>561.18</td>\n",
              "      <td>172.02</td>\n",
              "    </tr>\n",
              "    <tr>\n",
              "      <th>6</th>\n",
              "      <td>85.4</td>\n",
              "      <td>40.1</td>\n",
              "      <td>12.5</td>\n",
              "      <td>14.6</td>\n",
              "      <td>7293.16</td>\n",
              "      <td>1608.01</td>\n",
              "      <td>156.25</td>\n",
              "      <td>213.16</td>\n",
              "      <td>3424.54</td>\n",
              "      <td>1067.50</td>\n",
              "      <td>1246.84</td>\n",
              "      <td>501.25</td>\n",
              "      <td>585.46</td>\n",
              "      <td>182.50</td>\n",
              "    </tr>\n",
              "    <tr>\n",
              "      <th>7</th>\n",
              "      <td>84.6</td>\n",
              "      <td>41.5</td>\n",
              "      <td>12.6</td>\n",
              "      <td>15.1</td>\n",
              "      <td>7157.16</td>\n",
              "      <td>1722.25</td>\n",
              "      <td>158.76</td>\n",
              "      <td>228.01</td>\n",
              "      <td>3510.90</td>\n",
              "      <td>1065.96</td>\n",
              "      <td>1277.46</td>\n",
              "      <td>522.90</td>\n",
              "      <td>626.65</td>\n",
              "      <td>190.26</td>\n",
              "    </tr>\n",
              "    <tr>\n",
              "      <th>8</th>\n",
              "      <td>86.8</td>\n",
              "      <td>42.6</td>\n",
              "      <td>12.8</td>\n",
              "      <td>16.0</td>\n",
              "      <td>7534.24</td>\n",
              "      <td>1814.76</td>\n",
              "      <td>163.84</td>\n",
              "      <td>256.00</td>\n",
              "      <td>3697.68</td>\n",
              "      <td>1111.04</td>\n",
              "      <td>1388.80</td>\n",
              "      <td>545.28</td>\n",
              "      <td>681.60</td>\n",
              "      <td>204.80</td>\n",
              "    </tr>\n",
              "    <tr>\n",
              "      <th>9</th>\n",
              "      <td>88.3</td>\n",
              "      <td>45.7</td>\n",
              "      <td>13.2</td>\n",
              "      <td>17.2</td>\n",
              "      <td>7796.89</td>\n",
              "      <td>2088.49</td>\n",
              "      <td>174.24</td>\n",
              "      <td>295.84</td>\n",
              "      <td>4035.31</td>\n",
              "      <td>1165.56</td>\n",
              "      <td>1518.76</td>\n",
              "      <td>603.24</td>\n",
              "      <td>786.04</td>\n",
              "      <td>227.04</td>\n",
              "    </tr>\n",
              "  </tbody>\n",
              "</table>\n",
              "</div>"
            ],
            "text/plain": [
              "      Y    X1    X2    X3      Y^2  ...      YX2      YX3    X1X2    X1X3    X2X3\n",
              "0  81.5  37.9  11.6   9.5  6642.25  ...   945.40   774.25  439.64  360.05  110.20\n",
              "1  82.3  36.5  11.5  10.6  6773.29  ...   946.45   872.38  419.75  386.90  121.90\n",
              "2  83.8  36.6  11.5   7.8  7022.44  ...   963.70   653.64  420.90  285.48   89.70\n",
              "3  83.1  38.2  11.8   9.1  6905.61  ...   980.58   756.21  450.76  347.62  107.38\n",
              "4  84.3  39.4  12.0  13.6  7106.49  ...  1011.60  1146.48  472.80  535.84  163.20\n",
              "5  82.6  39.8  12.2  14.1  6822.76  ...  1007.72  1164.66  485.56  561.18  172.02\n",
              "6  85.4  40.1  12.5  14.6  7293.16  ...  1067.50  1246.84  501.25  585.46  182.50\n",
              "7  84.6  41.5  12.6  15.1  7157.16  ...  1065.96  1277.46  522.90  626.65  190.26\n",
              "8  86.8  42.6  12.8  16.0  7534.24  ...  1111.04  1388.80  545.28  681.60  204.80\n",
              "9  88.3  45.7  13.2  17.2  7796.89  ...  1165.56  1518.76  603.24  786.04  227.04\n",
              "\n",
              "[10 rows x 14 columns]"
            ]
          },
          "metadata": {},
          "execution_count": 9
        }
      ]
    },
    {
      "cell_type": "code",
      "source": [
        "n=len(result)\n",
        "n"
      ],
      "metadata": {
        "colab": {
          "base_uri": "https://localhost:8080/"
        },
        "id": "RsMOPqbDphiZ",
        "outputId": "17b341a0-c2e7-4096-da9c-8d24519a1403"
      },
      "execution_count": null,
      "outputs": [
        {
          "output_type": "execute_result",
          "data": {
            "text/plain": [
              "10"
            ]
          },
          "metadata": {},
          "execution_count": 10
        }
      ]
    },
    {
      "cell_type": "code",
      "source": [
        "y_Sr = result['Y'].mean()\n",
        "y_2_Sr=result['Y^2'].mean()\n",
        "Sy_2 = y_2_Sr - (y_Sr)**2\n",
        "Sy = np.sqrt(Sy_2)\n",
        "print(\"y_Sr  = %0.3f \\n\"% y_Sr)\n",
        "print(\" y_2_Sr = %0.3f  \\n\"% y_2_Sr)\n",
        "print(\" Sy_2 = %0.3f  \\n\"% Sy_2)\n",
        "print(\" Sy = %0.3f  \\n\"% Sy)"
      ],
      "metadata": {
        "colab": {
          "base_uri": "https://localhost:8080/"
        },
        "id": "nzJ4acrirZ-F",
        "outputId": "6eb1f8f7-bc3a-4bd9-b594-b06d0634d29f"
      },
      "execution_count": null,
      "outputs": [
        {
          "output_type": "stream",
          "name": "stdout",
          "text": [
            "y_Sr  = 84.270 \n",
            "\n",
            " y_2_Sr = 7105.429  \n",
            "\n",
            " Sy_2 = 3.996  \n",
            "\n",
            " Sy = 1.999  \n",
            "\n"
          ]
        }
      ]
    },
    {
      "cell_type": "code",
      "source": [
        "x1_Sr = result['X1'].mean()\n",
        "x1_2_Sr=result['X1^2'].mean()\n",
        "Sx1_2 = x1_2_Sr - (x1_Sr)**2\n",
        "Sx1 = np.sqrt(Sx1_2)\n",
        "print(\"x1_Sr  = %0.3f \\n\"% x1_Sr)\n",
        "print(\" x1_2_Sr = %0.3f  \\n\"% x1_2_Sr)\n",
        "print(\" Sx1_2 = %0.3f  \\n\"% Sx1_2)\n",
        "print(\" Sx1 = %0.3f  \\n\"% Sx1)"
      ],
      "metadata": {
        "colab": {
          "base_uri": "https://localhost:8080/"
        },
        "id": "51oHAMSPuWed",
        "outputId": "e18df30d-3bbe-4cb1-bfcd-60c7ba324658"
      },
      "execution_count": null,
      "outputs": [
        {
          "output_type": "stream",
          "name": "stdout",
          "text": [
            "x1_Sr  = 39.830 \n",
            "\n",
            " x1_2_Sr = 1593.737  \n",
            "\n",
            " Sx1_2 = 7.308  \n",
            "\n",
            " Sx1 = 2.703  \n",
            "\n"
          ]
        }
      ]
    },
    {
      "cell_type": "code",
      "source": [
        "x2_Sr = result['X2'].mean()\n",
        "x2_2_Sr=result['X2^2'].mean()\n",
        "Sx2_2 = x2_2_Sr - (x2_Sr)**2\n",
        "Sx2 = np.sqrt(Sx2_2)\n",
        "print(\"x2_Sr  = %0.3f \\n\"% x2_Sr)\n",
        "print(\" x2_2_Sr = %0.3f  \\n\"% x2_2_Sr)\n",
        "print(\" Sx2_2 = %0.3f  \\n\"% Sx2_2)\n",
        "print(\" Sx2 = %0.3f  \\n\"% Sx2)"
      ],
      "metadata": {
        "colab": {
          "base_uri": "https://localhost:8080/"
        },
        "id": "Kq-kT8XavZDJ",
        "outputId": "fb8966f0-c967-4359-a644-fdb3f0080d0b"
      },
      "execution_count": null,
      "outputs": [
        {
          "output_type": "stream",
          "name": "stdout",
          "text": [
            "x2_Sr  = 12.170 \n",
            "\n",
            " x2_2_Sr = 148.423  \n",
            "\n",
            " Sx2_2 = 0.314  \n",
            "\n",
            " Sx2 = 0.560  \n",
            "\n"
          ]
        }
      ]
    },
    {
      "cell_type": "code",
      "source": [
        "x3_Sr = result['X3'].mean()\n",
        "x3_2_Sr=result['X3^2'].mean()\n",
        "Sx3_2 = x3_2_Sr - (x3_Sr)**2\n",
        "Sx3 = np.sqrt(Sx3_2)\n",
        "print(\"x3_Sr  = %0.3f \\n\"% x3_Sr)\n",
        "print(\" x3_2_Sr = %0.3f  \\n\"% x3_2_Sr)\n",
        "print(\" Sx3_2 = %0.3f  \\n\"% Sx3_2)\n",
        "print(\" Sx3 = %0.3f  \\n\"% Sx3)"
      ],
      "metadata": {
        "colab": {
          "base_uri": "https://localhost:8080/"
        },
        "id": "-KjUIyniwJ9P",
        "outputId": "1f50ffdf-2490-4961-95c9-9fbc33380045"
      },
      "execution_count": null,
      "outputs": [
        {
          "output_type": "stream",
          "name": "stdout",
          "text": [
            "x3_Sr  = 12.760 \n",
            "\n",
            " x3_2_Sr = 172.304  \n",
            "\n",
            " Sx3_2 = 9.486  \n",
            "\n",
            " Sx3 = 3.080  \n",
            "\n"
          ]
        }
      ]
    },
    {
      "cell_type": "code",
      "source": [
        "yx1_sr=result['YX1'].mean()\n",
        "yx2_sr=result['YX2'].mean()\n",
        "yx3_sr=result['YX3'].mean()\n",
        "print(\"yx1_sr =%0.3f \\n\"% yx1_sr)\n",
        "print(\"yx2_sr =%0.3f \\n\"% yx2_sr)\n",
        "print(\"yx3_sr =%0.3f \\n\"% yx3_sr)"
      ],
      "metadata": {
        "colab": {
          "base_uri": "https://localhost:8080/"
        },
        "id": "RxMT2fZgwv18",
        "outputId": "11b1c7b3-564c-4311-88e8-a763b3585906"
      },
      "execution_count": null,
      "outputs": [
        {
          "output_type": "stream",
          "name": "stdout",
          "text": [
            "yx1_sr =3361.163 \n",
            "\n",
            "yx2_sr =1026.551 \n",
            "\n",
            "yx3_sr =1079.948 \n",
            "\n"
          ]
        }
      ]
    },
    {
      "cell_type": "code",
      "source": [
        "x1x2_sr=result['X1X2'].mean()\n",
        "x1x3_sr=result['X1X3'].mean()\n",
        "x2x3_sr=result['X2X3'].mean()\n",
        "print(\"x1x2_sr =%0.3f \\n\"% x1x2_sr)\n",
        "print(\"x1x3_sr =%0.3f \\n\"% x1x3_sr)\n",
        "print(\"x2x3_sr =%0.3f \\n\"% x2x3_sr)"
      ],
      "metadata": {
        "colab": {
          "base_uri": "https://localhost:8080/"
        },
        "id": "0mkpR4sSxxj_",
        "outputId": "dc68f7a3-8236-4aee-b86a-83bf772b926c"
      },
      "execution_count": null,
      "outputs": [
        {
          "output_type": "stream",
          "name": "stdout",
          "text": [
            "x1x2_sr =486.208 \n",
            "\n",
            "x1x3_sr =515.682 \n",
            "\n",
            "x2x3_sr =156.900 \n",
            "\n"
          ]
        }
      ]
    },
    {
      "cell_type": "code",
      "source": [
        "ryx1 =(yx1_sr - (y_Sr*x1_Sr))/(Sy*Sx1)\n",
        "ryx2 = (yx2_sr - (y_Sr*x2_Sr))/(Sy*Sx2)\n",
        "ryx3 = (yx3_sr - (y_Sr*x3_Sr))/(Sy*Sx3)\n",
        "print(\"ryx1 = %0.3f \\n\"%ryx1)\n",
        "print(\"ryx2 = %0.3f \\n\"%ryx2)\n",
        "print(\"ryx3 = %0.3f \\n\"%ryx3)"
      ],
      "metadata": {
        "colab": {
          "base_uri": "https://localhost:8080/"
        },
        "id": "wzNLwcLd2KVz",
        "outputId": "dd06a4ec-bf4c-4164-a023-de4c82abd7db"
      },
      "execution_count": null,
      "outputs": [
        {
          "output_type": "stream",
          "name": "stdout",
          "text": [
            "ryx1 = 0.868 \n",
            "\n",
            "ryx2 = 0.879 \n",
            "\n",
            "ryx3 = 0.757 \n",
            "\n"
          ]
        }
      ]
    },
    {
      "cell_type": "code",
      "source": [
        "rx1x2 =(x1x2_sr - (x1_Sr*x2_Sr))/(Sx1*Sx2)\n",
        "rx1x3 =(x1x3_sr - (x1_Sr*x3_Sr))/(Sx1*Sx3)\n",
        "rx2x3 =(x2x3_sr - (x2_Sr*x3_Sr))/(Sx2*Sx3)\n",
        "print(\"rx1x2 = %0.3f \\n\"%rx1x2)\n",
        "print(\"rx1x3 = %0.3f \\n\"%rx1x3)\n",
        "print(\"rx2x3 = %0.3f \\n\"%rx2x3)"
      ],
      "metadata": {
        "colab": {
          "base_uri": "https://localhost:8080/"
        },
        "id": "4bMC8pCf3QeO",
        "outputId": "a042c91b-8cae-4a5c-946d-d7f994c07639"
      },
      "execution_count": null,
      "outputs": [
        {
          "output_type": "stream",
          "name": "stdout",
          "text": [
            "rx1x2 = 0.975 \n",
            "\n",
            "rx1x3 = 0.895 \n",
            "\n",
            "rx2x3 = 0.933 \n",
            "\n"
          ]
        }
      ]
    },
    {
      "cell_type": "code",
      "source": [
        "ryx1_2=(ryx1)**2\n",
        "ryx2_2=(ryx2)**2\n",
        "ryx3_2=(ryx3)**2\n",
        "rx1x2_2=(rx1x2)**2\n",
        "rx1x3_2=(rx1x3)**2\n",
        "rx2x3_2=(rx2x3)**2\n",
        "print(\"ryx1_2 = %0.3f \\n\"% ryx1_2)\n",
        "print(\"ryx2_2 = %0.3f \\n\"% ryx2_2)\n",
        "print(\"ryx3_2 = %0.3f \\n\"% ryx3_2)\n",
        "print(\"rx1x2_2 = %0.3f \\n\"% rx1x2_2)\n",
        "print(\"rx1x3_2 = %0.3f \\n\"% rx1x3_2)\n",
        "print(\"rx2x3_2 = %0.3f \\n\"% rx2x3_2)\n"
      ],
      "metadata": {
        "colab": {
          "base_uri": "https://localhost:8080/"
        },
        "id": "l0N8zCkJ1fgl",
        "outputId": "23d5815c-d315-4734-f8c1-18db2fe16685"
      },
      "execution_count": null,
      "outputs": [
        {
          "output_type": "stream",
          "name": "stdout",
          "text": [
            "ryx1_2 = 0.753 \n",
            "\n",
            "ryx2_2 = 0.773 \n",
            "\n",
            "ryx3_2 = 0.574 \n",
            "\n",
            "rx1x2_2 = 0.950 \n",
            "\n",
            "rx1x3_2 = 0.801 \n",
            "\n",
            "rx2x3_2 = 0.871 \n",
            "\n"
          ]
        }
      ]
    },
    {
      "cell_type": "code",
      "source": [
        "rx1x2 = 0.975 \n",
        "print('Значения парного коэффициента корреляции свидетельствует о весьма сильной линейной связи между x1 и x2 \\n')\n",
        "rx1x3 = 0.895 \n",
        "print('Значения парного коэффициента корреляции свидетельствует о весьма сильной линейной связи между x1 и x3 \\n')\n",
        "rx2x3 = 0.933\n",
        "print('Значения парного коэффициента корреляции свидетельствует о весьма сильной линейной связи между x2 и x3 \\n')"
      ],
      "metadata": {
        "colab": {
          "base_uri": "https://localhost:8080/"
        },
        "id": "HJw58cgI8L5o",
        "outputId": "f95f9187-3065-4937-98b3-2dd37d9573f8"
      },
      "execution_count": null,
      "outputs": [
        {
          "output_type": "stream",
          "name": "stdout",
          "text": [
            "Значения парного коэффициента корреляции свидетельствует о весьма сильной линейной связи между x1 и x2 \n",
            "\n",
            "Значения парного коэффициента корреляции свидетельствует о весьма сильной линейной связи между x1 и x3 \n",
            "\n",
            "Значения парного коэффициента корреляции свидетельствует о весьма сильной линейной связи между x2 и x3 \n",
            "\n"
          ]
        }
      ]
    },
    {
      "cell_type": "code",
      "source": [
        "rx1x2 = 0.975\n",
        "if ryx1 < ryx2 :\n",
        "  print('признак Х1 исключается')\n",
        "else:\n",
        "  print('признак Х2 исключается')"
      ],
      "metadata": {
        "id": "Bj_zzU1Og4GB",
        "colab": {
          "base_uri": "https://localhost:8080/"
        },
        "outputId": "0efac277-9f61-4431-b232-8a51024c3b8d"
      },
      "execution_count": null,
      "outputs": [
        {
          "output_type": "stream",
          "name": "stdout",
          "text": [
            "признак Х1 исключается\n"
          ]
        }
      ]
    },
    {
      "cell_type": "code",
      "source": [
        "print('Линейная модель, описывающая корреляционную зависимость, имеет следующий общий вид: ')\n",
        "print('y = a1*x2 + a2*x3 + b')"
      ],
      "metadata": {
        "id": "DHcWVJOhGhdW"
      },
      "execution_count": null,
      "outputs": []
    },
    {
      "cell_type": "markdown",
      "source": [
        "уравнение множественной регрессии"
      ],
      "metadata": {
        "id": "ExkuYHJNHuSo"
      }
    },
    {
      "cell_type": "code",
      "source": [
        "ryx2_2 = 0.773\n",
        "ryx3_2 = 0.574 \n",
        "ryx2 = 0.879 \n",
        "ryx3 = 0.757 \n",
        "rx2x3 = 0.933 \n",
        "rx2x3_2 = 0.871\n",
        "k=n-3\n",
        "alpha = 0.05\n",
        "R_y_x2x3 =np.sqrt((ryx2_2 + ryx3_2 - 2*ryx2*ryx3*rx2x3)/(1-rx2x3_2))\n",
        "print(\"R_y_x2x3 = %0.3f \\n\"%R_y_x2x3)\n",
        "R_= np.sqrt((1-(1-(R_y_x2x3)**2)*(n-1)/(n-k-1)))\n",
        "print(\"R_ = %0.3f \\n\"%R_)\n",
        "Sr=1/np.sqrt(n-1)\n",
        "print(\"Sr = %0.3f \\n\"% Sr)\n",
        "Tвыбр = R_/Sr\n",
        "Tкрит= stats.t.ppf(1-alpha,k)\n",
        "if Tвыбр > Tкрит :\n",
        "  print(f\"{Tвыбр}> {Tкрит }  R_ значим\")\n",
        "else:\n",
        "  print(f\"{Tвыбр} < {Tкрит }  R_ не значим\")"
      ],
      "metadata": {
        "colab": {
          "base_uri": "https://localhost:8080/"
        },
        "id": "a__IX85UHtzo",
        "outputId": "164de267-02e3-4f0a-ee9b-690a23ef5f38"
      },
      "execution_count": null,
      "outputs": [
        {
          "output_type": "stream",
          "name": "stdout",
          "text": [
            "R_y_x2x3 = 0.904 \n",
            "\n",
            "R_ = 0.419 \n",
            "\n",
            "Sr = 0.333 \n",
            "\n",
            "1.2559905476610693 < 1.894578605061305  R_ не значим\n"
          ]
        }
      ]
    },
    {
      "cell_type": "markdown",
      "source": [
        "Найти оценки параметров коэффициентов модели методом наименьших квадратов."
      ],
      "metadata": {
        "id": "SUZZyRq2PixW"
      }
    },
    {
      "cell_type": "code",
      "source": [
        "print('y = a1*x2 + a2*x3 + b \\n')\n",
        "print(\"a1∑X2i + a2∑X3i + nb = ∑Yi \\n\")\n",
        "print(\"a1∑X2i*X3i + a2∑X3i**2 + b∑X3i = ∑Yi*X3i \\n\")\n",
        "print(\"a1∑X2i**2 + a2∑X2i*X3i + b∑X2i = ∑Yi*X2i \\n\")"
      ],
      "metadata": {
        "colab": {
          "base_uri": "https://localhost:8080/"
        },
        "id": "a30tVo61PAmI",
        "outputId": "c7d21e29-3bec-453a-ef2b-c0310a24d5bc"
      },
      "execution_count": null,
      "outputs": [
        {
          "output_type": "stream",
          "name": "stdout",
          "text": [
            "y = a1*x2 + a2*x3 + b \n",
            "\n",
            "a1∑X2i + a2∑X3i + nb = ∑Yi \n",
            "\n",
            "a1∑X2i*X3i + a2∑X3i**2 + b∑X3i = ∑Yi*X3i \n",
            "\n",
            "a1∑X2i**2 + a2∑X2i*X3i + b∑X2i = ∑Yi*X2i \n",
            "\n"
          ]
        }
      ]
    },
    {
      "cell_type": "code",
      "source": [
        "print(f\"{result['X2'].sum()}*a1 + {round(result['X3'].sum(),3)}*a2 + {n}*b = {round(result['Y'].sum(),3)} \\n\")\n",
        "print(f\"{round(result['X2X3'].sum(),3)}*a1 + {round(result['X3^2'].sum(),3)}*a2 + {round(result['X3'].sum(),3)}*b = {round(result['YX3'].sum(),3)} \\n\")\n",
        "print(f\"{round(result['X2^2'].sum(),3)}*a1 + {round(result['X2X3'].sum(),3)}*a2 + {round(result['X2'].sum(),3)}*b = {round(result['YX2'].sum(),3)} \\n\")"
      ],
      "metadata": {
        "colab": {
          "base_uri": "https://localhost:8080/"
        },
        "id": "om6_-JqSSYXP",
        "outputId": "34f38617-9d09-44c8-b399-8f149b2a0203"
      },
      "execution_count": null,
      "outputs": [
        {
          "output_type": "stream",
          "name": "stdout",
          "text": [
            "121.7*a1 + 127.6*a2 + 10*b = 842.7 \n",
            "\n",
            "1569.0*a1 + 1723.04*a2 + 127.6*b = 10799.48 \n",
            "\n",
            "1484.23*a1 + 1569.0*a2 + 121.7*b = 10265.51 \n",
            "\n"
          ]
        }
      ]
    },
    {
      "cell_type": "code",
      "source": [
        "A=[[121.7,127.6,10],[1569.0,1723.04,127.6],[1484.23,1569.0,121.7]]\n",
        "B=[842.7,10799.48,10265.51]\n",
        "W=np.linalg.lstsq(A, B, rcond = -1)[0]\n",
        "print(W)\n",
        "print()\n",
        "print(f\"y = {round(W[0],3)}*X2 - {-round(W[1],3)}*X3 + {round(W[2],3)}\\n\")"
      ],
      "metadata": {
        "colab": {
          "base_uri": "https://localhost:8080/"
        },
        "id": "2D2YRFJ8VHeH",
        "outputId": "64631b0d-d840-4c92-eba8-6624458dc0d6"
      },
      "execution_count": null,
      "outputs": [
        {
          "output_type": "stream",
          "name": "stdout",
          "text": [
            "[ 4.76417345 -0.3174366  30.3405002 ]\n",
            "\n",
            "y = 4.764*X2 - 0.317*X3 + 30.341\n",
            "\n"
          ]
        }
      ]
    },
    {
      "cell_type": "markdown",
      "source": [
        "3.\tПроверить адекватность полученного уравнения тремя способами: с помощью коэффициента детерминации R2, по критерию Фишера и с помощью средней ошибки аппроксимации"
      ],
      "metadata": {
        "id": "XvCQBT7pafga"
      }
    },
    {
      "cell_type": "code",
      "source": [
        "R_2 = (R_y_x2x3)**2\n",
        "print(\"R_2 = %0.3f \"%R_2)\n",
        "print(f\"Следовательно, факторные признаки, отобранные в модель, влияют на результативный в пределах {round(R_2*100,3)}%\\nЭто очень сильное влияние. Согласно закону Парето степень влияния должна быть не меньше 80%\")\n",
        "print()\n",
        "v1=2\n",
        "v2=n-k-1\n",
        "Fнабл =round(((n-v1-1)*(R_y_x2x3)**2)/(v1*(1-(R_y_x2x3)**2)),4)\n",
        "Fкрит =round(stats.f.ppf(0.95,v1,v2),4)\n",
        "if Fкрит < Fнабл:\n",
        "  print(f\"{Fкрит} < {Fнабл} , То с вероятностью 0,95 гипотеза о статистической значимости эмпирических данных принимается\")\n",
        "else:\n",
        "  print(f\"{Fкрит} > {Fнабл} , То с вероятностью 0,95 гипотеза о статистической значимости эмпирических данных не принимается\")\n",
        "\n",
        "\n"
      ],
      "metadata": {
        "colab": {
          "base_uri": "https://localhost:8080/"
        },
        "id": "lIs7GjonaeWt",
        "outputId": "6d933423-641f-4480-8631-b26c27c43355"
      },
      "execution_count": null,
      "outputs": [
        {
          "output_type": "stream",
          "name": "stdout",
          "text": [
            "R_2 = 0.817 \n",
            "Следовательно, факторные признаки, отобранные в модель, влияют на результативный в пределах 81.673%\n",
            "Это очень сильное влияние. Согласно закону Парето степень влияния должна быть не меньше 80%\n",
            "\n",
            "0.0526 < 15.5974 , То с вероятностью 0,95 гипотеза о статистической значимости эмпирических данных принимается\n"
          ]
        }
      ]
    },
    {
      "cell_type": "code",
      "source": [
        "print('y = 4.764*X2 - 0.317*X3 + 30.341')\n",
        "data2={'Y':[df1.loc[j,'Y'] for j in range(len(df1))],\n",
        "       'X2':[df1.loc[j ,'X2']for j in range(len(df1))],\n",
        "       'X3':[df1.loc[j,'X3']for j in range(len(df1))],\n",
        "       'yi_m':[4.764*df1.loc[j,'X2']-0.317*df1.loc[j,'X3']+30.341 for j in range(len(df1))]}\n",
        "\n"
      ],
      "metadata": {
        "colab": {
          "base_uri": "https://localhost:8080/"
        },
        "id": "i_9P5n8dm__B",
        "outputId": "4e9dc3c6-51cd-442c-8ab4-cdaf4bf53829"
      },
      "execution_count": null,
      "outputs": [
        {
          "output_type": "stream",
          "name": "stdout",
          "text": [
            "y = 4.764*X2 - 0.317*X3 + 30.341\n"
          ]
        }
      ]
    },
    {
      "cell_type": "code",
      "source": [
        "df3=pd.DataFrame(data2)\n",
        "df3"
      ],
      "metadata": {
        "colab": {
          "base_uri": "https://localhost:8080/",
          "height": 363
        },
        "id": "kw3hOcQOrsiJ",
        "outputId": "e617ff7c-6fc5-4af7-fc88-2c02d7640f40"
      },
      "execution_count": null,
      "outputs": [
        {
          "output_type": "execute_result",
          "data": {
            "text/html": [
              "<div>\n",
              "<style scoped>\n",
              "    .dataframe tbody tr th:only-of-type {\n",
              "        vertical-align: middle;\n",
              "    }\n",
              "\n",
              "    .dataframe tbody tr th {\n",
              "        vertical-align: top;\n",
              "    }\n",
              "\n",
              "    .dataframe thead th {\n",
              "        text-align: right;\n",
              "    }\n",
              "</style>\n",
              "<table border=\"1\" class=\"dataframe\">\n",
              "  <thead>\n",
              "    <tr style=\"text-align: right;\">\n",
              "      <th></th>\n",
              "      <th>Y</th>\n",
              "      <th>X2</th>\n",
              "      <th>X3</th>\n",
              "      <th>yi_m</th>\n",
              "    </tr>\n",
              "  </thead>\n",
              "  <tbody>\n",
              "    <tr>\n",
              "      <th>0</th>\n",
              "      <td>81.5</td>\n",
              "      <td>11.6</td>\n",
              "      <td>9.5</td>\n",
              "      <td>82.5919</td>\n",
              "    </tr>\n",
              "    <tr>\n",
              "      <th>1</th>\n",
              "      <td>82.3</td>\n",
              "      <td>11.5</td>\n",
              "      <td>10.6</td>\n",
              "      <td>81.7668</td>\n",
              "    </tr>\n",
              "    <tr>\n",
              "      <th>2</th>\n",
              "      <td>83.8</td>\n",
              "      <td>11.5</td>\n",
              "      <td>7.8</td>\n",
              "      <td>82.6544</td>\n",
              "    </tr>\n",
              "    <tr>\n",
              "      <th>3</th>\n",
              "      <td>83.1</td>\n",
              "      <td>11.8</td>\n",
              "      <td>9.1</td>\n",
              "      <td>83.6715</td>\n",
              "    </tr>\n",
              "    <tr>\n",
              "      <th>4</th>\n",
              "      <td>84.3</td>\n",
              "      <td>12.0</td>\n",
              "      <td>13.6</td>\n",
              "      <td>83.1978</td>\n",
              "    </tr>\n",
              "    <tr>\n",
              "      <th>5</th>\n",
              "      <td>82.6</td>\n",
              "      <td>12.2</td>\n",
              "      <td>14.1</td>\n",
              "      <td>83.9921</td>\n",
              "    </tr>\n",
              "    <tr>\n",
              "      <th>6</th>\n",
              "      <td>85.4</td>\n",
              "      <td>12.5</td>\n",
              "      <td>14.6</td>\n",
              "      <td>85.2628</td>\n",
              "    </tr>\n",
              "    <tr>\n",
              "      <th>7</th>\n",
              "      <td>84.6</td>\n",
              "      <td>12.6</td>\n",
              "      <td>15.1</td>\n",
              "      <td>85.5807</td>\n",
              "    </tr>\n",
              "    <tr>\n",
              "      <th>8</th>\n",
              "      <td>86.8</td>\n",
              "      <td>12.8</td>\n",
              "      <td>16.0</td>\n",
              "      <td>86.2482</td>\n",
              "    </tr>\n",
              "    <tr>\n",
              "      <th>9</th>\n",
              "      <td>88.3</td>\n",
              "      <td>13.2</td>\n",
              "      <td>17.2</td>\n",
              "      <td>87.7734</td>\n",
              "    </tr>\n",
              "  </tbody>\n",
              "</table>\n",
              "</div>"
            ],
            "text/plain": [
              "      Y    X2    X3     yi_m\n",
              "0  81.5  11.6   9.5  82.5919\n",
              "1  82.3  11.5  10.6  81.7668\n",
              "2  83.8  11.5   7.8  82.6544\n",
              "3  83.1  11.8   9.1  83.6715\n",
              "4  84.3  12.0  13.6  83.1978\n",
              "5  82.6  12.2  14.1  83.9921\n",
              "6  85.4  12.5  14.6  85.2628\n",
              "7  84.6  12.6  15.1  85.5807\n",
              "8  86.8  12.8  16.0  86.2482\n",
              "9  88.3  13.2  17.2  87.7734"
            ]
          },
          "metadata": {},
          "execution_count": 105
        }
      ]
    },
    {
      "cell_type": "code",
      "source": [
        "diff = [ abs(df3.loc[i,'Y']-df3.loc[i,'yi_m'])/df3.loc[i,'Y'] for i in range(len(df3))] \n",
        "df3['diff'] = diff\n",
        "df3"
      ],
      "metadata": {
        "colab": {
          "base_uri": "https://localhost:8080/",
          "height": 363
        },
        "id": "n1qwn4YUs9xY",
        "outputId": "7cedde5c-5bd5-4fc7-8a0f-8d231e4e862f"
      },
      "execution_count": null,
      "outputs": [
        {
          "output_type": "execute_result",
          "data": {
            "text/html": [
              "<div>\n",
              "<style scoped>\n",
              "    .dataframe tbody tr th:only-of-type {\n",
              "        vertical-align: middle;\n",
              "    }\n",
              "\n",
              "    .dataframe tbody tr th {\n",
              "        vertical-align: top;\n",
              "    }\n",
              "\n",
              "    .dataframe thead th {\n",
              "        text-align: right;\n",
              "    }\n",
              "</style>\n",
              "<table border=\"1\" class=\"dataframe\">\n",
              "  <thead>\n",
              "    <tr style=\"text-align: right;\">\n",
              "      <th></th>\n",
              "      <th>Y</th>\n",
              "      <th>X2</th>\n",
              "      <th>X3</th>\n",
              "      <th>yi_m</th>\n",
              "      <th>diff</th>\n",
              "    </tr>\n",
              "  </thead>\n",
              "  <tbody>\n",
              "    <tr>\n",
              "      <th>0</th>\n",
              "      <td>81.5</td>\n",
              "      <td>11.6</td>\n",
              "      <td>9.5</td>\n",
              "      <td>82.5919</td>\n",
              "      <td>0.013398</td>\n",
              "    </tr>\n",
              "    <tr>\n",
              "      <th>1</th>\n",
              "      <td>82.3</td>\n",
              "      <td>11.5</td>\n",
              "      <td>10.6</td>\n",
              "      <td>81.7668</td>\n",
              "      <td>0.006479</td>\n",
              "    </tr>\n",
              "    <tr>\n",
              "      <th>2</th>\n",
              "      <td>83.8</td>\n",
              "      <td>11.5</td>\n",
              "      <td>7.8</td>\n",
              "      <td>82.6544</td>\n",
              "      <td>0.013671</td>\n",
              "    </tr>\n",
              "    <tr>\n",
              "      <th>3</th>\n",
              "      <td>83.1</td>\n",
              "      <td>11.8</td>\n",
              "      <td>9.1</td>\n",
              "      <td>83.6715</td>\n",
              "      <td>0.006877</td>\n",
              "    </tr>\n",
              "    <tr>\n",
              "      <th>4</th>\n",
              "      <td>84.3</td>\n",
              "      <td>12.0</td>\n",
              "      <td>13.6</td>\n",
              "      <td>83.1978</td>\n",
              "      <td>0.013075</td>\n",
              "    </tr>\n",
              "    <tr>\n",
              "      <th>5</th>\n",
              "      <td>82.6</td>\n",
              "      <td>12.2</td>\n",
              "      <td>14.1</td>\n",
              "      <td>83.9921</td>\n",
              "      <td>0.016854</td>\n",
              "    </tr>\n",
              "    <tr>\n",
              "      <th>6</th>\n",
              "      <td>85.4</td>\n",
              "      <td>12.5</td>\n",
              "      <td>14.6</td>\n",
              "      <td>85.2628</td>\n",
              "      <td>0.001607</td>\n",
              "    </tr>\n",
              "    <tr>\n",
              "      <th>7</th>\n",
              "      <td>84.6</td>\n",
              "      <td>12.6</td>\n",
              "      <td>15.1</td>\n",
              "      <td>85.5807</td>\n",
              "      <td>0.011592</td>\n",
              "    </tr>\n",
              "    <tr>\n",
              "      <th>8</th>\n",
              "      <td>86.8</td>\n",
              "      <td>12.8</td>\n",
              "      <td>16.0</td>\n",
              "      <td>86.2482</td>\n",
              "      <td>0.006357</td>\n",
              "    </tr>\n",
              "    <tr>\n",
              "      <th>9</th>\n",
              "      <td>88.3</td>\n",
              "      <td>13.2</td>\n",
              "      <td>17.2</td>\n",
              "      <td>87.7734</td>\n",
              "      <td>0.005964</td>\n",
              "    </tr>\n",
              "  </tbody>\n",
              "</table>\n",
              "</div>"
            ],
            "text/plain": [
              "      Y    X2    X3     yi_m      diff\n",
              "0  81.5  11.6   9.5  82.5919  0.013398\n",
              "1  82.3  11.5  10.6  81.7668  0.006479\n",
              "2  83.8  11.5   7.8  82.6544  0.013671\n",
              "3  83.1  11.8   9.1  83.6715  0.006877\n",
              "4  84.3  12.0  13.6  83.1978  0.013075\n",
              "5  82.6  12.2  14.1  83.9921  0.016854\n",
              "6  85.4  12.5  14.6  85.2628  0.001607\n",
              "7  84.6  12.6  15.1  85.5807  0.011592\n",
              "8  86.8  12.8  16.0  86.2482  0.006357\n",
              "9  88.3  13.2  17.2  87.7734  0.005964"
            ]
          },
          "metadata": {},
          "execution_count": 111
        }
      ]
    },
    {
      "cell_type": "markdown",
      "source": [
        "значение средней ошибки аппроксимации"
      ],
      "metadata": {
        "id": "6SzzQcrxwHwX"
      }
    },
    {
      "cell_type": "code",
      "source": [
        "e=round(df3['diff'].sum()/n,4)\n",
        "print(f\"{e*100}% Это говорит о не очень высокой точности модели.\")"
      ],
      "metadata": {
        "colab": {
          "base_uri": "https://localhost:8080/"
        },
        "id": "2ghqVoNLvNU0",
        "outputId": "63655c17-c78e-4fc8-c348-6e2eadef9911"
      },
      "execution_count": 118,
      "outputs": [
        {
          "output_type": "stream",
          "name": "stdout",
          "text": [
            "0.96% Это говорит о не очень высокой точности модели.\n"
          ]
        }
      ]
    },
    {
      "cell_type": "markdown",
      "source": [
        "4.\tНайти значения коэффициентов эластичности."
      ],
      "metadata": {
        "id": "3Oaset0v0mfl"
      }
    },
    {
      "cell_type": "code",
      "source": [
        "a1=4.764\n",
        "a2=- 0.317\n",
        "print(\"Средние коэффициенты эластичности равны :\")\n",
        "print(f\"K1={round(a1*(x2_Sr/y_Sr),4)}\")\n",
        "print(f\"K2={round((a2)*(x3_Sr/y_Sr),4)}\")"
      ],
      "metadata": {
        "colab": {
          "base_uri": "https://localhost:8080/"
        },
        "id": "bpJZPxbx0lHJ",
        "outputId": "400b6d5f-84a0-48a3-c08c-45a52a191f8a"
      },
      "execution_count": 123,
      "outputs": [
        {
          "output_type": "stream",
          "name": "stdout",
          "text": [
            "Средние коэффициенты эластичности равны :\n",
            "K1=0.688\n",
            "K2=-0.048\n"
          ]
        }
      ]
    }
  ]
}